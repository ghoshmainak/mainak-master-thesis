{
 "cells": [
  {
   "cell_type": "code",
   "execution_count": 2,
   "metadata": {},
   "outputs": [],
   "source": [
    "import datasetUtil as util"
   ]
  },
  {
   "cell_type": "code",
   "execution_count": 2,
   "metadata": {},
   "outputs": [
    {
     "name": "stdout",
     "output_type": "stream",
     "text": [
      "['nypost.json', 'huffingtonpost.json']\n"
     ]
    }
   ],
   "source": [
    "print(util.whichDatasetHasNoComment(\"../data/raw_source_data/english/unbiased/newssites/\"))"
   ]
  },
  {
   "cell_type": "code",
   "execution_count": 3,
   "metadata": {},
   "outputs": [
    {
     "name": "stdout",
     "output_type": "stream",
     "text": [
      "['organicauthority.json', 'organicconsumers.json']\n"
     ]
    }
   ],
   "source": [
    "print(util.whichDatasetHasNoComment(\"../data/raw_source_data/english/biased/\"))"
   ]
  },
  {
   "cell_type": "markdown",
   "metadata": {},
   "source": [
    "### German Data"
   ]
  },
  {
   "cell_type": "code",
   "execution_count": 3,
   "metadata": {},
   "outputs": [
    {
     "name": "stdout",
     "output_type": "stream",
     "text": [
      "[]\n"
     ]
    }
   ],
   "source": [
    "print(util.whichDatasetHasNoComment(\"../data/raw_source_data/german/biased/blogs\"))"
   ]
  },
  {
   "cell_type": "code",
   "execution_count": 4,
   "metadata": {},
   "outputs": [
    {
     "name": "stdout",
     "output_type": "stream",
     "text": [
      "[]\n"
     ]
    }
   ],
   "source": [
    "print(util.whichDatasetHasNoComment(\"../data/raw_source_data/german/biased/forums\"))"
   ]
  },
  {
   "cell_type": "code",
   "execution_count": 6,
   "metadata": {},
   "outputs": [
    {
     "name": "stdout",
     "output_type": "stream",
     "text": [
      "['forum_ernaehrung.json']\n"
     ]
    }
   ],
   "source": [
    "print(util.whichDatasetHasNoComment(\"../data/raw_source_data/german/unbiased/forums\"))"
   ]
  },
  {
   "cell_type": "code",
   "execution_count": 7,
   "metadata": {},
   "outputs": [
    {
     "name": "stdout",
     "output_type": "stream",
     "text": [
      "['krone.json', 'wdr.json', 'swr.json', 'huffingtonpost_de.json', 'salzburgcom.json', 'luzernzeitung.json', 'ndr.json']\n"
     ]
    }
   ],
   "source": [
    "print(util.whichDatasetHasNoComment(\"../data/raw_source_data/german/unbiased/newssites\"))"
   ]
  },
  {
   "cell_type": "code",
   "execution_count": null,
   "metadata": {},
   "outputs": [],
   "source": []
  }
 ],
 "metadata": {
  "kernelspec": {
   "display_name": "Python 3",
   "language": "python",
   "name": "python3"
  },
  "language_info": {
   "codemirror_mode": {
    "name": "ipython",
    "version": 3
   },
   "file_extension": ".py",
   "mimetype": "text/x-python",
   "name": "python",
   "nbconvert_exporter": "python",
   "pygments_lexer": "ipython3",
   "version": "3.7.3"
  }
 },
 "nbformat": 4,
 "nbformat_minor": 2
}
