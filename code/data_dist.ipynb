{
 "cells": [
  {
   "cell_type": "code",
   "execution_count": 13,
   "metadata": {},
   "outputs": [
    {
     "name": "stdout",
     "output_type": "stream",
     "text": [
      "Using TensorFlow backend.\n",
      "Creating vocab ...\n",
      "1701167 total words, 38953 unique words\n",
      "keep the top 19000 words\n",
      "Reading dataset ...\n",
      "train set\n",
      "<num> hit rate: 0.00%, <unk> hit rate: 1.39%\n",
      "Number of training examples:  69342\n",
      "Length of vocab:  19003\n",
      "2019-10-13 17:55:18.257679: I tensorflow/stream_executor/cuda/cuda_gpu_executor.cc:964] successful NUMA node read from SysFS had negative value (-1), but there must be at least one NUMA node, so returning NUMA node zero\n",
      "2019-10-13 17:55:18.258274: I tensorflow/core/common_runtime/gpu/gpu_device.cc:1432] Found device 0 with properties: \n",
      "name: GeForce GTX TITAN X major: 5 minor: 2 memoryClockRate(GHz): 1.076\n",
      "pciBusID: 0000:01:00.0\n",
      "totalMemory: 11.92GiB freeMemory: 11.81GiB\n",
      "2019-10-13 17:55:18.258296: I tensorflow/core/common_runtime/gpu/gpu_device.cc:1511] Adding visible gpu devices: 0\n",
      "2019-10-13 17:55:18.504614: I tensorflow/core/common_runtime/gpu/gpu_device.cc:982] Device interconnect StreamExecutor with strength 1 edge matrix:\n",
      "2019-10-13 17:55:18.504666: I tensorflow/core/common_runtime/gpu/gpu_device.cc:988]      0 \n",
      "2019-10-13 17:55:18.504677: I tensorflow/core/common_runtime/gpu/gpu_device.cc:1001] 0:   N \n",
      "2019-10-13 17:55:18.504971: I tensorflow/core/common_runtime/gpu/gpu_device.cc:1115] Created TensorFlow device (/job:localhost/replica:0/task:0/device:GPU:0 with 11426 MB memory) -> physical GPU (device: 0, name: GeForce GTX TITAN X, pci bus id: 0000:01:00.0, compute capability: 5.2)\n",
      "2019-10-13 17:55:18.780313: E tensorflow/core/grappler/optimizers/dependency_optimizer.cc:666] Iteration = 0, topological sort failed with message: The graph couldn't be sorted in topological order.\n",
      "2019-10-13 17:55:18.780890: E tensorflow/core/grappler/optimizers/dependency_optimizer.cc:666] Iteration = 1, topological sort failed with message: The graph couldn't be sorted in topological order.\n",
      "2019-10-13 17:55:18.785539: E tensorflow/core/grappler/optimizers/dependency_optimizer.cc:666] Iteration = 0, topological sort failed with message: The graph couldn't be sorted in topological order.\n",
      "2019-10-13 17:55:18.786035: E tensorflow/core/grappler/optimizers/dependency_optimizer.cc:666] Iteration = 1, topological sort failed with message: The graph couldn't be sorted in topological order.\n"
     ]
    }
   ],
   "source": [
    "!python data_dist.py --lang en -v 19000 --maxlen 150 -e 300 --epochs 15 -b 64 -n 10 -emb_tech fasttext -as 46 -o aspect_dist_46.csv"
   ]
  },
  {
   "cell_type": "code",
   "execution_count": null,
   "metadata": {},
   "outputs": [],
   "source": []
  }
 ],
 "metadata": {
  "kernelspec": {
   "display_name": "Python 3",
   "language": "python",
   "name": "python3"
  },
  "language_info": {
   "codemirror_mode": {
    "name": "ipython",
    "version": 3
   },
   "file_extension": ".py",
   "mimetype": "text/x-python",
   "name": "python",
   "nbconvert_exporter": "python",
   "pygments_lexer": "ipython3",
   "version": "3.5.2"
  }
 },
 "nbformat": 4,
 "nbformat_minor": 2
}
