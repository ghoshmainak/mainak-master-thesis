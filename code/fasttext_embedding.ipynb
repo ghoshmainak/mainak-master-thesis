{
 "cells": [
  {
   "cell_type": "code",
   "execution_count": 2,
   "metadata": {
    "colab": {
     "base_uri": "https://localhost:8080/",
     "height": 34
    },
    "colab_type": "code",
    "executionInfo": {
     "elapsed": 706,
     "status": "ok",
     "timestamp": 1561111593202,
     "user": {
      "displayName": "Mainak Ghosh",
      "photoUrl": "",
      "userId": "09457005437453189534"
     },
     "user_tz": -120
    },
    "id": "FSE_RKBmDUe4",
    "outputId": "f1497375-6386-42d7-ef5f-001990cd1c59"
   },
   "outputs": [
    {
     "name": "stdout",
     "output_type": "stream",
     "text": [
      "Drive already mounted at /content/drive; to attempt to forcibly remount, call drive.mount(\"/content/drive\", force_remount=True).\n"
     ]
    }
   ],
   "source": [
    "from google.colab import drive\n",
    "drive.mount('/content/drive')"
   ]
  },
  {
   "cell_type": "code",
   "execution_count": 3,
   "metadata": {
    "colab": {
     "base_uri": "https://localhost:8080/",
     "height": 51
    },
    "colab_type": "code",
    "executionInfo": {
     "elapsed": 2493,
     "status": "ok",
     "timestamp": 1561111598920,
     "user": {
      "displayName": "Mainak Ghosh",
      "photoUrl": "",
      "userId": "09457005437453189534"
     },
     "user_tz": -120
    },
    "id": "8bJat_cHDfNR",
    "outputId": "aeb8d2fc-895a-4e1b-e1b2-cfcce16feea7"
   },
   "outputs": [
    {
     "name": "stdout",
     "output_type": "stream",
     "text": [
      "/content/drive/My Drive/Colab Notebooks/Master Thesis/master-thesis\n",
      "code  data  output  papers  post_train_output  preprocessed_data\n"
     ]
    }
   ],
   "source": [
    "%cd /content/drive/My\\ Drive/Colab\\ Notebooks/'Master Thesis'/master-thesis\n",
    "!ls"
   ]
  },
  {
   "cell_type": "code",
   "execution_count": 4,
   "metadata": {
    "colab": {
     "base_uri": "https://localhost:8080/",
     "height": 34
    },
    "colab_type": "code",
    "executionInfo": {
     "elapsed": 771,
     "status": "ok",
     "timestamp": 1561111602713,
     "user": {
      "displayName": "Mainak Ghosh",
      "photoUrl": "",
      "userId": "09457005437453189534"
     },
     "user_tz": -120
    },
    "id": "XnYOn4VFDqis",
    "outputId": "9e8a11df-9aae-4f3d-c939-e17df1d71c9f"
   },
   "outputs": [
    {
     "name": "stdout",
     "output_type": "stream",
     "text": [
      "/content/drive/My Drive/Colab Notebooks/Master Thesis/master-thesis/code\n"
     ]
    }
   ],
   "source": [
    "%cd code "
   ]
  },
  {
   "cell_type": "code",
   "execution_count": 11,
   "metadata": {
    "colab": {
     "base_uri": "https://localhost:8080/",
     "height": 119
    },
    "colab_type": "code",
    "executionInfo": {
     "elapsed": 4460,
     "status": "ok",
     "timestamp": 1561112093417,
     "user": {
      "displayName": "Mainak Ghosh",
      "photoUrl": "",
      "userId": "09457005437453189534"
     },
     "user_tz": -120
    },
    "id": "ok3Bud0MEm4-",
    "outputId": "9437f655-e547-4a46-fbec-45794323611f"
   },
   "outputs": [
    {
     "name": "stdout",
     "output_type": "stream",
     "text": [
      "check.py\t\t  my_layers.py\t train.py\n",
      "dataset_statistic.ipynb   optimizers.py  util.py\n",
      "datasetUtil.py\t\t  preprocess.py  word_embedding.py\n",
      "extract_comment.ipynb\t  __pycache__\t word_embed_reader.py\n",
      "fasttext_embedding.ipynb  reader.py\n",
      "model.py\t\t  train.ipynb\n"
     ]
    }
   ],
   "source": [
    "!ls"
   ]
  },
  {
   "cell_type": "code",
   "execution_count": 20,
   "metadata": {
    "colab": {
     "base_uri": "https://localhost:8080/",
     "height": 139
    },
    "colab_type": "code",
    "executionInfo": {
     "elapsed": 86144,
     "status": "ok",
     "timestamp": 1561143818843,
     "user": {
      "displayName": "Mainak Ghosh",
      "photoUrl": "",
      "userId": "09457005437453189534"
     },
     "user_tz": -120
    },
    "id": "b2xIz4bJ13-r",
    "outputId": "810a714a-58cc-4831-c972-b6d100f8c598"
   },
   "outputs": [
    {
     "name": "stdout",
     "output_type": "stream",
     "text": [
      "Using TensorFlow backend.\n",
      "Pre-training fasttext word embeddings ...\n",
      "/usr/local/lib/python3.6/dist-packages/smart_open/smart_open_lib.py:398: UserWarning: This function is deprecated, use smart_open.open instead. See the migration notes for details: https://github.com/RaRe-Technologies/smart_open/blob/master/README.rst#migrating-to-the-new-open-function\n",
      "  'See the migration notes for details: %s' % _MIGRATION_NOTES_URL\n",
      "WARNING: Logging before flag parsing goes to stderr.\n",
      "W0621 19:03:35.445767 139794888603520 base_any2vec.py:1386] under 10 jobs per worker: consider setting a smaller `batch_words' for smoother alpha decay\n"
     ]
    }
   ],
   "source": [
    "!python word_embedding.py -emb_dim 128 -emb_name \"fasttext\" -ft_method 'skipgram'"
   ]
  },
  {
   "cell_type": "code",
   "execution_count": 0,
   "metadata": {
    "colab": {},
    "colab_type": "code",
    "id": "ZkAddFfx17Xe"
   },
   "outputs": [],
   "source": []
  }
 ],
 "metadata": {
  "accelerator": "GPU",
  "colab": {
   "collapsed_sections": [],
   "name": "fasttext_embedding.ipynb",
   "provenance": [],
   "version": "0.3.2"
  },
  "kernelspec": {
   "display_name": "Python 3",
   "language": "python",
   "name": "python3"
  },
  "language_info": {
   "codemirror_mode": {
    "name": "ipython",
    "version": 3
   },
   "file_extension": ".py",
   "mimetype": "text/x-python",
   "name": "python",
   "nbconvert_exporter": "python",
   "pygments_lexer": "ipython3",
   "version": "3.5.2"
  }
 },
 "nbformat": 4,
 "nbformat_minor": 1
}
