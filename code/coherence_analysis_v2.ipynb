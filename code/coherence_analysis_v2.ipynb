{
 "cells": [
  {
   "cell_type": "code",
   "execution_count": 3,
   "metadata": {
    "colab": {
     "base_uri": "https://localhost:8080/",
     "height": 34
    },
    "colab_type": "code",
    "executionInfo": {
     "elapsed": 442,
     "status": "ok",
     "timestamp": 1561475938655,
     "user": {
      "displayName": "Mainak Ghosh",
      "photoUrl": "",
      "userId": "09457005437453189534"
     },
     "user_tz": -120
    },
    "id": "t-V5yRt6mR6r",
    "outputId": "9e10ab18-efa3-4a6e-c536-6adee540f89b"
   },
   "outputs": [
    {
     "name": "stdout",
     "output_type": "stream",
     "text": [
      "/content/drive/My Drive/Colab Notebooks/nlp-lab-group13/code\n"
     ]
    }
   ],
   "source": [
    "%cd /content/drive/My\\ Drive/Colab\\ Notebooks/nlp-lab-group13/code"
   ]
  },
  {
   "cell_type": "code",
   "execution_count": 22,
   "metadata": {
    "colab": {},
    "colab_type": "code",
    "id": "AwpqEHfwma7Z"
   },
   "outputs": [],
   "source": [
    "import os, fnmatch\n",
    "def find(pattern, path):\n",
    "    result = []\n",
    "    for root, dirs, files in os.walk(path):\n",
    "        for name in files:\n",
    "            if fnmatch.fnmatch(name, pattern):\n",
    "                result.append(os.path.join(root, name))\n",
    "    return result"
   ]
  },
  {
   "cell_type": "code",
   "execution_count": 34,
   "metadata": {
    "colab": {
     "base_uri": "https://localhost:8080/",
     "height": 68
    },
    "colab_type": "code",
    "executionInfo": {
     "elapsed": 571,
     "status": "ok",
     "timestamp": 1561485029754,
     "user": {
      "displayName": "Mainak Ghosh",
      "photoUrl": "",
      "userId": "09457005437453189534"
     },
     "user_tz": -120
    },
    "id": "XF_CJH4PL1O4",
    "outputId": "1a74d7f2-4684-4209-ac21-feb75bcd678c"
   },
   "outputs": [],
   "source": [
    "all_files=sorted(find('aspect*','../post_train_output/bilingual/MUSE_supervised/en_2_de/epoch_15_filtered_fasttext'))"
   ]
  },
  {
   "cell_type": "code",
   "execution_count": 35,
   "metadata": {},
   "outputs": [
    {
     "data": {
      "text/plain": [
       "['../post_train_output/bilingual/MUSE_supervised/en_2_de/epoch_15_filtered_fasttext/aspect_300_10.log',\n",
       " '../post_train_output/bilingual/MUSE_supervised/en_2_de/epoch_15_filtered_fasttext/aspect_300_13.log',\n",
       " '../post_train_output/bilingual/MUSE_supervised/en_2_de/epoch_15_filtered_fasttext/aspect_300_16.log',\n",
       " '../post_train_output/bilingual/MUSE_supervised/en_2_de/epoch_15_filtered_fasttext/aspect_300_19.log',\n",
       " '../post_train_output/bilingual/MUSE_supervised/en_2_de/epoch_15_filtered_fasttext/aspect_300_22.log',\n",
       " '../post_train_output/bilingual/MUSE_supervised/en_2_de/epoch_15_filtered_fasttext/aspect_300_24.log',\n",
       " '../post_train_output/bilingual/MUSE_supervised/en_2_de/epoch_15_filtered_fasttext/aspect_300_25.log',\n",
       " '../post_train_output/bilingual/MUSE_supervised/en_2_de/epoch_15_filtered_fasttext/aspect_300_28.log',\n",
       " '../post_train_output/bilingual/MUSE_supervised/en_2_de/epoch_15_filtered_fasttext/aspect_300_29.log',\n",
       " '../post_train_output/bilingual/MUSE_supervised/en_2_de/epoch_15_filtered_fasttext/aspect_300_30.log',\n",
       " '../post_train_output/bilingual/MUSE_supervised/en_2_de/epoch_15_filtered_fasttext/aspect_300_31.log',\n",
       " '../post_train_output/bilingual/MUSE_supervised/en_2_de/epoch_15_filtered_fasttext/aspect_300_34.log',\n",
       " '../post_train_output/bilingual/MUSE_supervised/en_2_de/epoch_15_filtered_fasttext/aspect_300_35.log',\n",
       " '../post_train_output/bilingual/MUSE_supervised/en_2_de/epoch_15_filtered_fasttext/aspect_300_37.log',\n",
       " '../post_train_output/bilingual/MUSE_supervised/en_2_de/epoch_15_filtered_fasttext/aspect_300_40.log',\n",
       " '../post_train_output/bilingual/MUSE_supervised/en_2_de/epoch_15_filtered_fasttext/aspect_300_43.log',\n",
       " '../post_train_output/bilingual/MUSE_supervised/en_2_de/epoch_15_filtered_fasttext/aspect_300_46.log',\n",
       " '../post_train_output/bilingual/MUSE_supervised/en_2_de/epoch_15_filtered_fasttext/aspect_300_49.log',\n",
       " '../post_train_output/bilingual/MUSE_supervised/en_2_de/epoch_15_filtered_fasttext/aspect_300_50.log',\n",
       " '../post_train_output/bilingual/MUSE_supervised/en_2_de/epoch_15_filtered_fasttext/aspect_300_7.log',\n",
       " '../post_train_output/bilingual/MUSE_supervised/en_2_de/epoch_15_filtered_fasttext/aspect_300_8.log',\n",
       " '../post_train_output/bilingual/MUSE_supervised/en_2_de/epoch_15_filtered_fasttext/aspect_300_9.log']"
      ]
     },
     "execution_count": 35,
     "metadata": {},
     "output_type": "execute_result"
    }
   ],
   "source": [
    "all_files"
   ]
  },
  {
   "cell_type": "code",
   "execution_count": 38,
   "metadata": {
    "colab": {
     "base_uri": "https://localhost:8080/",
     "height": 71
    },
    "colab_type": "code",
    "executionInfo": {
     "elapsed": 1722255,
     "status": "ok",
     "timestamp": 1561493621528,
     "user": {
      "displayName": "Mainak Ghosh",
      "photoUrl": "",
      "userId": "09457005437453189534"
     },
     "user_tz": -120
    },
    "id": "b5HTrivNpIRd",
    "outputId": "8b13e268-e9cf-49d6-cb5c-e6e84dc28190"
   },
   "outputs": [
    {
     "name": "stdout",
     "output_type": "stream",
     "text": [
      "./coherence_score.py -f ../post_train_output/german/glove/epoch_15/aspect_300_10.log -c ../preprocessed_data/german/whole_comments.txt >> ../post_train_output/german/glove/epoch_15/coherence_result.txt\n",
      "completed\n",
      "./coherence_score.py -f ../post_train_output/german/glove/epoch_15/aspect_300_13.log -c ../preprocessed_data/german/whole_comments.txt >> ../post_train_output/german/glove/epoch_15/coherence_result.txt\n",
      "completed\n",
      "./coherence_score.py -f ../post_train_output/german/glove/epoch_15/aspect_300_16.log -c ../preprocessed_data/german/whole_comments.txt >> ../post_train_output/german/glove/epoch_15/coherence_result.txt\n",
      "completed\n",
      "./coherence_score.py -f ../post_train_output/german/glove/epoch_15/aspect_300_19.log -c ../preprocessed_data/german/whole_comments.txt >> ../post_train_output/german/glove/epoch_15/coherence_result.txt\n",
      "completed\n",
      "./coherence_score.py -f ../post_train_output/german/glove/epoch_15/aspect_300_22.log -c ../preprocessed_data/german/whole_comments.txt >> ../post_train_output/german/glove/epoch_15/coherence_result.txt\n",
      "completed\n",
      "./coherence_score.py -f ../post_train_output/german/glove/epoch_15/aspect_300_24.log -c ../preprocessed_data/german/whole_comments.txt >> ../post_train_output/german/glove/epoch_15/coherence_result.txt\n",
      "completed\n",
      "./coherence_score.py -f ../post_train_output/german/glove/epoch_15/aspect_300_25.log -c ../preprocessed_data/german/whole_comments.txt >> ../post_train_output/german/glove/epoch_15/coherence_result.txt\n",
      "completed\n",
      "./coherence_score.py -f ../post_train_output/german/glove/epoch_15/aspect_300_28.log -c ../preprocessed_data/german/whole_comments.txt >> ../post_train_output/german/glove/epoch_15/coherence_result.txt\n",
      "completed\n",
      "./coherence_score.py -f ../post_train_output/german/glove/epoch_15/aspect_300_29.log -c ../preprocessed_data/german/whole_comments.txt >> ../post_train_output/german/glove/epoch_15/coherence_result.txt\n",
      "completed\n",
      "./coherence_score.py -f ../post_train_output/german/glove/epoch_15/aspect_300_30.log -c ../preprocessed_data/german/whole_comments.txt >> ../post_train_output/german/glove/epoch_15/coherence_result.txt\n",
      "completed\n",
      "./coherence_score.py -f ../post_train_output/german/glove/epoch_15/aspect_300_31.log -c ../preprocessed_data/german/whole_comments.txt >> ../post_train_output/german/glove/epoch_15/coherence_result.txt\n",
      "completed\n",
      "./coherence_score.py -f ../post_train_output/german/glove/epoch_15/aspect_300_34.log -c ../preprocessed_data/german/whole_comments.txt >> ../post_train_output/german/glove/epoch_15/coherence_result.txt\n",
      "completed\n",
      "./coherence_score.py -f ../post_train_output/german/glove/epoch_15/aspect_300_35.log -c ../preprocessed_data/german/whole_comments.txt >> ../post_train_output/german/glove/epoch_15/coherence_result.txt\n",
      "completed\n",
      "./coherence_score.py -f ../post_train_output/german/glove/epoch_15/aspect_300_37.log -c ../preprocessed_data/german/whole_comments.txt >> ../post_train_output/german/glove/epoch_15/coherence_result.txt\n",
      "completed\n",
      "./coherence_score.py -f ../post_train_output/german/glove/epoch_15/aspect_300_40.log -c ../preprocessed_data/german/whole_comments.txt >> ../post_train_output/german/glove/epoch_15/coherence_result.txt\n",
      "completed\n",
      "./coherence_score.py -f ../post_train_output/german/glove/epoch_15/aspect_300_43.log -c ../preprocessed_data/german/whole_comments.txt >> ../post_train_output/german/glove/epoch_15/coherence_result.txt\n",
      "completed\n",
      "./coherence_score.py -f ../post_train_output/german/glove/epoch_15/aspect_300_46.log -c ../preprocessed_data/german/whole_comments.txt >> ../post_train_output/german/glove/epoch_15/coherence_result.txt\n",
      "completed\n",
      "./coherence_score.py -f ../post_train_output/german/glove/epoch_15/aspect_300_49.log -c ../preprocessed_data/german/whole_comments.txt >> ../post_train_output/german/glove/epoch_15/coherence_result.txt\n",
      "completed\n",
      "./coherence_score.py -f ../post_train_output/german/glove/epoch_15/aspect_300_50.log -c ../preprocessed_data/german/whole_comments.txt >> ../post_train_output/german/glove/epoch_15/coherence_result.txt\n",
      "completed\n",
      "./coherence_score.py -f ../post_train_output/german/glove/epoch_15/aspect_300_7.log -c ../preprocessed_data/german/whole_comments.txt >> ../post_train_output/german/glove/epoch_15/coherence_result.txt\n",
      "completed\n",
      "./coherence_score.py -f ../post_train_output/german/glove/epoch_15/aspect_300_8.log -c ../preprocessed_data/german/whole_comments.txt >> ../post_train_output/german/glove/epoch_15/coherence_result.txt\n",
      "completed\n",
      "./coherence_score.py -f ../post_train_output/german/glove/epoch_15/aspect_300_9.log -c ../preprocessed_data/german/whole_comments.txt >> ../post_train_output/german/glove/epoch_15/coherence_result.txt\n",
      "completed\n"
     ]
    }
   ],
   "source": [
    "import os\n",
    "import sys\n",
    "not_executed=[]\n",
    "for file in all_files:\n",
    "    command=\"./coherence_score.py -f \"+file+\" -c \"+\"../preprocessed_data/german/whole_comments.txt >> ../post_train_output/german/glove/epoch_15/coherence_result.txt\"\n",
    "    print(command)\n",
    "    result=os.system('%s %s' % (sys.executable, command))\n",
    "    if result==0:\n",
    "        print(\"completed\")\n",
    "    else:\n",
    "        not_executed.append(file)"
   ]
  },
  {
   "cell_type": "code",
   "execution_count": 39,
   "metadata": {},
   "outputs": [
    {
     "data": {
      "text/plain": [
       "[]"
      ]
     },
     "execution_count": 39,
     "metadata": {},
     "output_type": "execute_result"
    }
   ],
   "source": [
    "not_executed"
   ]
  },
  {
   "cell_type": "code",
   "execution_count": 9,
   "metadata": {},
   "outputs": [],
   "source": [
    "!python ./coherence_score.py -f ../post_train_output/german/glove/epoch_15/aspect_300_50.log -c ../preprocessed_data/german/whole_comments.txt >> ../post_train_output/german/glove/epoch_15/coherence_result.txt"
   ]
  },
  {
   "cell_type": "code",
   "execution_count": 18,
   "metadata": {},
   "outputs": [
    {
     "name": "stdout",
     "output_type": "stream",
     "text": [
      "starting  file0\n",
      "starting  file1\n",
      "starting  file2\n",
      "starting  file3\n",
      "starting  file4\n",
      "starting  file5\n",
      "starting  file6\n",
      "starting  file7\n",
      "starting  file8\n",
      "starting  file10\n",
      "starting  file9\n",
      "starting  file11\n",
      "starting  file12\n",
      "starting  file13\n",
      "starting  file14\n",
      "starting  file17\n",
      "starting  file15\n",
      "starting  file16\n",
      "starting  file18\n",
      "starting  file19\n",
      "starting  file21\n",
      "starting  file20\n",
      "Exiting  file19\n",
      "Exiting  file20\n",
      "Exiting  file21\n",
      "Exiting  file0\n",
      "Exiting  file1\n",
      "Exiting  file2\n",
      "Exiting  file3\n",
      "Exiting  file4\n",
      "Exiting  file5\n",
      "Exiting  file6\n",
      "Exiting  file7\n",
      "Exiting  file8\n",
      "Exiting  file10\n",
      "Exiting  file9\n",
      "Exiting  file12\n",
      "Exiting  file11\n",
      "Exiting  file13\n",
      "Exiting  file14\n",
      "Exiting  file15\n",
      "Exiting  file16\n",
      "Exiting  file18\n",
      "Exiting  file17\n"
     ]
    },
    {
     "data": {
      "text/plain": [
       "<DictProxy object, typeid 'dict' at 0x7fd566079cc0>"
      ]
     },
     "execution_count": 18,
     "metadata": {},
     "output_type": "execute_result"
    }
   ],
   "source": [
    "import coherence_score as cscore\n",
    "import multiprocessing as mp\n",
    "\n",
    "def worker(file,result):\n",
    "    print(\"starting \",mp.current_process().name)\n",
    "    size,_,_,score,_=cscore.getCoherenceScore(file, '../preprocessed_data/bilingual/whole_comments_filtered.txt')\n",
    "    #size,_,_,score,_=cscore.getCoherenceScore(file, '../coherence_analysis_ref/processed_comments.txt')\n",
    "    result[size]=score\n",
    "    print(\"Exiting \",mp.current_process().name)\n",
    "jobs = []\n",
    "result = mp.Manager().dict()\n",
    "for i, file in enumerate(all_files):\n",
    "    p = mp.Process(name='file'+str(i), target=worker, args=(file,result))\n",
    "    jobs.append(p)\n",
    "    p.start()\n",
    "for job in jobs:\n",
    "    job.join()\n",
    "result"
   ]
  },
  {
   "cell_type": "code",
   "execution_count": 19,
   "metadata": {},
   "outputs": [
    {
     "name": "stdout",
     "output_type": "stream",
     "text": [
      "7 -4683.23\n",
      "8 -4620.64\n",
      "9 -4853.47\n",
      "10 -4689.1\n",
      "13 -4838.18\n",
      "16 -4753.21\n",
      "19 -4824.64\n",
      "22 -4795.16\n",
      "24 -4771.64\n",
      "25 -4894.64\n",
      "28 -4737.2\n",
      "29 -4735.64\n",
      "30 -4653.48\n",
      "31 -4724.86\n",
      "34 -4636.89\n",
      "35 -4740.37\n",
      "37 -4703.49\n",
      "40 -4598.84\n",
      "43 -4568.85\n",
      "46 -4651.9\n",
      "49 -4611.71\n",
      "50 -4614.96\n"
     ]
    }
   ],
   "source": [
    "with open('../post_train_output/bilingual/MUSE_supervised/de_2_en/epoch_15_filtered_w2v/coherence_result.txt','w') as fout:\n",
    "    for key, value in result.items():\n",
    "        print(key, value)\n",
    "        fout.write(str(key)+\":\"+str(value)+\"\\n\")"
   ]
  },
  {
   "cell_type": "markdown",
   "metadata": {},
   "source": [
    "## https://github.com/jhlau/topic_interpretability"
   ]
  },
  {
   "cell_type": "code",
   "execution_count": 66,
   "metadata": {},
   "outputs": [
    {
     "name": "stdout",
     "output_type": "stream",
     "text": [
      "CompletedProcess(args=['./run-oc.sh'], returncode=0)\n",
      "['0.006', '0.005']\n",
      "CompletedProcess(args=['./run-oc.sh'], returncode=0)\n",
      "['0.010', '0.004']\n",
      "CompletedProcess(args=['./run-oc.sh'], returncode=0)\n",
      "['0.014', '0.004']\n",
      "CompletedProcess(args=['./run-oc.sh'], returncode=0)\n",
      "['0.012', '0.002']\n",
      "CompletedProcess(args=['./run-oc.sh'], returncode=0)\n",
      "['0.009', '0.004']\n",
      "CompletedProcess(args=['./run-oc.sh'], returncode=0)\n",
      "['0.015', '0.007']\n",
      "CompletedProcess(args=['./run-oc.sh'], returncode=0)\n",
      "['0.016', '0.007']\n",
      "CompletedProcess(args=['./run-oc.sh'], returncode=0)\n",
      "['0.019', '0.007']\n",
      "CompletedProcess(args=['./run-oc.sh'], returncode=0)\n",
      "['0.014', '0.006']\n",
      "CompletedProcess(args=['./run-oc.sh'], returncode=0)\n",
      "['0.014', '0.007']\n",
      "CompletedProcess(args=['./run-oc.sh'], returncode=0)\n",
      "['0.010', '0.005']\n",
      "CompletedProcess(args=['./run-oc.sh'], returncode=0)\n",
      "['0.014', '0.007']\n",
      "CompletedProcess(args=['./run-oc.sh'], returncode=0)\n",
      "['0.009', '0.006']\n",
      "CompletedProcess(args=['./run-oc.sh'], returncode=0)\n",
      "['0.015', '0.006']\n",
      "CompletedProcess(args=['./run-oc.sh'], returncode=0)\n",
      "['0.015', '0.008']\n",
      "CompletedProcess(args=['./run-oc.sh'], returncode=0)\n",
      "['0.019', '0.007']\n",
      "CompletedProcess(args=['./run-oc.sh'], returncode=0)\n",
      "['0.015', '0.007']\n",
      "CompletedProcess(args=['./run-oc.sh'], returncode=0)\n",
      "['0.015', '0.004']\n",
      "CompletedProcess(args=['./run-oc.sh'], returncode=0)\n",
      "['0.015', '0.004']\n",
      "CompletedProcess(args=['./run-oc.sh'], returncode=0)\n",
      "['0.007', '0.004']\n",
      "CompletedProcess(args=['./run-oc.sh'], returncode=0)\n",
      "['0.013', '0.003']\n",
      "CompletedProcess(args=['./run-oc.sh'], returncode=0)\n",
      "['0.014', '0.007']\n"
     ]
    }
   ],
   "source": [
    "import coherence_score as cscore\n",
    "import codecs\n",
    "import subprocess\n",
    "import os\n",
    "fout_c = codecs.open('../post_train_output/fasttext/full_trained/epoch_15_filtered/coherence_score_npmi_amazon.csv','w',encoding='utf-8')\n",
    "fout_c.write('Number of clusters, Avarge Mean Score, Avarge Median Score\\n')\n",
    "for file in all_files:\n",
    "    get_dir = os.path.dirname(file)\n",
    "    wordlist = cscore.getWordList(file)\n",
    "    fout = codecs.open(get_dir+'/topics.txt','w',encoding='utf-8')\n",
    "    for w in wordlist:\n",
    "        fout.write(\" \".join(w[:20])+'\\n')\n",
    "    fout.close()\n",
    "    subprocess.run(['cp',get_dir+'/topics.txt','../topic_interpretability/data/'])\n",
    "    curr_dir = os.getcwd()\n",
    "    os.chdir('../topic_interpretability/')\n",
    "    r=subprocess.run(['./run-oc.sh'])\n",
    "    print(r)\n",
    "    fin = codecs.open('results/topics-oc.txt','r',encoding='utf-8')\n",
    "    last_2_lines = fin.readlines()[-2:]\n",
    "    fin.close()\n",
    "    os.chdir(curr_dir)\n",
    "    data = [line.strip().split()[-1:][0] for line in last_2_lines]\n",
    "    print(data)\n",
    "    fout_c.write('{}, {}, {}\\n'.format(len(wordlist),float(data[0]),float(data[1])))\n",
    "fout_c.close()"
   ]
  },
  {
   "cell_type": "code",
   "execution_count": null,
   "metadata": {},
   "outputs": [],
   "source": [
    "!rm -rf ../topic_interpretability/ref_corpus/organic_food\n",
    "!mkdir ../topic_interpretability/ref_corpus/organic_food"
   ]
  },
  {
   "cell_type": "markdown",
   "metadata": {},
   "source": [
    "### corpus partition"
   ]
  },
  {
   "cell_type": "code",
   "execution_count": 18,
   "metadata": {},
   "outputs": [],
   "source": [
    "import coherence_score as cscore\n",
    "import codecs\n",
    "#full_corpus = cscore.commentset('../coherence_analysis_ref/processed_comments.txt')\n",
    "full_corpus = cscore.commentset('../preprocessed_data/whole_comments.txt')\n",
    "if len(full_corpus)%50000:\n",
    "    iteration = len(full_corpus)//50000+1\n",
    "else:\n",
    "    iteration = len(full_corpus)//50000\n",
    "for i in range(iteration):\n",
    "    fout=codecs.open('../topic_interpretability/ref_corpus/organic_food/corpus.{}'.format(i),'w',encoding='utf-8')\n",
    "    for comment in full_corpus[i*50000:50000]:\n",
    "        fout.write(comment+'\\n')\n",
    "    fout.close()"
   ]
  },
  {
   "cell_type": "markdown",
   "metadata": {},
   "source": [
    "### Glove based cosine similarity"
   ]
  },
  {
   "cell_type": "code",
   "execution_count": 1,
   "metadata": {},
   "outputs": [
    {
     "name": "stderr",
     "output_type": "stream",
     "text": [
      "Using TensorFlow backend.\n"
     ]
    }
   ],
   "source": [
    "from word_embedding import Glove\n",
    "gv = Glove()\n",
    "gv.convert_glove_2_w2v_type2('../preprocessed_data/german/glove/pretrained/vectors.txt','../preprocessed_data/german/glove/pretrained/glove.300d_w2v_format.txt')"
   ]
  },
  {
   "cell_type": "code",
   "execution_count": 68,
   "metadata": {},
   "outputs": [],
   "source": [
    "import gensim\n",
    "model = gensim.models.KeyedVectors.load_word2vec_format('../preprocessed_data/german/glove/pretrained/glove.300d_w2v_format.txt')"
   ]
  },
  {
   "cell_type": "code",
   "execution_count": 77,
   "metadata": {},
   "outputs": [
    {
     "name": "stderr",
     "output_type": "stream",
     "text": [
      "/usr/local/lib/python3.5/dist-packages/ipykernel_launcher.py:12: DeprecationWarning: Call to deprecated `wv` (Attribute will be removed in 4.0.0, use self instead).\n",
      "  if sys.path[0] == '':\n"
     ]
    }
   ],
   "source": [
    "import os\n",
    "import numpy as np\n",
    "import coherence_score as cscore\n",
    "import codecs\n",
    "fout_c = codecs.open('../post_train_output/german/w2v/fine_tuned/epoch_15_filtered_ortho_procrustes/coherence_wetc_glove.csv','w',encoding='utf-8')\n",
    "fout_c.write('Number of clusters, Avarge Mean Score, Avarge Median Score\\n')\n",
    "for file in all_files:\n",
    "    get_dir = os.path.dirname(file)\n",
    "    wordlist = cscore.getWordList(file)\n",
    "    cluster_cs = []\n",
    "    for word_cluster in wordlist:\n",
    "        vector_matrix = [model[word] for word in word_cluster if word in model.wv]\n",
    "        vector_matrix = np.array(vector_matrix)\n",
    "        vector_matrix /= np.linalg.norm(vector_matrix, axis =-1, keepdims=True)\n",
    "        #print(np.linalg.norm(vector_matrix)**2)\n",
    "        eeT = np.dot(vector_matrix,vector_matrix.T)\n",
    "        cs = (np.sum(eeT)-50)/(2*50*49)\n",
    "        #print(cs)\n",
    "        cluster_cs.append(float(cs))\n",
    "    fout_c.write('{}, {}, {}\\n'.format(len(wordlist), np.mean(cluster_cs), np.median(cluster_cs)))\n",
    "fout_c.close()"
   ]
  },
  {
   "cell_type": "markdown",
   "metadata": {},
   "source": [
    "## fasttext based cosine similarity"
   ]
  },
  {
   "cell_type": "code",
   "execution_count": 78,
   "metadata": {},
   "outputs": [],
   "source": [
    "import gensim\n",
    "model = gensim.models.KeyedVectors.load_word2vec_format('/sharedfolder/fasttext/german/cc.de.300.vec.gz', binary=False)"
   ]
  },
  {
   "cell_type": "code",
   "execution_count": 93,
   "metadata": {},
   "outputs": [
    {
     "name": "stderr",
     "output_type": "stream",
     "text": [
      "/usr/local/lib/python3.5/dist-packages/ipykernel_launcher.py:12: DeprecationWarning: Call to deprecated `wv` (Attribute will be removed in 4.0.0, use self instead).\n",
      "  if sys.path[0] == '':\n"
     ]
    }
   ],
   "source": [
    "import os\n",
    "import numpy as np\n",
    "import coherence_score as cscore\n",
    "import codecs\n",
    "fout_c = codecs.open('../post_train_output/german/glove/fine_tuned/epoch_15_filtered/coherence_wetc_fasttext.csv','w',encoding='utf-8')\n",
    "fout_c.write('Number of clusters, Avarge Mean Score, Avarge Median Score\\n')\n",
    "for file in all_files:\n",
    "    get_dir = os.path.dirname(file)\n",
    "    wordlist = cscore.getWordList(file)\n",
    "    cluster_cs = []\n",
    "    for word_cluster in wordlist:\n",
    "        vector_matrix = [model[word] for word in word_cluster if word in model.wv]\n",
    "        vector_matrix = np.array(vector_matrix)\n",
    "        vector_matrix /= np.linalg.norm(vector_matrix, axis =-1, keepdims=True)\n",
    "        #print(np.linalg.norm(vector_matrix)**2)\n",
    "        eeT = np.dot(vector_matrix,vector_matrix.T)\n",
    "        cs = (np.sum(eeT)-50)/(2*50*49)\n",
    "        #print(cs)\n",
    "        cluster_cs.append(float(cs))\n",
    "    fout_c.write('{}, {}, {}\\n'.format(len(wordlist), np.mean(cluster_cs), np.median(cluster_cs)))\n",
    "fout_c.close()"
   ]
  },
  {
   "cell_type": "markdown",
   "metadata": {},
   "source": [
    "## w2v based cosine similarity"
   ]
  },
  {
   "cell_type": "code",
   "execution_count": 51,
   "metadata": {},
   "outputs": [],
   "source": [
    "import gensim\n",
    "model = gensim.models.KeyedVectors.load_word2vec_format('/sharedfolder/w2v/german/dewiki_20180420_300d.txt.bz2', binary=False)"
   ]
  },
  {
   "cell_type": "code",
   "execution_count": 67,
   "metadata": {},
   "outputs": [
    {
     "name": "stderr",
     "output_type": "stream",
     "text": [
      "/usr/local/lib/python3.5/dist-packages/ipykernel_launcher.py:12: DeprecationWarning: Call to deprecated `wv` (Attribute will be removed in 4.0.0, use self instead).\n",
      "  if sys.path[0] == '':\n"
     ]
    }
   ],
   "source": [
    "import os\n",
    "import numpy as np\n",
    "import coherence_score as cscore\n",
    "import codecs\n",
    "fout_c = codecs.open('../post_train_output/german/glove/full_trained/epoch_15_filtered/coherence_wetc_w2v.csv','w',encoding='utf-8')\n",
    "fout_c.write('Number of clusters, Avarge Mean Score, Avarge Median Score\\n')\n",
    "for file in all_files:\n",
    "    get_dir = os.path.dirname(file)\n",
    "    wordlist = cscore.getWordList(file)\n",
    "    cluster_cs = []\n",
    "    for word_cluster in wordlist:\n",
    "        vector_matrix = [model[word] for word in word_cluster if word in model.wv]\n",
    "        vector_matrix = np.array(vector_matrix)\n",
    "        vector_matrix /= np.linalg.norm(vector_matrix, axis =-1, keepdims=True)\n",
    "        #print(np.linalg.norm(vector_matrix)**2)\n",
    "        eeT = np.dot(vector_matrix,vector_matrix.T)\n",
    "        cs = (np.sum(eeT)-50)/(2*50*49)\n",
    "        #print(cs)\n",
    "        cluster_cs.append(float(cs))\n",
    "    fout_c.write('{}, {}, {}\\n'.format(len(wordlist), np.mean(cluster_cs), np.median(cluster_cs)))\n",
    "fout_c.close()"
   ]
  },
  {
   "cell_type": "markdown",
   "metadata": {},
   "source": [
    "## Bilingual"
   ]
  },
  {
   "cell_type": "code",
   "execution_count": 36,
   "metadata": {},
   "outputs": [],
   "source": [
    "import gensim\n",
    "model = gensim.models.KeyedVectors.load_word2vec_format('../MUSE_embedding/supervised/en_2_de/fasttext_multi_lingual_embed.txt', binary=False)"
   ]
  },
  {
   "cell_type": "code",
   "execution_count": 37,
   "metadata": {},
   "outputs": [
    {
     "name": "stderr",
     "output_type": "stream",
     "text": [
      "/usr/local/lib/python3.5/dist-packages/ipykernel_launcher.py:12: DeprecationWarning: Call to deprecated `wv` (Attribute will be removed in 4.0.0, use self instead).\n",
      "  if sys.path[0] == '':\n"
     ]
    }
   ],
   "source": [
    "import os\n",
    "import numpy as np\n",
    "import coherence_score as cscore\n",
    "import codecs\n",
    "fout_c = codecs.open('../post_train_output/bilingual/MUSE_supervised/en_2_de/epoch_15_filtered_fasttext/coherence_wetc_w2v.csv','w',encoding='utf-8')\n",
    "fout_c.write('Number of clusters, Avarge Mean Score, Avarge Median Score\\n')\n",
    "for file in all_files:\n",
    "    get_dir = os.path.dirname(file)\n",
    "    wordlist = cscore.getWordList(file)\n",
    "    cluster_cs = []\n",
    "    for word_cluster in wordlist:\n",
    "        vector_matrix = [model[word] for word in word_cluster if word in model.wv]\n",
    "        vector_matrix = np.array(vector_matrix)\n",
    "        vector_matrix /= np.linalg.norm(vector_matrix, axis =-1, keepdims=True)\n",
    "        #print(np.linalg.norm(vector_matrix)**2)\n",
    "        eeT = np.dot(vector_matrix,vector_matrix.T)\n",
    "        cs = (np.sum(eeT)-50)/(2*50*49)\n",
    "        #print(cs)\n",
    "        cluster_cs.append(float(cs))\n",
    "    fout_c.write('{}, {}, {}\\n'.format(len(wordlist), np.mean(cluster_cs), np.median(cluster_cs)))\n",
    "fout_c.close()"
   ]
  },
  {
   "cell_type": "code",
   "execution_count": 19,
   "metadata": {},
   "outputs": [
    {
     "data": {
      "image/png": "[encoded data removed]",
      "text/plain": [
       "<Figure size 432x288 with 1 Axes>"
      ]
     },
     "metadata": {},
     "output_type": "display_data"
    }
   ],
   "source": [
    "%matplotlib inline\n",
    "import matplotlib.pyplot as plt\n",
    "from pylab import rcParams\n",
    "plt.style.use('seaborn-whitegrid')\n",
    "best_cluster_coherence = [-4068.28, -3620.76, -4540.97, -4702.36, -4492.43, -5300.95, -4450.52, -4399.63, -5062.47, -4897.05, -4155.9, -4431.21, -4372.56, -4336.56, -5541.11, -4257.09, -4750.69, -4326.95, -4561.15, -4099.47, -4274.16, -4789.41, -4584.8, -4862.97, -4127.47, -4272.18, -4336.53, -3841.31, -4553.22, -5014.98, -4911.49, -4041.81, -4504.0, -4115.66, -4367.43, -4410.34, -3430.41, -3518.71, -4298.75, -5692.0, -4153.2, -4283.22, -4230.18, -5553.68, -4633.32, -3894.25, -4920.71, -4632.32, -4046.58, -3776.09]\n",
    "plt.plot(range(1,51),best_cluster_coherence, 'o') \n",
    "plt.ylabel('Cohernce score') \n",
    "plt.xlabel('Cluster number within cluster size: {}'.format(len(best_cluster_coherence)))\n",
    "rcParams['figure.figsize'] = 20, 10\n",
    "plt.show()"
   ]
  },
  {
   "cell_type": "markdown",
   "metadata": {},
   "source": [
    "\n",
    "##    [1] Exploring the Space of Topic Coherence Measures by Michael Röder, Andreas Both, and Alexander Hinneburg in Proceedings of the eight International Conference on Web Search and Data Mining, Shanghai, February 2-6\n",
    "##    [2] Palmetto project page on AKSW research group web site\n"
   ]
  },
  {
   "cell_type": "code",
   "execution_count": 1,
   "metadata": {},
   "outputs": [],
   "source": [
    "import pickle\n",
    "with open('../data/wiki.texts', 'rb') as fin:\n",
    "    wiki_text = pickle.load(fin)\n",
    "with open('../data/wiki.dictionary', 'rb') as fin:\n",
    "    wiki_dict = pickle.load(fin)"
   ]
  },
  {
   "cell_type": "code",
   "execution_count": 5,
   "metadata": {},
   "outputs": [
    {
     "ename": "ValueError",
     "evalue": "could not convert string to float: \"<html><body><h1>504 Gateway Time-out</h1>\\nThe server didn't respond in time.\\n</body></html>\\n\\n\"",
     "output_type": "error",
     "traceback": [
      "\u001b[0;31m---------------------------------------------------------------------------\u001b[0m",
      "\u001b[0;31mValueError\u001b[0m                                Traceback (most recent call last)",
      "\u001b[0;32m<ipython-input-5-af45bad2e72a>\u001b[0m in \u001b[0;36m<module>\u001b[0;34m\u001b[0m\n\u001b[1;32m      1\u001b[0m \u001b[0;32mimport\u001b[0m \u001b[0mcoherence_score\u001b[0m \u001b[0;32mas\u001b[0m \u001b[0mcscore\u001b[0m\u001b[0;34m\u001b[0m\u001b[0m\n\u001b[0;32m----> 2\u001b[0;31m \u001b[0mcscore\u001b[0m\u001b[0;34m.\u001b[0m\u001b[0mgetPalmettoCoherenceScoreGivenFile\u001b[0m\u001b[0;34m(\u001b[0m\u001b[0;34m\"../post_train_output/w2v/fine_tuned/epoch_15_filtered_ortho_procrustes/aspect_300_49.log\"\u001b[0m\u001b[0;34m,\u001b[0m \u001b[0;34m'npmi'\u001b[0m\u001b[0;34m)\u001b[0m\u001b[0;34m\u001b[0m\u001b[0m\n\u001b[0m",
      "\u001b[0;32m/sharedfolder/master-thesis/code/coherence_score.py\u001b[0m in \u001b[0;36mgetPalmettoCoherenceScoreGivenFile\u001b[0;34m(filename, method)\u001b[0m\n\u001b[1;32m    135\u001b[0m         \u001b[0mpayload\u001b[0m\u001b[0;34m[\u001b[0m\u001b[0;34m\"words\"\u001b[0m\u001b[0;34m]\u001b[0m \u001b[0;34m=\u001b[0m \u001b[0;34m\" \"\u001b[0m\u001b[0;34m.\u001b[0m\u001b[0mjoin\u001b[0m\u001b[0;34m(\u001b[0m\u001b[0mwords\u001b[0m\u001b[0;34m[\u001b[0m\u001b[0;36m0\u001b[0m\u001b[0;34m:\u001b[0m\u001b[0;36m10\u001b[0m\u001b[0;34m]\u001b[0m\u001b[0;34m)\u001b[0m\u001b[0;34m\u001b[0m\u001b[0m\n\u001b[1;32m    136\u001b[0m         \u001b[0mr\u001b[0m \u001b[0;34m=\u001b[0m \u001b[0mrequests\u001b[0m\u001b[0;34m.\u001b[0m\u001b[0mget\u001b[0m\u001b[0;34m(\u001b[0m\u001b[0;34m\"http://palmetto.aksw.org/palmetto-webapp/service/\"\u001b[0m\u001b[0;34m+\u001b[0m\u001b[0mmethod\u001b[0m\u001b[0;34m,\u001b[0m \u001b[0mparams\u001b[0m\u001b[0;34m=\u001b[0m\u001b[0mpayload\u001b[0m\u001b[0;34m)\u001b[0m\u001b[0;34m\u001b[0m\u001b[0m\n\u001b[0;32m--> 137\u001b[0;31m         \u001b[0;32mif\u001b[0m \u001b[0mr\u001b[0m\u001b[0;34m.\u001b[0m\u001b[0mok\u001b[0m\u001b[0;34m:\u001b[0m\u001b[0;34m\u001b[0m\u001b[0m\n\u001b[0m\u001b[1;32m    138\u001b[0m             \u001b[0mcoherence_score_list\u001b[0m\u001b[0;34m.\u001b[0m\u001b[0mappend\u001b[0m\u001b[0;34m(\u001b[0m\u001b[0mfloat\u001b[0m\u001b[0;34m(\u001b[0m\u001b[0mr\u001b[0m\u001b[0;34m.\u001b[0m\u001b[0mtext\u001b[0m\u001b[0;34m)\u001b[0m\u001b[0;34m)\u001b[0m\u001b[0;34m\u001b[0m\u001b[0m\n\u001b[1;32m    139\u001b[0m         \u001b[0mcluster_size\u001b[0m \u001b[0;34m+=\u001b[0m \u001b[0;36m1\u001b[0m\u001b[0;34m\u001b[0m\u001b[0m\n",
      "\u001b[0;31mValueError\u001b[0m: could not convert string to float: \"<html><body><h1>504 Gateway Time-out</h1>\\nThe server didn't respond in time.\\n</body></html>\\n\\n\""
     ]
    }
   ],
   "source": [
    "import coherence_score as cscore\n",
    "cscore.getPalmettoCoherenceScoreGivenFile(\"../post_train_output/w2v/fine_tuned/epoch_15_filtered_ortho_procrustes/aspect_300_49.log\", 'npmi')"
   ]
  },
  {
   "cell_type": "code",
   "execution_count": 7,
   "metadata": {},
   "outputs": [
    {
     "name": "stdout",
     "output_type": "stream",
     "text": [
      "starting  file0\n",
      "starting  file1\n",
      "starting  file2\n",
      "starting  file3\n",
      "starting  file4\n",
      "starting  file5\n",
      "starting  file6\n",
      "starting  file7\n",
      "starting  file8\n",
      "starting  file9\n",
      "starting  file10\n",
      "starting  file11\n",
      "starting  file12\n",
      "starting  file13\n",
      "starting  file14\n",
      "starting  file15\n",
      "starting  file16\n",
      "starting  file17\n",
      "starting  file18\n",
      "starting  file19\n",
      "starting  file20\n",
      "starting  file21\n"
     ]
    },
    {
     "name": "stderr",
     "output_type": "stream",
     "text": [
      "Process file10:\n",
      "Traceback (most recent call last):\n",
      "  File \"/usr/lib/python3.5/multiprocessing/process.py\", line 249, in _bootstrap\n",
      "    self.run()\n",
      "  File \"/usr/lib/python3.5/multiprocessing/process.py\", line 93, in run\n",
      "    self._target(*self._args, **self._kwargs)\n",
      "Process file12:\n",
      "  File \"<ipython-input-7-dbd164639f12>\", line 6, in worker\n",
      "    size, score = cscore.getPalmettoCoherenceScoreGivenFile(file, 'cv')\n",
      "  File \"/sharedfolder/master-thesis/code/coherence_score.py\", line 137, in getPalmettoCoherenceScoreGivenFile\n",
      "    if r.ok:\n",
      "Traceback (most recent call last):\n",
      "ValueError: could not convert string to float: \"<html><body><h1>504 Gateway Time-out</h1>\\nThe server didn't respond in time.\\n</body></html>\\n\\n\"\n",
      "  File \"/usr/lib/python3.5/multiprocessing/process.py\", line 249, in _bootstrap\n",
      "    self.run()\n",
      "  File \"/usr/lib/python3.5/multiprocessing/process.py\", line 93, in run\n",
      "    self._target(*self._args, **self._kwargs)\n",
      "  File \"<ipython-input-7-dbd164639f12>\", line 6, in worker\n",
      "    size, score = cscore.getPalmettoCoherenceScoreGivenFile(file, 'cv')\n",
      "  File \"/sharedfolder/master-thesis/code/coherence_score.py\", line 137, in getPalmettoCoherenceScoreGivenFile\n",
      "    if r.ok:\n",
      "ValueError: could not convert string to float: \"<html><body><h1>504 Gateway Time-out</h1>\\nThe server didn't respond in time.\\n</body></html>\\n\\n\"\n",
      "Process file6:\n",
      "Traceback (most recent call last):\n",
      "  File \"/usr/lib/python3.5/multiprocessing/process.py\", line 249, in _bootstrap\n",
      "    self.run()\n",
      "  File \"/usr/lib/python3.5/multiprocessing/process.py\", line 93, in run\n",
      "    self._target(*self._args, **self._kwargs)\n",
      "  File \"<ipython-input-7-dbd164639f12>\", line 6, in worker\n",
      "    size, score = cscore.getPalmettoCoherenceScoreGivenFile(file, 'cv')\n",
      "  File \"/sharedfolder/master-thesis/code/coherence_score.py\", line 137, in getPalmettoCoherenceScoreGivenFile\n",
      "    if r.ok:\n",
      "ValueError: could not convert string to float: \"<html><body><h1>504 Gateway Time-out</h1>\\nThe server didn't respond in time.\\n</body></html>\\n\\n\"\n",
      "Process file20:\n",
      "Traceback (most recent call last):\n",
      "  File \"/usr/lib/python3.5/multiprocessing/process.py\", line 249, in _bootstrap\n",
      "    self.run()\n",
      "  File \"/usr/lib/python3.5/multiprocessing/process.py\", line 93, in run\n",
      "    self._target(*self._args, **self._kwargs)\n",
      "  File \"<ipython-input-7-dbd164639f12>\", line 6, in worker\n",
      "    size, score = cscore.getPalmettoCoherenceScoreGivenFile(file, 'cv')\n",
      "  File \"/sharedfolder/master-thesis/code/coherence_score.py\", line 137, in getPalmettoCoherenceScoreGivenFile\n",
      "    if r.ok:\n",
      "ValueError: could not convert string to float: \"<html><body><h1>504 Gateway Time-out</h1>\\nThe server didn't respond in time.\\n</body></html>\\n\\n\"\n",
      "Process file15:\n",
      "Traceback (most recent call last):\n",
      "  File \"/usr/lib/python3.5/multiprocessing/process.py\", line 249, in _bootstrap\n",
      "    self.run()\n",
      "  File \"/usr/lib/python3.5/multiprocessing/process.py\", line 93, in run\n",
      "    self._target(*self._args, **self._kwargs)\n",
      "  File \"<ipython-input-7-dbd164639f12>\", line 6, in worker\n",
      "    size, score = cscore.getPalmettoCoherenceScoreGivenFile(file, 'cv')\n",
      "  File \"/sharedfolder/master-thesis/code/coherence_score.py\", line 137, in getPalmettoCoherenceScoreGivenFile\n",
      "    if r.ok:\n",
      "ValueError: could not convert string to float: \"<html><body><h1>504 Gateway Time-out</h1>\\nThe server didn't respond in time.\\n</body></html>\\n\\n\"\n",
      "Process file13:\n",
      "Traceback (most recent call last):\n",
      "  File \"/usr/lib/python3.5/multiprocessing/process.py\", line 249, in _bootstrap\n",
      "    self.run()\n",
      "  File \"/usr/lib/python3.5/multiprocessing/process.py\", line 93, in run\n",
      "    self._target(*self._args, **self._kwargs)\n",
      "  File \"<ipython-input-7-dbd164639f12>\", line 6, in worker\n",
      "    size, score = cscore.getPalmettoCoherenceScoreGivenFile(file, 'cv')\n",
      "  File \"/sharedfolder/master-thesis/code/coherence_score.py\", line 137, in getPalmettoCoherenceScoreGivenFile\n",
      "    if r.ok:\n",
      "ValueError: could not convert string to float: \"<html><body><h1>504 Gateway Time-out</h1>\\nThe server didn't respond in time.\\n</body></html>\\n\\n\"\n",
      "Process file7:\n",
      "Traceback (most recent call last):\n",
      "  File \"/usr/lib/python3.5/multiprocessing/process.py\", line 249, in _bootstrap\n",
      "    self.run()\n",
      "  File \"/usr/lib/python3.5/multiprocessing/process.py\", line 93, in run\n",
      "    self._target(*self._args, **self._kwargs)\n",
      "  File \"<ipython-input-7-dbd164639f12>\", line 6, in worker\n",
      "    size, score = cscore.getPalmettoCoherenceScoreGivenFile(file, 'cv')\n",
      "  File \"/sharedfolder/master-thesis/code/coherence_score.py\", line 137, in getPalmettoCoherenceScoreGivenFile\n",
      "    if r.ok:\n",
      "ValueError: could not convert string to float: \"<html><body><h1>504 Gateway Time-out</h1>\\nThe server didn't respond in time.\\n</body></html>\\n\\n\"\n",
      "Process file11:\n",
      "Traceback (most recent call last):\n",
      "  File \"/usr/lib/python3.5/multiprocessing/process.py\", line 249, in _bootstrap\n",
      "    self.run()\n",
      "  File \"/usr/lib/python3.5/multiprocessing/process.py\", line 93, in run\n",
      "    self._target(*self._args, **self._kwargs)\n",
      "  File \"<ipython-input-7-dbd164639f12>\", line 6, in worker\n",
      "    size, score = cscore.getPalmettoCoherenceScoreGivenFile(file, 'cv')\n",
      "  File \"/sharedfolder/master-thesis/code/coherence_score.py\", line 137, in getPalmettoCoherenceScoreGivenFile\n",
      "    if r.ok:\n",
      "ValueError: could not convert string to float: \"<html><body><h1>504 Gateway Time-out</h1>\\nThe server didn't respond in time.\\n</body></html>\\n\\n\"\n",
      "Process file5:\n",
      "Traceback (most recent call last):\n",
      "  File \"/usr/lib/python3.5/multiprocessing/process.py\", line 249, in _bootstrap\n",
      "    self.run()\n",
      "  File \"/usr/lib/python3.5/multiprocessing/process.py\", line 93, in run\n",
      "    self._target(*self._args, **self._kwargs)\n",
      "  File \"<ipython-input-7-dbd164639f12>\", line 6, in worker\n",
      "    size, score = cscore.getPalmettoCoherenceScoreGivenFile(file, 'cv')\n",
      "  File \"/sharedfolder/master-thesis/code/coherence_score.py\", line 137, in getPalmettoCoherenceScoreGivenFile\n",
      "    if r.ok:\n",
      "ValueError: could not convert string to float: \"<html><body><h1>504 Gateway Time-out</h1>\\nThe server didn't respond in time.\\n</body></html>\\n\\n\"\n",
      "Process file8:\n",
      "Traceback (most recent call last):\n",
      "  File \"/usr/lib/python3.5/multiprocessing/process.py\", line 249, in _bootstrap\n",
      "    self.run()\n",
      "  File \"/usr/lib/python3.5/multiprocessing/process.py\", line 93, in run\n",
      "    self._target(*self._args, **self._kwargs)\n",
      "  File \"<ipython-input-7-dbd164639f12>\", line 6, in worker\n",
      "    size, score = cscore.getPalmettoCoherenceScoreGivenFile(file, 'cv')\n",
      "  File \"/sharedfolder/master-thesis/code/coherence_score.py\", line 137, in getPalmettoCoherenceScoreGivenFile\n",
      "    if r.ok:\n",
      "ValueError: could not convert string to float: \"<html><body><h1>504 Gateway Time-out</h1>\\nThe server didn't respond in time.\\n</body></html>\\n\\n\"\n",
      "Process file14:\n",
      "Traceback (most recent call last):\n",
      "  File \"/usr/lib/python3.5/multiprocessing/process.py\", line 249, in _bootstrap\n",
      "    self.run()\n",
      "  File \"/usr/lib/python3.5/multiprocessing/process.py\", line 93, in run\n",
      "    self._target(*self._args, **self._kwargs)\n",
      "  File \"<ipython-input-7-dbd164639f12>\", line 6, in worker\n",
      "    size, score = cscore.getPalmettoCoherenceScoreGivenFile(file, 'cv')\n",
      "  File \"/sharedfolder/master-thesis/code/coherence_score.py\", line 137, in getPalmettoCoherenceScoreGivenFile\n",
      "    if r.ok:\n",
      "ValueError: could not convert string to float: \"<html><body><h1>504 Gateway Time-out</h1>\\nThe server didn't respond in time.\\n</body></html>\\n\\n\"\n",
      "Process file9:\n",
      "Traceback (most recent call last):\n",
      "  File \"/usr/lib/python3.5/multiprocessing/process.py\", line 249, in _bootstrap\n",
      "    self.run()\n",
      "  File \"/usr/lib/python3.5/multiprocessing/process.py\", line 93, in run\n",
      "    self._target(*self._args, **self._kwargs)\n",
      "  File \"<ipython-input-7-dbd164639f12>\", line 6, in worker\n",
      "    size, score = cscore.getPalmettoCoherenceScoreGivenFile(file, 'cv')\n",
      "  File \"/sharedfolder/master-thesis/code/coherence_score.py\", line 137, in getPalmettoCoherenceScoreGivenFile\n",
      "    if r.ok:\n",
      "ValueError: could not convert string to float: \"<html><body><h1>504 Gateway Time-out</h1>\\nThe server didn't respond in time.\\n</body></html>\\n\\n\"\n",
      "Process file0:\n",
      "Traceback (most recent call last):\n",
      "  File \"/usr/lib/python3.5/multiprocessing/process.py\", line 249, in _bootstrap\n",
      "    self.run()\n",
      "  File \"/usr/lib/python3.5/multiprocessing/process.py\", line 93, in run\n",
      "    self._target(*self._args, **self._kwargs)\n"
     ]
    },
    {
     "name": "stderr",
     "output_type": "stream",
     "text": [
      "  File \"<ipython-input-7-dbd164639f12>\", line 6, in worker\n",
      "    size, score = cscore.getPalmettoCoherenceScoreGivenFile(file, 'cv')\n",
      "  File \"/sharedfolder/master-thesis/code/coherence_score.py\", line 137, in getPalmettoCoherenceScoreGivenFile\n",
      "    if r.ok:\n",
      "ValueError: could not convert string to float: \"<html><body><h1>504 Gateway Time-out</h1>\\nThe server didn't respond in time.\\n</body></html>\\n\\n\"\n",
      "Process file2:\n",
      "Traceback (most recent call last):\n",
      "  File \"/usr/lib/python3.5/multiprocessing/process.py\", line 249, in _bootstrap\n",
      "    self.run()\n",
      "  File \"/usr/lib/python3.5/multiprocessing/process.py\", line 93, in run\n",
      "    self._target(*self._args, **self._kwargs)\n",
      "  File \"<ipython-input-7-dbd164639f12>\", line 6, in worker\n",
      "    size, score = cscore.getPalmettoCoherenceScoreGivenFile(file, 'cv')\n",
      "  File \"/sharedfolder/master-thesis/code/coherence_score.py\", line 137, in getPalmettoCoherenceScoreGivenFile\n",
      "    if r.ok:\n",
      "ValueError: could not convert string to float: \"<html><body><h1>504 Gateway Time-out</h1>\\nThe server didn't respond in time.\\n</body></html>\\n\\n\"\n",
      "Process file21:\n",
      "Traceback (most recent call last):\n",
      "  File \"/usr/lib/python3.5/multiprocessing/process.py\", line 249, in _bootstrap\n",
      "    self.run()\n",
      "  File \"/usr/lib/python3.5/multiprocessing/process.py\", line 93, in run\n",
      "    self._target(*self._args, **self._kwargs)\n",
      "  File \"<ipython-input-7-dbd164639f12>\", line 6, in worker\n",
      "    size, score = cscore.getPalmettoCoherenceScoreGivenFile(file, 'cv')\n",
      "  File \"/sharedfolder/master-thesis/code/coherence_score.py\", line 137, in getPalmettoCoherenceScoreGivenFile\n",
      "    if r.ok:\n",
      "ValueError: could not convert string to float: \"<html><body><h1>504 Gateway Time-out</h1>\\nThe server didn't respond in time.\\n</body></html>\\n\\n\"\n",
      "Process file3:\n",
      "Traceback (most recent call last):\n",
      "  File \"/usr/lib/python3.5/multiprocessing/process.py\", line 249, in _bootstrap\n",
      "    self.run()\n",
      "  File \"/usr/lib/python3.5/multiprocessing/process.py\", line 93, in run\n",
      "    self._target(*self._args, **self._kwargs)\n",
      "  File \"<ipython-input-7-dbd164639f12>\", line 6, in worker\n",
      "    size, score = cscore.getPalmettoCoherenceScoreGivenFile(file, 'cv')\n",
      "  File \"/sharedfolder/master-thesis/code/coherence_score.py\", line 137, in getPalmettoCoherenceScoreGivenFile\n",
      "    if r.ok:\n",
      "ValueError: could not convert string to float: \"<html><body><h1>504 Gateway Time-out</h1>\\nThe server didn't respond in time.\\n</body></html>\\n\\n\"\n",
      "Process file19:\n",
      "Traceback (most recent call last):\n",
      "  File \"/usr/lib/python3.5/multiprocessing/process.py\", line 249, in _bootstrap\n",
      "    self.run()\n",
      "  File \"/usr/lib/python3.5/multiprocessing/process.py\", line 93, in run\n",
      "    self._target(*self._args, **self._kwargs)\n",
      "  File \"<ipython-input-7-dbd164639f12>\", line 6, in worker\n",
      "    size, score = cscore.getPalmettoCoherenceScoreGivenFile(file, 'cv')\n",
      "  File \"/sharedfolder/master-thesis/code/coherence_score.py\", line 137, in getPalmettoCoherenceScoreGivenFile\n",
      "    if r.ok:\n",
      "ValueError: could not convert string to float: \"<html><body><h1>504 Gateway Time-out</h1>\\nThe server didn't respond in time.\\n</body></html>\\n\\n\"\n",
      "Process file16:\n",
      "Traceback (most recent call last):\n",
      "  File \"/usr/lib/python3.5/multiprocessing/process.py\", line 249, in _bootstrap\n",
      "    self.run()\n",
      "  File \"/usr/lib/python3.5/multiprocessing/process.py\", line 93, in run\n",
      "    self._target(*self._args, **self._kwargs)\n",
      "  File \"<ipython-input-7-dbd164639f12>\", line 6, in worker\n",
      "    size, score = cscore.getPalmettoCoherenceScoreGivenFile(file, 'cv')\n",
      "  File \"/sharedfolder/master-thesis/code/coherence_score.py\", line 137, in getPalmettoCoherenceScoreGivenFile\n",
      "    if r.ok:\n",
      "ValueError: could not convert string to float: \"<html><body><h1>504 Gateway Time-out</h1>\\nThe server didn't respond in time.\\n</body></html>\\n\\n\"\n",
      "Process file18:\n",
      "Traceback (most recent call last):\n",
      "  File \"/usr/lib/python3.5/multiprocessing/process.py\", line 249, in _bootstrap\n",
      "    self.run()\n",
      "  File \"/usr/lib/python3.5/multiprocessing/process.py\", line 93, in run\n",
      "    self._target(*self._args, **self._kwargs)\n",
      "  File \"<ipython-input-7-dbd164639f12>\", line 6, in worker\n",
      "    size, score = cscore.getPalmettoCoherenceScoreGivenFile(file, 'cv')\n",
      "  File \"/sharedfolder/master-thesis/code/coherence_score.py\", line 137, in getPalmettoCoherenceScoreGivenFile\n",
      "    if r.ok:\n",
      "ValueError: could not convert string to float: \"<html><body><h1>504 Gateway Time-out</h1>\\nThe server didn't respond in time.\\n</body></html>\\n\\n\"\n",
      "Process file17:\n",
      "Traceback (most recent call last):\n",
      "  File \"/usr/lib/python3.5/multiprocessing/process.py\", line 249, in _bootstrap\n",
      "    self.run()\n",
      "  File \"/usr/lib/python3.5/multiprocessing/process.py\", line 93, in run\n",
      "    self._target(*self._args, **self._kwargs)\n",
      "  File \"<ipython-input-7-dbd164639f12>\", line 6, in worker\n",
      "    size, score = cscore.getPalmettoCoherenceScoreGivenFile(file, 'cv')\n",
      "  File \"/sharedfolder/master-thesis/code/coherence_score.py\", line 137, in getPalmettoCoherenceScoreGivenFile\n",
      "    if r.ok:\n",
      "ValueError: could not convert string to float: \"<html><body><h1>504 Gateway Time-out</h1>\\nThe server didn't respond in time.\\n</body></html>\\n\\n\"\n",
      "Process file1:\n",
      "Traceback (most recent call last):\n",
      "  File \"/usr/lib/python3.5/multiprocessing/process.py\", line 249, in _bootstrap\n",
      "    self.run()\n",
      "  File \"/usr/lib/python3.5/multiprocessing/process.py\", line 93, in run\n",
      "    self._target(*self._args, **self._kwargs)\n",
      "  File \"<ipython-input-7-dbd164639f12>\", line 6, in worker\n",
      "    size, score = cscore.getPalmettoCoherenceScoreGivenFile(file, 'cv')\n",
      "  File \"/sharedfolder/master-thesis/code/coherence_score.py\", line 137, in getPalmettoCoherenceScoreGivenFile\n",
      "    if r.ok:\n",
      "ValueError: could not convert string to float: \"<html><body><h1>504 Gateway Time-out</h1>\\nThe server didn't respond in time.\\n</body></html>\\n\\n\"\n",
      "Process file4:\n",
      "Traceback (most recent call last):\n",
      "  File \"/usr/lib/python3.5/multiprocessing/process.py\", line 249, in _bootstrap\n",
      "    self.run()\n",
      "  File \"/usr/lib/python3.5/multiprocessing/process.py\", line 93, in run\n",
      "    self._target(*self._args, **self._kwargs)\n",
      "  File \"<ipython-input-7-dbd164639f12>\", line 6, in worker\n",
      "    size, score = cscore.getPalmettoCoherenceScoreGivenFile(file, 'cv')\n",
      "  File \"/sharedfolder/master-thesis/code/coherence_score.py\", line 137, in getPalmettoCoherenceScoreGivenFile\n",
      "    if r.ok:\n",
      "ValueError: could not convert string to float: \"<html><body><h1>504 Gateway Time-out</h1>\\nThe server didn't respond in time.\\n</body></html>\\n\\n\"\n"
     ]
    },
    {
     "data": {
      "text/plain": [
       "<DictProxy object, typeid 'dict' at 0x7f298f0ba940>"
      ]
     },
     "execution_count": 7,
     "metadata": {},
     "output_type": "execute_result"
    }
   ],
   "source": [
    "import coherence_score as cscore\n",
    "import multiprocessing as mp\n",
    "\n",
    "def worker(file,result):\n",
    "    print(\"starting \",mp.current_process().name)\n",
    "    size, score = cscore.getPalmettoCoherenceScoreGivenFile(file, 'cv')\n",
    "    result[size]=score\n",
    "    print(\"Exiting \",mp.current_process().name)\n",
    "jobs = []\n",
    "result = mp.Manager().dict()\n",
    "for i, file in enumerate(all_files):\n",
    "    p = mp.Process(name='file'+str(i), target=worker, args=(file,result))\n",
    "    jobs.append(p)\n",
    "    p.start()\n",
    "for job in jobs:\n",
    "    job.join()\n",
    "result"
   ]
  },
  {
   "cell_type": "code",
   "execution_count": null,
   "metadata": {},
   "outputs": [],
   "source": []
  }
 ],
 "metadata": {
  "accelerator": "GPU",
  "colab": {
   "collapsed_sections": [],
   "name": "coherence_analysis_v2.ipynb",
   "provenance": [],
   "version": "0.3.2"
  },
  "kernelspec": {
   "display_name": "Python 3",
   "language": "python",
   "name": "python3"
  },
  "language_info": {
   "codemirror_mode": {
    "name": "ipython",
    "version": 3
   },
   "file_extension": ".py",
   "mimetype": "text/x-python",
   "name": "python",
   "nbconvert_exporter": "python",
   "pygments_lexer": "ipython3",
   "version": "3.5.2"
  }
 },
 "nbformat": 4,
 "nbformat_minor": 1
}
