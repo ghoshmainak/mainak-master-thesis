{
 "cells": [
  {
   "cell_type": "code",
   "execution_count": 0,
   "metadata": {
    "colab": {
     "base_uri": "https://localhost:8080/",
     "height": 34
    },
    "colab_type": "code",
    "executionInfo": {
     "elapsed": 496,
     "status": "ok",
     "timestamp": 1559644495524,
     "user": {
      "displayName": "Mainak Ghosh",
      "photoUrl": "",
      "userId": "09457005437453189534"
     },
     "user_tz": -120
    },
    "id": "FSE_RKBmDUe4",
    "outputId": "0739e2d4-98d1-4754-8e43-bbbb8e77eee8"
   },
   "outputs": [
    {
     "name": "stdout",
     "output_type": "stream",
     "text": [
      "Drive already mounted at /content/drive; to attempt to forcibly remount, call drive.mount(\"/content/drive\", force_remount=True).\n"
     ]
    }
   ],
   "source": [
    "from google.colab import drive\n",
    "drive.mount('/content/drive')"
   ]
  },
  {
   "cell_type": "code",
   "execution_count": 1,
   "metadata": {
    "colab": {
     "base_uri": "https://localhost:8080/",
     "height": 51
    },
    "colab_type": "code",
    "executionInfo": {
     "elapsed": 1444,
     "status": "ok",
     "timestamp": 1559674427504,
     "user": {
      "displayName": "Mainak Ghosh",
      "photoUrl": "",
      "userId": "09457005437453189534"
     },
     "user_tz": -120
    },
    "id": "8bJat_cHDfNR",
    "outputId": "b3adcfe6-3794-4ccf-9f72-acc7aa09d929"
   },
   "outputs": [
    {
     "name": "stdout",
     "output_type": "stream",
     "text": [
      "/content/drive/My Drive/Colab Notebooks/Master Thesis/master-thesis\n",
      "code  data  output  papers  post_train_output  preprocessed_data\n"
     ]
    }
   ],
   "source": [
    "%cd /content/drive/My\\ Drive/Colab\\ Notebooks/'Master Thesis'/master-thesis\n",
    "!ls"
   ]
  },
  {
   "cell_type": "code",
   "execution_count": 2,
   "metadata": {
    "colab": {
     "base_uri": "https://localhost:8080/",
     "height": 34
    },
    "colab_type": "code",
    "executionInfo": {
     "elapsed": 474,
     "status": "ok",
     "timestamp": 1559674431337,
     "user": {
      "displayName": "Mainak Ghosh",
      "photoUrl": "",
      "userId": "09457005437453189534"
     },
     "user_tz": -120
    },
    "id": "XnYOn4VFDqis",
    "outputId": "1cda2b01-b425-406b-c74c-979303d79eb6"
   },
   "outputs": [
    {
     "name": "stdout",
     "output_type": "stream",
     "text": [
      "/content/drive/My Drive/Colab Notebooks/Master Thesis/master-thesis/code\n"
     ]
    }
   ],
   "source": [
    "%cd code "
   ]
  },
  {
   "cell_type": "code",
   "execution_count": 6,
   "metadata": {
    "colab": {
     "base_uri": "https://localhost:8080/",
     "height": 119
    },
    "colab_type": "code",
    "executionInfo": {
     "elapsed": 1933,
     "status": "ok",
     "timestamp": 1559677417892,
     "user": {
      "displayName": "Mainak Ghosh",
      "photoUrl": "",
      "userId": "09457005437453189534"
     },
     "user_tz": -120
    },
    "id": "ok3Bud0MEm4-",
    "outputId": "91dfe580-f4d3-4526-c713-1859927ec412"
   },
   "outputs": [
    {
     "name": "stdout",
     "output_type": "stream",
     "text": [
      "check.py\t\t  my_layers.py\t train.py\n",
      "dataset_statistic.ipynb   optimizers.py  util.py\n",
      "datasetUtil.py\t\t  preprocess.py  word_embedding.py\n",
      "extract_comment.ipynb\t  __pycache__\t word_embed_reader.py\n",
      "fasttext_embedding.ipynb  reader.py\n",
      "model.py\t\t  train.ipynb\n"
     ]
    }
   ],
   "source": [
    "!ls"
   ]
  },
  {
   "cell_type": "code",
   "execution_count": 8,
   "metadata": {
    "colab": {
     "base_uri": "https://localhost:8080/",
     "height": 88
    },
    "colab_type": "code",
    "executionInfo": {
     "elapsed": 135940,
     "status": "ok",
     "timestamp": 1559677635416,
     "user": {
      "displayName": "Mainak Ghosh",
      "photoUrl": "",
      "userId": "09457005437453189534"
     },
     "user_tz": -120
    },
    "id": "b2xIz4bJ13-r",
    "outputId": "7a3d14b9-500f-40d9-9dae-7977a6a32be3"
   },
   "outputs": [
    {
     "name": "stdout",
     "output_type": "stream",
     "text": [
      "Pre-training fasttext word embeddings ...\n",
      "tcmalloc: large alloc 1600004096 bytes == 0x77e0000 @  0x7f4c6f9f51e7 0x7f4c6c4e0ca1 0x7f4c6c545778 0x7f4c6c545d47 0x7f4c6c5e0038 0x5030d5 0x507641 0x504c28 0x502540 0x502f3d 0x507641 0x504c28 0x502540 0x502f3d 0x507641 0x504c28 0x501b2e 0x591461 0x59ebbe 0x507c17 0x504c28 0x502540 0x502f3d 0x507641 0x502209 0x502f3d 0x506859 0x502209 0x502f3d 0x506859 0x504c28\n",
      "tcmalloc: large alloc 1600004096 bytes == 0x66dc2000 @  0x7f4c6f9f51e7 0x7f4c6c4e0ca1 0x7f4c6c545778 0x7f4c6c545d47 0x7f4c6c5e0038 0x5030d5 0x506859 0x504c28 0x502540 0x502f3d 0x507641 0x504c28 0x502540 0x502f3d 0x507641 0x504c28 0x502540 0x502f3d 0x507641 0x504c28 0x501b2e 0x591461 0x59ebbe 0x507c17 0x504c28 0x502540 0x502f3d 0x507641 0x502209 0x502f3d 0x506859\n"
     ]
    }
   ],
   "source": [
    "!python word_embedding.py -emb_name 'fasttext'"
   ]
  },
  {
   "cell_type": "code",
   "execution_count": 0,
   "metadata": {
    "colab": {},
    "colab_type": "code",
    "id": "ZkAddFfx17Xe"
   },
   "outputs": [],
   "source": []
  }
 ],
 "metadata": {
  "accelerator": "GPU",
  "colab": {
   "collapsed_sections": [],
   "name": "fasttext_embedding.ipynb",
   "provenance": [],
   "version": "0.3.2"
  },
  "kernelspec": {
   "display_name": "Python 3",
   "language": "python",
   "name": "python3"
  },
  "language_info": {
   "codemirror_mode": {
    "name": "ipython",
    "version": 3
   },
   "file_extension": ".py",
   "mimetype": "text/x-python",
   "name": "python",
   "nbconvert_exporter": "python",
   "pygments_lexer": "ipython3",
   "version": "3.7.3"
  }
 },
 "nbformat": 4,
 "nbformat_minor": 1
}
