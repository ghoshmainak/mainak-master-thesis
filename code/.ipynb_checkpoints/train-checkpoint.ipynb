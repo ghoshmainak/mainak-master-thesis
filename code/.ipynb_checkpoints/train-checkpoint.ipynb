{
 "cells": [
  {
   "cell_type": "code",
   "execution_count": 2,
   "metadata": {
    "colab": {
     "base_uri": "https://localhost:8080/",
     "height": 34
    },
    "colab_type": "code",
    "executionInfo": {
     "elapsed": 1812,
     "status": "ok",
     "timestamp": 1563433632759,
     "user": {
      "displayName": "Mainak Ghosh",
      "photoUrl": "",
      "userId": "09457005437453189534"
     },
     "user_tz": -120
    },
    "id": "-vmcHFQLshAq",
    "outputId": "eb5cbe01-ca17-49fe-d831-335225ed587c"
   },
   "outputs": [
    {
     "name": "stdout",
     "output_type": "stream",
     "text": [
      "/content/drive/My Drive/Colab Notebooks/Master Thesis/master-thesis/code\n"
     ]
    }
   ],
   "source": [
    "%cd /content/drive/My\\ Drive/Colab\\ Notebooks/Master\\ Thesis/master-thesis/code"
   ]
  },
  {
   "cell_type": "code",
   "execution_count": 0,
   "metadata": {
    "colab": {
     "base_uri": "https://localhost:8080/",
     "height": 34
    },
    "colab_type": "code",
    "executionInfo": {
     "elapsed": 59137,
     "status": "ok",
     "timestamp": 1558451449941,
     "user": {
      "displayName": "Mainak Ghosh",
      "photoUrl": "",
      "userId": "09457005437453189534"
     },
     "user_tz": -120
    },
    "id": "q6awysSB5dO9",
    "outputId": "b342e673-7f95-4ffe-f77b-761837ddb0a0"
   },
   "outputs": [
    {
     "name": "stdout",
     "output_type": "stream",
     "text": [
      "Pre-training word embeddings ...\n"
     ]
    }
   ],
   "source": [
    "!python word_embedding.py"
   ]
  },
  {
   "cell_type": "code",
   "execution_count": 2,
   "metadata": {
    "colab": {
     "base_uri": "https://localhost:8080/",
     "height": 34
    },
    "colab_type": "code",
    "executionInfo": {
     "elapsed": 5655,
     "status": "ok",
     "timestamp": 1563400068902,
     "user": {
      "displayName": "Mainak Ghosh",
      "photoUrl": "",
      "userId": "09457005437453189534"
     },
     "user_tz": -120
    },
    "id": "GrjAgtotFrW6",
    "outputId": "691e24ee-20df-4602-9bf3-04a632e84d37"
   },
   "outputs": [
    {
     "data": {
      "text/plain": [
       "'/device:GPU:0'"
      ]
     },
     "execution_count": 2,
     "metadata": {},
     "output_type": "execute_result"
    }
   ],
   "source": [
    "import tensorflow as tf\n",
    "tf.test.gpu_device_name()"
   ]
  },
  {
   "cell_type": "code",
   "execution_count": 5,
   "metadata": {
    "colab": {
     "base_uri": "https://localhost:8080/",
     "height": 241
    },
    "colab_type": "code",
    "executionInfo": {
     "elapsed": 13207,
     "status": "ok",
     "timestamp": 1561111512109,
     "user": {
      "displayName": "Mainak Ghosh",
      "photoUrl": "",
      "userId": "09457005437453189534"
     },
     "user_tz": -120
    },
    "id": "x9mhW9ozFzmp",
    "outputId": "fafd9ea7-f598-4964-85ac-d337e0f8d058"
   },
   "outputs": [
    {
     "name": "stdout",
     "output_type": "stream",
     "text": [
      "ln: cannot remove '/usr/bin/nvidia-smi': Device or resource busy\n",
      "Collecting gputil\n",
      "  Downloading https://files.pythonhosted.org/packages/ed/0e/5c61eedde9f6c87713e89d794f01e378cfd9565847d4576fa627d758c554/GPUtil-1.4.0.tar.gz\n",
      "Building wheels for collected packages: gputil\n",
      "  Running setup.py bdist_wheel for gputil ... \u001b[?25ldone\n",
      "\u001b[?25h  Stored in directory: /root/.cache/pip/wheels/3d/77/07/80562de4bb0786e5ea186911a2c831fdd0018bda69beab71fd\n",
      "Successfully built gputil\n",
      "Installing collected packages: gputil\n",
      "Successfully installed gputil-1.4.0\n",
      "\u001b[33mYou are using pip version 18.1, however version 19.1.1 is available.\n",
      "You should consider upgrading via the 'pip install --upgrade pip' command.\u001b[0m\n",
      "Collecting psutil\n",
      "\u001b[?25l  Downloading https://files.pythonhosted.org/packages/1c/ca/5b8c1fe032a458c2c4bcbe509d1401dca9dda35c7fc46b36bb81c2834740/psutil-5.6.3.tar.gz (435kB)\n",
      "\u001b[K    100% |################################| 440kB 10.4MB/s ta 0:00:01\n",
      "\u001b[?25hBuilding wheels for collected packages: psutil\n",
      "  Running setup.py bdist_wheel for psutil ... \u001b[?25ldone\n",
      "\u001b[?25h  Stored in directory: /root/.cache/pip/wheels/90/7e/74/bb640d77775e6b6a78bcc3120f9fea4d2a28b2706de1cff37d\n",
      "Successfully built psutil\n",
      "Installing collected packages: psutil\n",
      "Successfully installed psutil-5.6.3\n",
      "\u001b[33mYou are using pip version 18.1, however version 19.1.1 is available.\n",
      "You should consider upgrading via the 'pip install --upgrade pip' command.\u001b[0m\n",
      "Collecting humanize\n",
      "  Downloading https://files.pythonhosted.org/packages/8c/e0/e512e4ac6d091fc990bbe13f9e0378f34cf6eecd1c6c268c9e598dcf5bb9/humanize-0.5.1.tar.gz\n",
      "Building wheels for collected packages: humanize\n",
      "  Running setup.py bdist_wheel for humanize ... \u001b[?25ldone\n",
      "\u001b[?25h  Stored in directory: /root/.cache/pip/wheels/69/86/6c/f8b8593bc273ec4b0c653d3827f7482bb2001a2781a73b7f44\n",
      "Successfully built humanize\n",
      "Installing collected packages: humanize\n",
      "Successfully installed humanize-0.5.1\n",
      "\u001b[33mYou are using pip version 18.1, however version 19.1.1 is available.\n",
      "You should consider upgrading via the 'pip install --upgrade pip' command.\u001b[0m\n",
      "Gen RAM Free: 61.8 GB  | Proc size: 223.0 MB\n",
      "GPU RAM Free: 12210MB | Used: 0MB | Util   0% | Total 12210MB\n"
     ]
    }
   ],
   "source": [
    "\n",
    "# memory footprint support libraries/code\n",
    "!ln -sf /opt/bin/nvidia-smi /usr/bin/nvidia-smi\n",
    "!pip install gputil\n",
    "!pip install psutil\n",
    "!pip install humanize\n",
    "import psutil\n",
    "import humanize\n",
    "import os\n",
    "import GPUtil as GPU\n",
    "GPUs = GPU.getGPUs()\n",
    "# XXX: only one GPU on Colab and isn’t guaranteed\n",
    "gpu = GPUs[0]\n",
    "def printm():\n",
    " process = psutil.Process(os.getpid())\n",
    " print(\"Gen RAM Free: \" + humanize.naturalsize( psutil.virtual_memory().available ), \" | Proc size: \" + humanize.naturalsize( process.memory_info().rss))\n",
    " print(\"GPU RAM Free: {0:.0f}MB | Used: {1:.0f}MB | Util {2:3.0f}% | Total {3:.0f}MB\".format(gpu.memoryFree, gpu.memoryUsed, gpu.memoryUtil*100, gpu.memoryTotal))\n",
    "printm() \n"
   ]
  },
  {
   "cell_type": "markdown",
   "metadata": {},
   "source": [
    "with open('../preprocessed_data/whole_comments.txt') as f:\n",
    "    len_array=[]\n",
    "    for line in f:\n",
    "        len_array.append(len(line.split()))\n",
    "from collections import Counter\n",
    "c=Counter()\n",
    "c.update(len_array)\n",
    "c."
   ]
  },
  {
   "cell_type": "code",
   "execution_count": 9,
   "metadata": {},
   "outputs": [
    {
     "data": {
      "text/plain": [
       "<matplotlib.axes._subplots.AxesSubplot at 0x7f22d4b56390>"
      ]
     },
     "execution_count": 9,
     "metadata": {},
     "output_type": "execute_result"
    },
    {
     "data": {
      "image/png": "[encoded data removed]",
      "text/plain": [
       "<Figure size 842.4x595.44 with 1 Axes>"
      ]
     },
     "metadata": {},
     "output_type": "display_data"
    }
   ],
   "source": [
    "import seaborn as sns\n",
    "sns.set(rc={'figure.figsize':(11.7,8.27)})\n",
    "sns.set_style('darkgrid')\n",
    "sns.distplot(len_array)"
   ]
  },
  {
   "cell_type": "code",
   "execution_count": 3,
   "metadata": {
    "colab": {
     "base_uri": "https://localhost:8080/",
     "height": 1000
    },
    "colab_type": "code",
    "executionInfo": {
     "elapsed": 3131583,
     "status": "ok",
     "timestamp": 1563436778889,
     "user": {
      "displayName": "Mainak Ghosh",
      "photoUrl": "",
      "userId": "09457005437453189534"
     },
     "user_tz": -120
    },
    "id": "zr_g2Q6hshBa",
    "outputId": "ed05f672-1fab-4b01-f4d0-9679f868761c"
   },
   "outputs": [
    {
     "name": "stdout",
     "output_type": "stream",
     "text": [
      "Using TensorFlow backend.\n",
      "2019-07-18 07:07:37,016 INFO Cluster Size: 43\n",
      "Creating vocab ...\n",
      "3271219 total words, 73200 unique words\n",
      "keep the top 9000 words\n",
      "Reading dataset ...\n",
      "train set\n",
      "<num> hit rate: 1.10%, <unk> hit rate: 5.92%\n",
      "Number of training examples:  191978\n",
      "Length of vocab:  9003\n",
      "2019-07-18 07:07:51,989 INFO Building glove based model\n",
      "2019-07-18 07:07:51,989 INFO Loading embeddings from: ../preprocessed_data/glove/glove_w2v_300.txt\n",
      "2019-07-18 07:07:51,989 INFO loading projection weights from ../preprocessed_data/glove/glove_w2v_300.txt\n",
      "/usr/local/lib/python3.6/dist-packages/smart_open/smart_open_lib.py:398: UserWarning: This function is deprecated, use smart_open.open instead. See the migration notes for details: https://github.com/RaRe-Technologies/smart_open/blob/master/README.rst#migrating-to-the-new-open-function\n",
      "  'See the migration notes for details: %s' % _MIGRATION_NOTES_URL\n",
      "2019-07-18 07:07:51,991 DEBUG {'transport_params': {}, 'ignore_ext': False, 'opener': None, 'closefd': True, 'newline': None, 'errors': None, 'encoding': None, 'buffering': -1, 'mode': 'rb', 'uri': '../preprocessed_data/glove/glove_w2v_300.txt'}\n",
      "2019-07-18 07:08:03,000 INFO loaded (20000, 300) matrix from ../preprocessed_data/glove/glove_w2v_300.txt\n",
      "2019-07-18 07:08:04,374 INFO #vectors: 20000, #dimensions: 300\n",
      "2019-07-18 07:09:04,642 WARNING From /usr/local/lib/python3.6/dist-packages/keras/backend/tensorflow_backend.py:517: The name tf.placeholder is deprecated. Please use tf.compat.v1.placeholder instead.\n",
      "\n",
      "2019-07-18 07:09:04,645 WARNING From /usr/local/lib/python3.6/dist-packages/keras/backend/tensorflow_backend.py:4138: The name tf.random_uniform is deprecated. Please use tf.random.uniform instead.\n",
      "\n",
      "2019-07-18 07:09:04,665 WARNING From /usr/local/lib/python3.6/dist-packages/keras/backend/tensorflow_backend.py:74: The name tf.get_default_graph is deprecated. Please use tf.compat.v1.get_default_graph instead.\n",
      "\n",
      "2019-07-18 07:09:04,799 INFO Initializing word embedding matrix\n",
      "2019-07-18 07:09:04,799 WARNING From /usr/local/lib/python3.6/dist-packages/keras/backend/tensorflow_backend.py:174: The name tf.get_default_session is deprecated. Please use tf.compat.v1.get_default_session instead.\n",
      "\n",
      "2019-07-18 07:09:04,799 WARNING From /usr/local/lib/python3.6/dist-packages/keras/backend/tensorflow_backend.py:181: The name tf.ConfigProto is deprecated. Please use tf.compat.v1.ConfigProto instead.\n",
      "\n",
      "2019-07-18 07:09:04.811985: I tensorflow/core/platform/profile_utils/cpu_utils.cc:94] CPU Frequency: 2200000000 Hz\n",
      "2019-07-18 07:09:04.814260: I tensorflow/compiler/xla/service/service.cc:168] XLA service 0x20a3640 executing computations on platform Host. Devices:\n",
      "2019-07-18 07:09:04.814298: I tensorflow/compiler/xla/service/service.cc:175]   StreamExecutor device (0): <undefined>, <undefined>\n",
      "2019-07-18 07:09:04.818341: I tensorflow/stream_executor/platform/default/dso_loader.cc:42] Successfully opened dynamic library libcuda.so.1\n",
      "2019-07-18 07:09:05.017818: I tensorflow/stream_executor/cuda/cuda_gpu_executor.cc:1005] successful NUMA node read from SysFS had negative value (-1), but there must be at least one NUMA node, so returning NUMA node zero\n",
      "2019-07-18 07:09:05.018373: I tensorflow/compiler/xla/service/service.cc:168] XLA service 0x20a3b80 executing computations on platform CUDA. Devices:\n",
      "2019-07-18 07:09:05.018403: I tensorflow/compiler/xla/service/service.cc:175]   StreamExecutor device (0): Tesla T4, Compute Capability 7.5\n",
      "2019-07-18 07:09:05.018647: I tensorflow/stream_executor/cuda/cuda_gpu_executor.cc:1005] successful NUMA node read from SysFS had negative value (-1), but there must be at least one NUMA node, so returning NUMA node zero\n",
      "2019-07-18 07:09:05.019013: I tensorflow/core/common_runtime/gpu/gpu_device.cc:1640] Found device 0 with properties: \n",
      "name: Tesla T4 major: 7 minor: 5 memoryClockRate(GHz): 1.59\n",
      "pciBusID: 0000:00:04.0\n",
      "2019-07-18 07:09:05.028520: I tensorflow/stream_executor/platform/default/dso_loader.cc:42] Successfully opened dynamic library libcudart.so.10.0\n",
      "2019-07-18 07:09:05.120894: I tensorflow/stream_executor/platform/default/dso_loader.cc:42] Successfully opened dynamic library libcublas.so.10.0\n",
      "2019-07-18 07:09:05.193924: I tensorflow/stream_executor/platform/default/dso_loader.cc:42] Successfully opened dynamic library libcufft.so.10.0\n",
      "2019-07-18 07:09:05.213777: I tensorflow/stream_executor/platform/default/dso_loader.cc:42] Successfully opened dynamic library libcurand.so.10.0\n",
      "2019-07-18 07:09:05.349250: I tensorflow/stream_executor/platform/default/dso_loader.cc:42] Successfully opened dynamic library libcusolver.so.10.0\n",
      "2019-07-18 07:09:05.448264: I tensorflow/stream_executor/platform/default/dso_loader.cc:42] Successfully opened dynamic library libcusparse.so.10.0\n",
      "2019-07-18 07:09:05.724137: I tensorflow/stream_executor/platform/default/dso_loader.cc:42] Successfully opened dynamic library libcudnn.so.7\n",
      "2019-07-18 07:09:05.724347: I tensorflow/stream_executor/cuda/cuda_gpu_executor.cc:1005] successful NUMA node read from SysFS had negative value (-1), but there must be at least one NUMA node, so returning NUMA node zero\n",
      "2019-07-18 07:09:05.724996: I tensorflow/stream_executor/cuda/cuda_gpu_executor.cc:1005] successful NUMA node read from SysFS had negative value (-1), but there must be at least one NUMA node, so returning NUMA node zero\n",
      "2019-07-18 07:09:05.725360: I tensorflow/core/common_runtime/gpu/gpu_device.cc:1763] Adding visible gpu devices: 0\n",
      "2019-07-18 07:09:05.726873: I tensorflow/stream_executor/platform/default/dso_loader.cc:42] Successfully opened dynamic library libcudart.so.10.0\n",
      "2019-07-18 07:09:05.728590: I tensorflow/core/common_runtime/gpu/gpu_device.cc:1181] Device interconnect StreamExecutor with strength 1 edge matrix:\n",
      "2019-07-18 07:09:05.728622: I tensorflow/core/common_runtime/gpu/gpu_device.cc:1187]      0 \n",
      "2019-07-18 07:09:05.728647: I tensorflow/core/common_runtime/gpu/gpu_device.cc:1200] 0:   N \n",
      "2019-07-18 07:09:05.730707: I tensorflow/stream_executor/cuda/cuda_gpu_executor.cc:1005] successful NUMA node read from SysFS had negative value (-1), but there must be at least one NUMA node, so returning NUMA node zero\n",
      "2019-07-18 07:09:05.731121: I tensorflow/stream_executor/cuda/cuda_gpu_executor.cc:1005] successful NUMA node read from SysFS had negative value (-1), but there must be at least one NUMA node, so returning NUMA node zero\n",
      "2019-07-18 07:09:05.731457: W tensorflow/core/common_runtime/gpu/gpu_bfc_allocator.cc:40] Overriding allow_growth setting because the TF_FORCE_GPU_ALLOW_GROWTH environment variable is set. Original config value was 0.\n",
      "2019-07-18 07:09:05.731500: I tensorflow/core/common_runtime/gpu/gpu_device.cc:1326] Created TensorFlow device (/job:localhost/replica:0/task:0/device:GPU:0 with 14202 MB memory) -> physical GPU (device: 0, name: Tesla T4, pci bus id: 0000:00:04.0, compute capability: 7.5)\n",
      "2019-07-18 07:09:07,493 INFO 9000/9003 word vectors initialized (hit rate: 99.97%)\n",
      "2019-07-18 07:09:07,520 INFO Initializing aspect embedding matrix as centroid of kmean clusters\n",
      "2019-07-18 07:09:07,862 WARNING From /usr/local/lib/python3.6/dist-packages/keras/optimizers.py:790: The name tf.train.Optimizer is deprecated. Please use tf.compat.v1.train.Optimizer instead.\n",
      "\n",
      "2019-07-18 07:09:07,878 INFO --------------------------------------------------------------------------------\n",
      "  0% 0/5999 [00:00<?, ?it/s]2019-07-18 07:09:08,229 WARNING From /usr/local/lib/python3.6/dist-packages/tensorflow/python/ops/math_grad.py:1250: add_dispatch_support.<locals>.wrapper (from tensorflow.python.ops.array_ops) is deprecated and will be removed in a future version.\n",
      "Instructions for updating:\n",
      "Use tf.where in 2.0, which has the same broadcast rule as np.where\n",
      "2019-07-18 07:09:09.168851: E tensorflow/core/grappler/optimizers/dependency_optimizer.cc:697] Iteration = 0, topological sort failed with message: The graph couldn't be sorted in topological order.\n",
      "2019-07-18 07:09:09.172988: E tensorflow/core/grappler/optimizers/dependency_optimizer.cc:697] Iteration = 1, topological sort failed with message: The graph couldn't be sorted in topological order.\n",
      "2019-07-18 07:09:09.177199: E tensorflow/core/grappler/optimizers/meta_optimizer.cc:502] layout failed: Invalid argument: The graph couldn't be sorted in topological order.\n",
      "2019-07-18 07:09:09.205545: E tensorflow/core/grappler/optimizers/meta_optimizer.cc:502] remapper failed: Invalid argument: The graph couldn't be sorted in topological order.\n",
      "2019-07-18 07:09:09.207481: E tensorflow/core/grappler/optimizers/meta_optimizer.cc:502] arithmetic_optimizer failed: Invalid argument: The graph couldn't be sorted in topological order.\n",
      "2019-07-18 07:09:09.209472: E tensorflow/core/grappler/optimizers/dependency_optimizer.cc:697] Iteration = 0, topological sort failed with message: The graph couldn't be sorted in topological order.\n",
      "2019-07-18 07:09:09.212709: E tensorflow/core/grappler/optimizers/dependency_optimizer.cc:697] Iteration = 1, topological sort failed with message: The graph couldn't be sorted in topological order.\n",
      "2019-07-18 07:09:09.311645: I tensorflow/stream_executor/platform/default/dso_loader.cc:42] Successfully opened dynamic library libcublas.so.10.0\n",
      "100% 5999/5999 [01:03<00:00, 94.02it/s]\n",
      "2019-07-18 07:10:14,575 INFO Epoch 0, train: 63s\n",
      "2019-07-18 07:10:14,575 INFO Total loss: 8.4571, max_margin_loss: 8.3127, ortho_reg: 0.1445\n",
      "100% 5999/5999 [01:01<00:00, 97.31it/s]\n",
      "2019-07-18 07:11:17,435 INFO Epoch 1, train: 61s\n",
      "2019-07-18 07:11:17,435 INFO Total loss: 6.6003, max_margin_loss: 6.4928, ortho_reg: 0.1075\n",
      "100% 5999/5999 [01:01<00:00, 97.27it/s]\n",
      "2019-07-18 07:12:20,334 INFO Epoch 2, train: 61s\n",
      "2019-07-18 07:12:20,334 INFO Total loss: 6.4449, max_margin_loss: 6.3365, ortho_reg: 0.1085\n",
      "100% 5999/5999 [01:01<00:00, 96.98it/s]\n",
      "2019-07-18 07:13:23,346 INFO Epoch 3, train: 61s\n",
      "2019-07-18 07:13:23,346 INFO Total loss: 6.3851, max_margin_loss: 6.2770, ortho_reg: 0.1081\n",
      "100% 5999/5999 [01:01<00:00, 96.88it/s]\n",
      "2019-07-18 07:14:26,769 INFO Epoch 4, train: 61s\n",
      "2019-07-18 07:14:26,769 INFO Total loss: 6.3552, max_margin_loss: 6.2478, ortho_reg: 0.1075\n",
      "100% 5999/5999 [01:01<00:00, 99.91it/s]\n",
      "2019-07-18 07:15:29,820 INFO Epoch 5, train: 61s\n",
      "2019-07-18 07:15:29,820 INFO Total loss: 6.3388, max_margin_loss: 6.2320, ortho_reg: 0.1068\n",
      "100% 5999/5999 [01:01<00:00, 96.96it/s]\n",
      "2019-07-18 07:16:32,747 INFO Epoch 6, train: 61s\n",
      "2019-07-18 07:16:32,747 INFO Total loss: 6.3296, max_margin_loss: 6.2233, ortho_reg: 0.1062\n",
      "100% 5999/5999 [01:01<00:00, 96.85it/s]\n",
      "2019-07-18 07:17:35,941 INFO Epoch 7, train: 61s\n",
      "2019-07-18 07:17:35,941 INFO Total loss: 6.3188, max_margin_loss: 6.2129, ortho_reg: 0.1058\n",
      "100% 5999/5999 [01:01<00:00, 98.53it/s]\n",
      "2019-07-18 07:18:38,998 INFO Epoch 8, train: 61s\n",
      "2019-07-18 07:18:38,998 INFO Total loss: 6.3125, max_margin_loss: 6.2070, ortho_reg: 0.1055\n",
      "100% 5999/5999 [01:01<00:00, 96.91it/s]\n",
      "2019-07-18 07:19:41,894 INFO Epoch 9, train: 61s\n",
      "2019-07-18 07:19:41,894 INFO Total loss: 6.3051, max_margin_loss: 6.1998, ortho_reg: 0.1053\n",
      "100% 5999/5999 [01:01<00:00, 97.35it/s]\n",
      "2019-07-18 07:20:44,545 INFO Epoch 10, train: 61s\n",
      "2019-07-18 07:20:44,545 INFO Total loss: 6.3034, max_margin_loss: 6.1983, ortho_reg: 0.1051\n",
      "100% 5999/5999 [01:00<00:00, 95.27it/s]\n",
      "2019-07-18 07:21:46,579 INFO Epoch 11, train: 60s\n",
      "2019-07-18 07:21:46,580 INFO Total loss: 6.3009, max_margin_loss: 6.1959, ortho_reg: 0.1050\n",
      "100% 5999/5999 [01:01<00:00, 98.06it/s]\n",
      "2019-07-18 07:22:48,767 INFO Epoch 12, train: 61s\n",
      "2019-07-18 07:22:48,767 INFO Total loss: 6.2943, max_margin_loss: 6.1895, ortho_reg: 0.1048\n",
      "100% 5999/5999 [01:01<00:00, 98.13it/s]\n",
      "2019-07-18 07:23:50,948 INFO Epoch 13, train: 61s\n",
      "2019-07-18 07:23:50,948 INFO Total loss: 6.2932, max_margin_loss: 6.1885, ortho_reg: 0.1048\n",
      "100% 5999/5999 [01:01<00:00, 97.48it/s]\n",
      "2019-07-18 07:24:53,688 INFO Epoch 14, train: 61s\n",
      "2019-07-18 07:24:53,688 INFO Total loss: 6.2901, max_margin_loss: 6.1854, ortho_reg: 0.1047\n",
      "2019-07-18 07:24:53,698 INFO Cluster Size: 46\n",
      "Creating vocab ...\n",
      "3271219 total words, 73200 unique words\n",
      "keep the top 9000 words\n",
      "Reading dataset ...\n",
      "train set\n",
      "<num> hit rate: 1.10%, <unk> hit rate: 5.92%\n",
      "Number of training examples:  191978\n",
      "Length of vocab:  9003\n",
      "2019-07-18 07:25:02,490 INFO Building glove based model\n",
      "2019-07-18 07:25:02,490 INFO Loading embeddings from: ../preprocessed_data/glove/glove_w2v_300.txt\n",
      "2019-07-18 07:25:02,490 INFO loading projection weights from ../preprocessed_data/glove/glove_w2v_300.txt\n",
      "/usr/local/lib/python3.6/dist-packages/smart_open/smart_open_lib.py:398: UserWarning: This function is deprecated, use smart_open.open instead. See the migration notes for details: https://github.com/RaRe-Technologies/smart_open/blob/master/README.rst#migrating-to-the-new-open-function\n",
      "  'See the migration notes for details: %s' % _MIGRATION_NOTES_URL\n",
      "2019-07-18 07:25:02,490 DEBUG {'transport_params': {}, 'ignore_ext': False, 'opener': None, 'closefd': True, 'newline': None, 'errors': None, 'encoding': None, 'buffering': -1, 'mode': 'rb', 'uri': '../preprocessed_data/glove/glove_w2v_300.txt'}\n",
      "2019-07-18 07:25:09,439 INFO loaded (20000, 300) matrix from ../preprocessed_data/glove/glove_w2v_300.txt\n",
      "2019-07-18 07:25:10,818 INFO #vectors: 20000, #dimensions: 300\n",
      "2019-07-18 07:26:10,858 INFO Initializing word embedding matrix\n",
      "2019-07-18 07:26:11,213 INFO 9000/9003 word vectors initialized (hit rate: 99.97%)\n",
      "2019-07-18 07:26:11,275 INFO Initializing aspect embedding matrix as centroid of kmean clusters\n",
      "2019-07-18 07:26:11,673 INFO --------------------------------------------------------------------------------\n",
      "  0% 0/5999 [00:00<?, ?it/s]2019-07-18 07:26:13.033269: E tensorflow/core/grappler/optimizers/dependency_optimizer.cc:697] Iteration = 0, topological sort failed with message: The graph couldn't be sorted in topological order.\n",
      "2019-07-18 07:26:13.037775: E tensorflow/core/grappler/optimizers/dependency_optimizer.cc:697] Iteration = 1, topological sort failed with message: The graph couldn't be sorted in topological order.\n",
      "2019-07-18 07:26:13.041911: E tensorflow/core/grappler/optimizers/meta_optimizer.cc:502] layout failed: Invalid argument: The graph couldn't be sorted in topological order.\n",
      "2019-07-18 07:26:13.072512: E tensorflow/core/grappler/optimizers/meta_optimizer.cc:502] remapper failed: Invalid argument: The graph couldn't be sorted in topological order.\n",
      "2019-07-18 07:26:13.075185: E tensorflow/core/grappler/optimizers/meta_optimizer.cc:502] arithmetic_optimizer failed: Invalid argument: The graph couldn't be sorted in topological order.\n",
      "2019-07-18 07:26:13.077174: E tensorflow/core/grappler/optimizers/dependency_optimizer.cc:697] Iteration = 0, topological sort failed with message: The graph couldn't be sorted in topological order.\n",
      "2019-07-18 07:26:13.080419: E tensorflow/core/grappler/optimizers/dependency_optimizer.cc:697] Iteration = 1, topological sort failed with message: The graph couldn't be sorted in topological order.\n",
      "100% 5999/5999 [01:05<00:00, 92.24it/s]\n",
      "2019-07-18 07:27:18,132 INFO Epoch 0, train: 65s\n",
      "2019-07-18 07:27:18,132 INFO Total loss: 8.2407, max_margin_loss: 8.0955, ortho_reg: 0.1452\n",
      "100% 5999/5999 [01:03<00:00, 94.07it/s]\n",
      "2019-07-18 07:28:23,153 INFO Epoch 1, train: 63s\n",
      "2019-07-18 07:28:23,153 INFO Total loss: 6.5246, max_margin_loss: 6.4179, ortho_reg: 0.1068\n",
      "100% 5999/5999 [01:03<00:00, 94.71it/s]\n",
      "2019-07-18 07:29:27,708 INFO Epoch 2, train: 63s\n",
      "2019-07-18 07:29:27,709 INFO Total loss: 6.3420, max_margin_loss: 6.2337, ortho_reg: 0.1083\n",
      "100% 5999/5999 [01:03<00:00, 94.42it/s]\n",
      "2019-07-18 07:30:32,455 INFO Epoch 3, train: 63s\n",
      "2019-07-18 07:30:32,455 INFO Total loss: 6.2778, max_margin_loss: 6.1693, ortho_reg: 0.1085\n",
      "100% 5999/5999 [01:02<00:00, 95.37it/s]\n",
      "2019-07-18 07:31:36,360 INFO Epoch 4, train: 62s\n",
      "2019-07-18 07:31:36,360 INFO Total loss: 6.2456, max_margin_loss: 6.1375, ortho_reg: 0.1081\n",
      "100% 5999/5999 [01:03<00:00, 94.93it/s]\n",
      "2019-07-18 07:32:40,938 INFO Epoch 5, train: 63s\n",
      "2019-07-18 07:32:40,938 INFO Total loss: 6.2278, max_margin_loss: 6.1202, ortho_reg: 0.1076\n",
      "100% 5999/5999 [01:03<00:00, 95.02it/s]\n",
      "2019-07-18 07:33:45,320 INFO Epoch 6, train: 63s\n",
      "2019-07-18 07:33:45,320 INFO Total loss: 6.2149, max_margin_loss: 6.1079, ortho_reg: 0.1071\n",
      "100% 5999/5999 [01:03<00:00, 94.95it/s]\n",
      "2019-07-18 07:34:49,524 INFO Epoch 7, train: 63s\n",
      "2019-07-18 07:34:49,524 INFO Total loss: 6.2074, max_margin_loss: 6.1008, ortho_reg: 0.1066\n",
      "100% 5999/5999 [01:03<00:00, 94.83it/s]\n",
      "2019-07-18 07:35:53,969 INFO Epoch 8, train: 63s\n",
      "2019-07-18 07:35:53,970 INFO Total loss: 6.2005, max_margin_loss: 6.0942, ortho_reg: 0.1063\n",
      "100% 5999/5999 [01:03<00:00, 94.98it/s]\n",
      "2019-07-18 07:36:58,176 INFO Epoch 9, train: 63s\n",
      "2019-07-18 07:36:58,177 INFO Total loss: 6.1921, max_margin_loss: 6.0861, ortho_reg: 0.1060\n",
      "100% 5999/5999 [01:03<00:00, 94.62it/s]\n",
      "2019-07-18 07:38:02,612 INFO Epoch 10, train: 63s\n",
      "2019-07-18 07:38:02,612 INFO Total loss: 6.1907, max_margin_loss: 6.0850, ortho_reg: 0.1058\n",
      "100% 5999/5999 [01:03<00:00, 94.57it/s]\n",
      "2019-07-18 07:39:07,042 INFO Epoch 11, train: 63s\n",
      "2019-07-18 07:39:07,042 INFO Total loss: 6.1857, max_margin_loss: 6.0801, ortho_reg: 0.1056\n",
      "100% 5999/5999 [01:03<00:00, 94.29it/s]\n",
      "2019-07-18 07:40:11,894 INFO Epoch 12, train: 63s\n",
      "2019-07-18 07:40:11,894 INFO Total loss: 6.1821, max_margin_loss: 6.0767, ortho_reg: 0.1054\n",
      "100% 5999/5999 [01:03<00:00, 94.05it/s]\n",
      "2019-07-18 07:41:16,717 INFO Epoch 13, train: 63s\n",
      "2019-07-18 07:41:16,717 INFO Total loss: 6.1781, max_margin_loss: 6.0728, ortho_reg: 0.1052\n",
      "100% 5999/5999 [01:03<00:00, 94.23it/s]\n",
      "2019-07-18 07:42:21,484 INFO Epoch 14, train: 63s\n",
      "2019-07-18 07:42:21,485 INFO Total loss: 6.1771, max_margin_loss: 6.0720, ortho_reg: 0.1051\n",
      "2019-07-18 07:42:21,489 INFO Cluster Size: 49\n",
      "Creating vocab ...\n",
      "3271219 total words, 73200 unique words\n",
      "keep the top 9000 words\n",
      "Reading dataset ...\n",
      "train set\n",
      "<num> hit rate: 1.10%, <unk> hit rate: 5.92%\n",
      "Number of training examples:  191978\n",
      "Length of vocab:  9003\n",
      "2019-07-18 07:42:30,135 INFO Building glove based model\n",
      "2019-07-18 07:42:30,135 INFO Loading embeddings from: ../preprocessed_data/glove/glove_w2v_300.txt\n",
      "2019-07-18 07:42:30,135 INFO loading projection weights from ../preprocessed_data/glove/glove_w2v_300.txt\n",
      "/usr/local/lib/python3.6/dist-packages/smart_open/smart_open_lib.py:398: UserWarning: This function is deprecated, use smart_open.open instead. See the migration notes for details: https://github.com/RaRe-Technologies/smart_open/blob/master/README.rst#migrating-to-the-new-open-function\n",
      "  'See the migration notes for details: %s' % _MIGRATION_NOTES_URL\n",
      "2019-07-18 07:42:30,135 DEBUG {'transport_params': {}, 'ignore_ext': False, 'opener': None, 'closefd': True, 'newline': None, 'errors': None, 'encoding': None, 'buffering': -1, 'mode': 'rb', 'uri': '../preprocessed_data/glove/glove_w2v_300.txt'}\n",
      "2019-07-18 07:42:36,894 INFO loaded (20000, 300) matrix from ../preprocessed_data/glove/glove_w2v_300.txt\n",
      "2019-07-18 07:42:38,333 INFO #vectors: 20000, #dimensions: 300\n",
      "2019-07-18 07:43:40,637 INFO Initializing word embedding matrix\n",
      "2019-07-18 07:43:41,066 INFO 9000/9003 word vectors initialized (hit rate: 99.97%)\n",
      "2019-07-18 07:43:41,171 INFO Initializing aspect embedding matrix as centroid of kmean clusters\n",
      "2019-07-18 07:43:41,614 INFO --------------------------------------------------------------------------------\n",
      "  0% 0/5999 [00:00<?, ?it/s]2019-07-18 07:43:43.071628: E tensorflow/core/grappler/optimizers/dependency_optimizer.cc:697] Iteration = 0, topological sort failed with message: The graph couldn't be sorted in topological order.\n",
      "2019-07-18 07:43:43.075752: E tensorflow/core/grappler/optimizers/dependency_optimizer.cc:697] Iteration = 1, topological sort failed with message: The graph couldn't be sorted in topological order.\n",
      "2019-07-18 07:43:43.079557: E tensorflow/core/grappler/optimizers/meta_optimizer.cc:502] layout failed: Invalid argument: The graph couldn't be sorted in topological order.\n",
      "2019-07-18 07:43:43.108402: E tensorflow/core/grappler/optimizers/meta_optimizer.cc:502] remapper failed: Invalid argument: The graph couldn't be sorted in topological order.\n",
      "2019-07-18 07:43:43.110665: E tensorflow/core/grappler/optimizers/meta_optimizer.cc:502] arithmetic_optimizer failed: Invalid argument: The graph couldn't be sorted in topological order.\n",
      "2019-07-18 07:43:43.112791: E tensorflow/core/grappler/optimizers/dependency_optimizer.cc:697] Iteration = 0, topological sort failed with message: The graph couldn't be sorted in topological order.\n",
      "2019-07-18 07:43:43.116303: E tensorflow/core/grappler/optimizers/dependency_optimizer.cc:697] Iteration = 1, topological sort failed with message: The graph couldn't be sorted in topological order.\n",
      "100% 5999/5999 [01:04<00:00, 93.73it/s]\n",
      "2019-07-18 07:44:46,982 INFO Epoch 0, train: 64s\n",
      "2019-07-18 07:44:46,982 INFO Total loss: 8.3035, max_margin_loss: 8.1451, ortho_reg: 0.1584\n",
      "100% 5999/5999 [01:02<00:00, 96.18it/s]\n",
      "2019-07-18 07:45:50,385 INFO Epoch 1, train: 62s\n",
      "2019-07-18 07:45:50,385 INFO Total loss: 6.3580, max_margin_loss: 6.2517, ortho_reg: 0.1063\n",
      "100% 5999/5999 [01:02<00:00, 96.24it/s]\n",
      "2019-07-18 07:46:53,642 INFO Epoch 2, train: 62s\n",
      "2019-07-18 07:46:53,642 INFO Total loss: 6.1751, max_margin_loss: 6.0678, ortho_reg: 0.1072\n",
      "100% 5999/5999 [01:02<00:00, 96.29it/s]\n",
      "2019-07-18 07:47:57,191 INFO Epoch 3, train: 62s\n",
      "2019-07-18 07:47:57,191 INFO Total loss: 6.0978, max_margin_loss: 5.9903, ortho_reg: 0.1074\n",
      "100% 5999/5999 [01:02<00:00, 96.00it/s]\n",
      "2019-07-18 07:49:00,922 INFO Epoch 4, train: 62s\n",
      "2019-07-18 07:49:00,923 INFO Total loss: 6.0660, max_margin_loss: 5.9587, ortho_reg: 0.1073\n",
      "100% 5999/5999 [01:02<00:00, 95.96it/s]\n",
      "2019-07-18 07:50:04,521 INFO Epoch 5, train: 62s\n",
      "2019-07-18 07:50:04,521 INFO Total loss: 6.0435, max_margin_loss: 5.9365, ortho_reg: 0.1070\n",
      "100% 5999/5999 [01:02<00:00, 96.26it/s]\n",
      "2019-07-18 07:51:07,912 INFO Epoch 6, train: 62s\n",
      "2019-07-18 07:51:07,912 INFO Total loss: 6.0346, max_margin_loss: 5.9278, ortho_reg: 0.1068\n",
      "100% 5999/5999 [01:02<00:00, 96.66it/s]\n",
      "2019-07-18 07:52:11,495 INFO Epoch 7, train: 62s\n",
      "2019-07-18 07:52:11,495 INFO Total loss: 6.0224, max_margin_loss: 5.9159, ortho_reg: 0.1065\n",
      "100% 5999/5999 [01:02<00:00, 96.04it/s]\n",
      "2019-07-18 07:53:15,024 INFO Epoch 8, train: 62s\n",
      "2019-07-18 07:53:15,024 INFO Total loss: 6.0165, max_margin_loss: 5.9102, ortho_reg: 0.1063\n",
      "100% 5999/5999 [01:02<00:00, 96.25it/s]\n",
      "2019-07-18 07:54:18,428 INFO Epoch 9, train: 62s\n",
      "2019-07-18 07:54:18,428 INFO Total loss: 6.0108, max_margin_loss: 5.9047, ortho_reg: 0.1061\n",
      "100% 5999/5999 [01:02<00:00, 96.09it/s]\n",
      "2019-07-18 07:55:21,923 INFO Epoch 10, train: 62s\n",
      "2019-07-18 07:55:21,923 INFO Total loss: 6.0096, max_margin_loss: 5.9037, ortho_reg: 0.1060\n",
      "100% 5999/5999 [01:02<00:00, 97.11it/s]\n",
      "2019-07-18 07:56:25,920 INFO Epoch 11, train: 62s\n",
      "2019-07-18 07:56:25,920 INFO Total loss: 5.9997, max_margin_loss: 5.8939, ortho_reg: 0.1059\n",
      "100% 5999/5999 [01:02<00:00, 95.58it/s]\n",
      "2019-07-18 07:57:28,686 INFO Epoch 12, train: 62s\n",
      "2019-07-18 07:57:28,686 INFO Total loss: 6.0004, max_margin_loss: 5.8946, ortho_reg: 0.1058\n",
      "100% 5999/5999 [01:02<00:00, 95.66it/s]\n",
      "2019-07-18 07:58:32,476 INFO Epoch 13, train: 62s\n",
      "2019-07-18 07:58:32,476 INFO Total loss: 5.9952, max_margin_loss: 5.8896, ortho_reg: 0.1056\n",
      "100% 5999/5999 [01:02<00:00, 95.85it/s]\n",
      "2019-07-18 07:59:36,142 INFO Epoch 14, train: 62s\n",
      "2019-07-18 07:59:36,142 INFO Total loss: 5.9909, max_margin_loss: 5.8853, ortho_reg: 0.1056\n",
      "2019-07-18 07:59:36,536 DEBUG update_title_pos\n",
      "2019-07-18 07:59:36,545 DEBUG findfont: Matching :family=sans-serif:style=normal:variant=normal:weight=normal:stretch=normal:size=10.0 to DejaVu Sans ('/usr/local/lib/python3.6/dist-packages/matplotlib/mpl-data/fonts/ttf/DejaVuSans.ttf') with score of 0.050000.\n",
      "2019-07-18 07:59:36,591 DEBUG findfont: Matching :family=sans-serif:style=normal:variant=normal:weight=normal:stretch=normal:size=12.0 to DejaVu Sans ('/usr/local/lib/python3.6/dist-packages/matplotlib/mpl-data/fonts/ttf/DejaVuSans.ttf') with score of 0.050000.\n",
      "2019-07-18 07:59:36,650 DEBUG update_title_pos\n",
      "<Figure size 640x480 with 1 Axes>\n"
     ]
    }
   ],
   "source": [
    "!python train.py -v 15000 --maxlen 256 --emb-name glove_w2v_300.txt -emb_tech glove --c_range '43-51' --epochs 15 -e 300 --cluster_step 3"
   ]
  },
  {
   "cell_type": "code",
   "execution_count": 0,
   "metadata": {
    "colab": {},
    "colab_type": "code",
    "id": "nE_sh1DEshCA"
   },
   "outputs": [],
   "source": []
  }
 ],
 "metadata": {
  "accelerator": "GPU",
  "colab": {
   "collapsed_sections": [],
   "name": "train.ipynb",
   "provenance": [],
   "version": "0.3.2"
  },
  "kernelspec": {
   "display_name": "Python 3",
   "language": "python",
   "name": "python3"
  },
  "language_info": {
   "codemirror_mode": {
    "name": "ipython",
    "version": 3
   },
   "file_extension": ".py",
   "mimetype": "text/x-python",
   "name": "python",
   "nbconvert_exporter": "python",
   "pygments_lexer": "ipython3",
   "version": "3.5.2"
  }
 },
 "nbformat": 4,
 "nbformat_minor": 1
}
