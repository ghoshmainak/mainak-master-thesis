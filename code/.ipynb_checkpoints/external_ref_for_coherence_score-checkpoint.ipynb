{
 "cells": [
  {
   "cell_type": "code",
   "execution_count": 4,
   "metadata": {},
   "outputs": [
    {
     "name": "stdout",
     "output_type": "stream",
     "text": [
      "Requirement already satisfied: smart_open in /usr/local/lib/python3.5/dist-packages (1.8.4)\n",
      "Requirement already satisfied: requests in /usr/local/lib/python3.5/dist-packages (from smart_open) (2.22.0)\n",
      "Requirement already satisfied: boto3 in /usr/local/lib/python3.5/dist-packages (from smart_open) (1.9.190)\n",
      "Requirement already satisfied: boto>=2.32 in /usr/local/lib/python3.5/dist-packages (from smart_open) (2.49.0)\n",
      "Requirement already satisfied: idna<2.9,>=2.5 in /usr/local/lib/python3.5/dist-packages (from requests->smart_open) (2.8)\n",
      "Requirement already satisfied: certifi>=2017.4.17 in /usr/local/lib/python3.5/dist-packages (from requests->smart_open) (2019.6.16)\n",
      "Requirement already satisfied: urllib3!=1.25.0,!=1.25.1,<1.26,>=1.21.1 in /usr/local/lib/python3.5/dist-packages (from requests->smart_open) (1.25.3)\n",
      "Requirement already satisfied: chardet<3.1.0,>=3.0.2 in /usr/local/lib/python3.5/dist-packages (from requests->smart_open) (3.0.4)\n",
      "Requirement already satisfied: jmespath<1.0.0,>=0.7.1 in /usr/local/lib/python3.5/dist-packages (from boto3->smart_open) (0.9.4)\n",
      "Requirement already satisfied: botocore<1.13.0,>=1.12.190 in /usr/local/lib/python3.5/dist-packages (from boto3->smart_open) (1.12.190)\n",
      "Requirement already satisfied: s3transfer<0.3.0,>=0.2.0 in /usr/local/lib/python3.5/dist-packages (from boto3->smart_open) (0.2.1)\n",
      "Requirement already satisfied: docutils>=0.10 in /usr/local/lib/python3.5/dist-packages (from botocore<1.13.0,>=1.12.190->boto3->smart_open) (0.14)\n",
      "Requirement already satisfied: python-dateutil<3.0.0,>=2.1; python_version >= \"2.7\" in /usr/local/lib/python3.5/dist-packages (from botocore<1.13.0,>=1.12.190->boto3->smart_open) (2.7.5)\n",
      "Requirement already satisfied: six>=1.5 in /usr/local/lib/python3.5/dist-packages (from python-dateutil<3.0.0,>=2.1; python_version >= \"2.7\"->botocore<1.13.0,>=1.12.190->boto3->smart_open) (1.11.0)\n",
      "\u001b[33mYou are using pip version 18.1, however version 19.2.2 is available.\n",
      "You should consider upgrading via the 'pip install --upgrade pip' command.\u001b[0m\n"
     ]
    }
   ],
   "source": [
    " !pip install smart-open"
   ]
  },
  {
   "cell_type": "code",
   "execution_count": 9,
   "metadata": {},
   "outputs": [],
   "source": [
    "import logging\n",
    "import itertools\n",
    "\n",
    "import numpy as np\n",
    "import gensim"
   ]
  },
  {
   "cell_type": "code",
   "execution_count": 11,
   "metadata": {},
   "outputs": [],
   "source": [
    "from gensim.utils import simple_preprocess\n",
    "import smart_open\n",
    "from gensim.corpora.wikicorpus import _extract_pages, filter_wiki\n",
    "from gensim.parsing.preprocessing import STOPWORDS\n",
    "\n",
    "def tokenize(text):\n",
    "    return [token for token in simple_preprocess(text) if token not in STOPWORDS]\n",
    "\n",
    "def iter_wiki(dump_file):\n",
    "    \"\"\"Yield each article from the Wikipedia dump, as a `(title, tokens)` 2-tuple.\"\"\"\n",
    "    ignore_namespaces = 'Wikipedia Category File Portal Template MediaWiki User Help Book Draft'.split()\n",
    "    for title, text, pageid in _extract_pages(smart_open.open(dump_file)):\n",
    "        text = filter_wiki(text)\n",
    "        tokens = tokenize(text)\n",
    "        if len(tokens) < 50 or any(title.startswith(ns + ':') for ns in ignore_namespaces):\n",
    "            continue  # ignore short articles and various meta-articles\n",
    "        yield title, tokens, text"
   ]
  },
  {
   "cell_type": "code",
   "execution_count": 15,
   "metadata": {},
   "outputs": [
    {
     "name": "stdout",
     "output_type": "stream",
     "text": [
      "Anarchism ['anarchism', 'anti', 'authoritarian', 'political', 'philosophy', 'rejects', 'hierarchies', 'deemed', 'unjust', 'advocates']\n",
      "Autism ['autism', 'developmental', 'disorder', 'characterized', 'difficulties', 'social', 'interaction', 'communication', 'restricted', 'repetitive']\n",
      "Albedo ['diffusely', 'reflected', 'sunlight', 'relative', 'surface', 'conditions', 'albedo', 'meaning', 'whiteness', 'measure']\n",
      "A ['named', 'plural', 'aes', 'letter', 'vowel', 'modern', 'english', 'alphabet', 'iso', 'basic']\n",
      "Alabama ['alabama', 'state', 'southeastern', 'region', 'united', 'states', 'bordered', 'tennessee', 'north', 'georgia']\n",
      "Achilles ['pottery', 'painting', 'dating', 'bc', 'achilles', 'killing', 'ethiopian', 'king', 'memnon', 'fought']\n",
      "Abraham Lincoln ['abraham', 'lincoln', 'february', 'april', 'american', 'statesman', 'lawyer', 'served', 'th', 'president']\n",
      "Aristotle ['aristotle', 'aristotélēs', 'bc', 'greek', 'philosopher', 'classical', 'period', 'ancient', 'greece', 'founder']\n"
     ]
    }
   ],
   "source": [
    "# only use simplewiki in this tutorial (fewer documents)\n",
    "# the full wiki dump is exactly the same format, but larger\n",
    "stream = iter_wiki('../data/enwiki-20190801-pages-articles-multistream1.xml-p10p30302.bz2')\n",
    "for title, tokens in itertools.islice(iter_wiki('../data/enwiki-20190801-pages-articles-multistream1.xml-p10p30302.bz2'), 8):\n",
    "    print(title, tokens[:10])  # print the article title and its first ten tokens"
   ]
  },
  {
   "cell_type": "code",
   "execution_count": 17,
   "metadata": {},
   "outputs": [],
   "source": [
    "doc_stream = (tokens for _, tokens in iter_wiki('../data/enwiki-20190801-pages-articles-multistream1.xml-p10p30302.bz2'))"
   ]
  },
  {
   "cell_type": "code",
   "execution_count": 18,
   "metadata": {},
   "outputs": [
    {
     "name": "stdout",
     "output_type": "stream",
     "text": [
      "CPU times: user 6min 28s, sys: 121 ms, total: 6min 28s\n",
      "Wall time: 6min 28s\n",
      "Dictionary(566311 unique tokens: ['palea', 'lido', 'viteliu', 'croixdusud', 'goostman']...)\n"
     ]
    }
   ],
   "source": [
    "%time id2word_wiki = gensim.corpora.Dictionary(doc_stream)\n",
    "print(id2word_wiki)"
   ]
  },
  {
   "cell_type": "code",
   "execution_count": null,
   "metadata": {},
   "outputs": [],
   "source": []
  }
 ],
 "metadata": {
  "kernelspec": {
   "display_name": "Python 3",
   "language": "python",
   "name": "python3"
  },
  "language_info": {
   "codemirror_mode": {
    "name": "ipython",
    "version": 3
   },
   "file_extension": ".py",
   "mimetype": "text/x-python",
   "name": "python",
   "nbconvert_exporter": "python",
   "pygments_lexer": "ipython3",
   "version": "3.5.2"
  }
 },
 "nbformat": 4,
 "nbformat_minor": 2
}
