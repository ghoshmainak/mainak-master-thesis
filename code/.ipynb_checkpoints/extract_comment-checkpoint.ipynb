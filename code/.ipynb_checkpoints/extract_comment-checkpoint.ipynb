{
 "cells": [
  {
   "cell_type": "code",
   "execution_count": null,
   "metadata": {
    "colab": {
     "base_uri": "https://localhost:8080/",
     "height": 34
    },
    "colab_type": "code",
    "executionInfo": {
     "elapsed": 464,
     "status": "ok",
     "timestamp": 1558126305005,
     "user": {
      "displayName": "Mainak Ghosh",
      "photoUrl": "",
      "userId": "09457005437453189534"
     },
     "user_tz": -120
    },
    "id": "qeyNBNARJCVt",
    "outputId": "0b719191-0aff-45e9-d36f-25f8a59c6d54"
   },
   "outputs": [],
   "source": [
    "%cd /content/drive/My\\ Drive/Colab\\ Notebooks/Master\\ Thesis/master-thesis/code"
   ]
  },
  {
   "cell_type": "code",
   "execution_count": 1,
   "metadata": {
    "colab": {},
    "colab_type": "code",
    "id": "ajuK8Ck1KA2T"
   },
   "outputs": [
    {
     "name": "stderr",
     "output_type": "stream",
     "text": [
      "Using TensorFlow backend.\n",
      "[nltk_data] Downloading package stopwords to /root/nltk_data...\n",
      "[nltk_data]   Package stopwords is already up-to-date!\n",
      "[nltk_data] Downloading package wordnet to /root/nltk_data...\n",
      "[nltk_data]   Package wordnet is already up-to-date!\n"
     ]
    }
   ],
   "source": [
    "import util\n",
    "import preprocess as pp"
   ]
  },
  {
   "cell_type": "code",
   "execution_count": null,
   "metadata": {
    "colab": {},
    "colab_type": "code",
    "id": "G2KSzKp8wM7_"
   },
   "outputs": [],
   "source": [
    "READ_PATH=\"../data/raw_source_data/english/biased/foodrevolution.json\"\n",
    "OUTPUT_PATH=\"../output/biased_comments.txt\""
   ]
  },
  {
   "cell_type": "code",
   "execution_count": null,
   "metadata": {
    "colab": {
     "base_uri": "https://localhost:8080/",
     "height": 52
    },
    "colab_type": "code",
    "executionInfo": {
     "elapsed": 1140,
     "status": "ok",
     "timestamp": 1558126442386,
     "user": {
      "displayName": "Mainak Ghosh",
      "photoUrl": "",
      "userId": "09457005437453189534"
     },
     "user_tz": -120
    },
    "id": "LFalQvsANv8i",
    "outputId": "52f49f01-7259-45fe-864b-efc04b618bb6"
   },
   "outputs": [],
   "source": [
    "util.extractComment(READ_PATH,OUTPUT_PATH)"
   ]
  },
  {
   "cell_type": "code",
   "execution_count": 2,
   "metadata": {
    "colab": {},
    "colab_type": "code",
    "id": "7hZ7BuIHkHii"
   },
   "outputs": [],
   "source": [
    "util.concatFiles([\"../output/forum_comments.txt\",\"../output/biased_comments.txt\",\"../output/newssites_comments.txt\"],\"../output/whole_comments.txt\")"
   ]
  },
  {
   "cell_type": "code",
   "execution_count": 2,
   "metadata": {},
   "outputs": [],
   "source": [
    "pp.preprocessTrain(\"../output/whole_comments.txt\",\"../preprocessed_data/whole_comments.txt\")"
   ]
  },
  {
   "cell_type": "markdown",
   "metadata": {},
   "source": [
    "### filter data based on organic, food, conventional, gm, genitically modified"
   ]
  },
  {
   "cell_type": "code",
   "execution_count": 3,
   "metadata": {},
   "outputs": [
    {
     "name": "stderr",
     "output_type": "stream",
     "text": [
      "2019-07-27 09:28:43,876 INFO #original_comments: 191330\n",
      "2019-07-27 09:28:43,991 INFO #filterd_comments: 70719\n"
     ]
    },
    {
     "ename": "NameError",
     "evalue": "name 'OUTPUT_PATH' is not defined",
     "output_type": "error",
     "traceback": [
      "\u001b[0;31m---------------------------------------------------------------------------\u001b[0m",
      "\u001b[0;31mNameError\u001b[0m                                 Traceback (most recent call last)",
      "\u001b[0;32m<ipython-input-3-672e58573569>\u001b[0m in \u001b[0;36m<module>\u001b[0;34m\u001b[0m\n\u001b[1;32m      1\u001b[0m util.filter_data_based_on_words(\"../preprocessed_data/whole_comments.txt\", ['organic', 'food',\n\u001b[0;32m----> 2\u001b[0;31m                                                                            'conventional','gm', 'genitically modified'])\n\u001b[0m",
      "\u001b[0;32m/sharedfolder/master-thesis/code/util.py\u001b[0m in \u001b[0;36mfilter_data_based_on_words\u001b[0;34m(infile, words)\u001b[0m\n\u001b[1;32m    138\u001b[0m     \u001b[0mfiltered_lines\u001b[0m \u001b[0;34m=\u001b[0m \u001b[0mlist\u001b[0m\u001b[0;34m(\u001b[0m\u001b[0mfilter\u001b[0m\u001b[0;34m(\u001b[0m\u001b[0mfilter_fn\u001b[0m\u001b[0;34m,\u001b[0m \u001b[0mlines\u001b[0m\u001b[0;34m)\u001b[0m\u001b[0;34m)\u001b[0m\u001b[0;34m\u001b[0m\u001b[0m\n\u001b[1;32m    139\u001b[0m     \u001b[0mlogger\u001b[0m\u001b[0;34m.\u001b[0m\u001b[0minfo\u001b[0m\u001b[0;34m(\u001b[0m\u001b[0;34m'#filterd_comments: {}'\u001b[0m\u001b[0;34m.\u001b[0m\u001b[0mformat\u001b[0m\u001b[0;34m(\u001b[0m\u001b[0mlen\u001b[0m\u001b[0;34m(\u001b[0m\u001b[0mfiltered_lines\u001b[0m\u001b[0;34m)\u001b[0m\u001b[0;34m)\u001b[0m\u001b[0;34m)\u001b[0m\u001b[0;34m\u001b[0m\u001b[0m\n\u001b[0;32m--> 140\u001b[0;31m     \u001b[0mwriteFile4mListValues\u001b[0m\u001b[0;34m(\u001b[0m\u001b[0mOUTPUT_PATH\u001b[0m\u001b[0;34m,\u001b[0m \u001b[0mfiltered_lines\u001b[0m\u001b[0;34m,\u001b[0m \u001b[0;34m'w'\u001b[0m\u001b[0;34m)\u001b[0m\u001b[0;34m\u001b[0m\u001b[0m\n\u001b[0m\u001b[1;32m    141\u001b[0m \u001b[0;34m\u001b[0m\u001b[0m\n\u001b[1;32m    142\u001b[0m \u001b[0;34m\u001b[0m\u001b[0m\n",
      "\u001b[0;31mNameError\u001b[0m: name 'OUTPUT_PATH' is not defined"
     ]
    }
   ],
   "source": [
    "util.filter_data_based_on_words(\"../preprocessed_data/whole_comments.txt\", ['organic', 'food',\n",
    "                                                                           'conventional','gm', \n",
    "                                                                            'genitically modified'])"
   ]
  },
  {
   "cell_type": "markdown",
   "metadata": {},
   "source": [
    "## German data extraction"
   ]
  },
  {
   "cell_type": "code",
   "execution_count": 3,
   "metadata": {},
   "outputs": [],
   "source": [
    "import util"
   ]
  },
  {
   "cell_type": "code",
   "execution_count": 2,
   "metadata": {},
   "outputs": [
    {
     "name": "stdout",
     "output_type": "stream",
     "text": [
      "total aticles 62860\n",
      "relevant aticles 21551\n",
      "total aticles 3535\n",
      "relevant aticles 1279\n",
      "total aticles 5806\n",
      "relevant aticles 2477\n",
      "total aticles 1992\n",
      "relevant aticles 678\n",
      "total aticles 129\n",
      "relevant aticles 65\n",
      "total aticles 923\n",
      "relevant aticles 295\n",
      "total aticles 4872\n",
      "relevant aticles 1139\n",
      "total aticles 870\n",
      "relevant aticles 471\n",
      "total aticles 1827\n",
      "relevant aticles 459\n",
      "total aticles 5537\n",
      "relevant aticles 2608\n",
      "total aticles 386\n",
      "relevant aticles 343\n",
      "total aticles 3636\n",
      "relevant aticles 1835\n",
      "total aticles 1477\n",
      "relevant aticles 941\n",
      "total aticles 4377\n",
      "relevant aticles 841\n",
      "total aticles 397\n",
      "relevant aticles 262\n",
      "total aticles 3015\n",
      "relevant aticles 1796\n",
      "total aticles 622\n",
      "relevant aticles 162\n",
      "total aticles 1808\n",
      "relevant aticles 822\n",
      "total aticles 80715\n",
      "relevant aticles 50790\n",
      "total aticles 1450\n",
      "relevant aticles 530\n",
      "total aticles 699\n",
      "relevant aticles 347\n",
      "total aticles 8496\n",
      "relevant aticles 2977\n",
      "total aticles 2898\n",
      "relevant aticles 740\n",
      "total aticles 6005\n",
      "relevant aticles 4100\n",
      "total aticles 287\n",
      "relevant aticles 188\n",
      "total aticles 1665\n",
      "relevant aticles 488\n",
      "total aticles 63\n",
      "relevant aticles 63\n",
      "total aticles 241\n",
      "relevant aticles 195\n",
      "total aticles 28\n",
      "relevant aticles 28\n",
      "total aticles 9804\n",
      "relevant aticles 5750\n",
      "total aticles 34\n",
      "relevant aticles 34\n",
      "total aticles 4831\n",
      "relevant aticles 1255\n",
      "total aticles 18\n",
      "relevant aticles 18\n",
      "total aticles 1875\n",
      "relevant aticles 659\n",
      "total aticles 10\n",
      "relevant aticles 7\n",
      "total aticles 1179\n",
      "relevant aticles 162\n",
      "total aticles 6\n",
      "relevant aticles 6\n",
      "total aticles 83\n",
      "relevant aticles 80\n",
      "total aticles 25\n",
      "relevant aticles 5\n",
      "total aticles 6\n",
      "relevant aticles 5\n",
      "total aticles 2577\n",
      "relevant aticles 687\n",
      "total aticles 10\n",
      "relevant aticles 8\n",
      "total aticles 2\n",
      "relevant aticles 0\n",
      "total aticles 359\n",
      "relevant aticles 299\n",
      "total aticles 15\n",
      "relevant aticles 15\n",
      "These files have no comment and all others have been extracted: \n",
      "\n",
      "['../data/raw_source_data/german/unbiased/newssites/krone.json', '../data/raw_source_data/german/unbiased/newssites/wdr.json', '../data/raw_source_data/german/unbiased/newssites/swr.json', '../data/raw_source_data/german/unbiased/newssites/huffingtonpost_de.json', '../data/raw_source_data/german/unbiased/newssites/salzburgcom.json', '../data/raw_source_data/german/unbiased/newssites/luzernzeitung.json', '../data/raw_source_data/german/unbiased/newssites/ndr.json', '../data/raw_source_data/german/unbiased/forums/forum_ernaehrung.json']\n"
     ]
    }
   ],
   "source": [
    "util.extractCommentGivenFolder(\"../data/raw_source_data/german/\",\"../output/german/whole_comments.txt\")"
   ]
  },
  {
   "cell_type": "code",
   "execution_count": 2,
   "metadata": {},
   "outputs": [],
   "source": [
    "pp.preprocessTrain(\"../output/german/whole_comments.txt\",\"../preprocessed_data/german/whole_comments_v2.txt\",'DE')"
   ]
  },
  {
   "cell_type": "code",
   "execution_count": null,
   "metadata": {},
   "outputs": [],
   "source": []
  }
 ],
 "metadata": {
  "colab": {
   "collapsed_sections": [],
   "name": "extract_comment.ipynb",
   "provenance": [],
   "version": "0.3.2"
  },
  "kernelspec": {
   "display_name": "Python 3",
   "language": "python",
   "name": "python3"
  },
  "language_info": {
   "codemirror_mode": {
    "name": "ipython",
    "version": 3
   },
   "file_extension": ".py",
   "mimetype": "text/x-python",
   "name": "python",
   "nbconvert_exporter": "python",
   "pygments_lexer": "ipython3",
   "version": "3.5.2"
  }
 },
 "nbformat": 4,
 "nbformat_minor": 1
}
