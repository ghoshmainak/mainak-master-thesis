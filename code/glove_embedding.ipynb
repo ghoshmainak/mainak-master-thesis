{
 "cells": [
  {
   "cell_type": "code",
   "execution_count": 1,
   "metadata": {},
   "outputs": [
    {
     "name": "stdout",
     "output_type": "stream",
     "text": [
      "Using TensorFlow backend.\n",
      "2019-08-22 22:04:07,803 INFO Generate glove embedding...\n",
      "2019-08-22 22:04:07,804 INFO Load german data\n",
      "2019-08-22 22:04:08,215 INFO Building vocab from corpus\n",
      "2019-08-22 22:04:08,602 INFO Done building vocab 18000 from corpus.\n",
      "2019-08-22 22:04:08,613 INFO Fetching cooccurrence list..\n",
      "2019-08-22 22:04:08,681 INFO Building cooccurrence matrix: on line 0\n",
      "2019-08-22 22:04:11,389 INFO Building cooccurrence matrix: on line 1000\n",
      "2019-08-22 22:04:13,677 INFO Building cooccurrence matrix: on line 2000\n",
      "2019-08-22 22:04:15,551 INFO Building cooccurrence matrix: on line 3000\n",
      "2019-08-22 22:04:18,122 INFO Building cooccurrence matrix: on line 4000\n",
      "2019-08-22 22:04:21,067 INFO Building cooccurrence matrix: on line 5000\n",
      "2019-08-22 22:04:23,998 INFO Building cooccurrence matrix: on line 6000\n",
      "2019-08-22 22:04:26,721 INFO Building cooccurrence matrix: on line 7000\n",
      "2019-08-22 22:04:29,431 INFO Building cooccurrence matrix: on line 8000\n",
      "2019-08-22 22:04:32,052 INFO Building cooccurrence matrix: on line 9000\n",
      "2019-08-22 22:04:35,446 INFO Building cooccurrence matrix: on line 10000\n",
      "2019-08-22 22:04:38,669 INFO Building cooccurrence matrix: on line 11000\n",
      "2019-08-22 22:04:41,443 INFO Building cooccurrence matrix: on line 12000\n",
      "2019-08-22 22:04:44,785 INFO Building cooccurrence matrix: on line 13000\n",
      "2019-08-22 22:04:48,748 INFO Building cooccurrence matrix: on line 14000\n",
      "2019-08-22 22:04:52,103 INFO Building cooccurrence matrix: on line 15000\n",
      "2019-08-22 22:04:55,380 INFO Building cooccurrence matrix: on line 16000\n",
      "2019-08-22 22:04:59,682 INFO Building cooccurrence matrix: on line 17000\n",
      "2019-08-22 22:05:02,797 INFO Building cooccurrence matrix: on line 18000\n",
      "2019-08-22 22:05:06,249 INFO Building cooccurrence matrix: on line 19000\n",
      "2019-08-22 22:05:08,160 INFO Building cooccurrence matrix: on line 20000\n",
      "2019-08-22 22:05:10,169 INFO Building cooccurrence matrix: on line 21000\n",
      "2019-08-22 22:05:12,070 INFO Building cooccurrence matrix: on line 22000\n",
      "2019-08-22 22:05:13,932 INFO Building cooccurrence matrix: on line 23000\n",
      "2019-08-22 22:05:15,736 INFO Building cooccurrence matrix: on line 24000\n",
      "2019-08-22 22:05:17,298 INFO Building cooccurrence matrix: on line 25000\n",
      "2019-08-22 22:05:18,998 INFO Building cooccurrence matrix: on line 26000\n",
      "2019-08-22 22:05:20,796 INFO Building cooccurrence matrix: on line 27000\n",
      "2019-08-22 22:05:22,600 INFO Building cooccurrence matrix: on line 28000\n",
      "2019-08-22 22:05:24,281 INFO Building cooccurrence matrix: on line 29000\n",
      "2019-08-22 22:05:26,792 INFO Building cooccurrence matrix: on line 30000\n",
      "2019-08-22 22:05:29,511 INFO Building cooccurrence matrix: on line 31000\n",
      "2019-08-22 22:05:32,140 INFO Building cooccurrence matrix: on line 32000\n",
      "2019-08-22 22:05:34,446 INFO Building cooccurrence matrix: on line 33000\n",
      "2019-08-22 22:05:36,894 INFO Building cooccurrence matrix: on line 34000\n",
      "2019-08-22 22:05:39,447 INFO Building cooccurrence matrix: on line 35000\n",
      "2019-08-22 22:05:42,500 INFO Building cooccurrence matrix: on line 36000\n",
      "2019-08-22 22:05:44,561 INFO Building cooccurrence matrix: on line 37000\n",
      "2019-08-22 22:05:46,954 INFO Building cooccurrence matrix: on line 38000\n",
      "2019-08-22 22:05:49,582 INFO Building cooccurrence matrix: on line 39000\n",
      "2019-08-22 22:05:53,538 INFO Building cooccurrence matrix: on line 40000\n",
      "2019-08-22 22:07:55,345 INFO Cooccurrence list fetch complete (18000 pairs).\n",
      "\n"
     ]
    }
   ],
   "source": [
    "!python word_embedding.py -emb_name glove -lang de"
   ]
  },
  {
   "cell_type": "code",
   "execution_count": 3,
   "metadata": {},
   "outputs": [
    {
     "name": "stderr",
     "output_type": "stream",
     "text": [
      "2019-08-22 22:11:30,382 INFO glove embedding loaded\n",
      "2019-08-22 22:11:30,435 INFO Vocab file loaded\n",
      "2019-08-22 22:11:30,449 INFO Check vocab order: Bio, gut\n"
     ]
    }
   ],
   "source": [
    "from word_embedding import Glove\n",
    "gv = Glove()\n",
    "gv.convert_glove_2_w2v('../preprocessed_data/german/glove/fine_tune/vocab.pkl', '../preprocessed_data/german/glove/fine_tune/fine_tuned_glove_300','../preprocessed_data/german/glove/fine_tune/glove_w2v_300_filtered.txt')"
   ]
  },
  {
   "cell_type": "code",
   "execution_count": 7,
   "metadata": {},
   "outputs": [
    {
     "name": "stderr",
     "output_type": "stream",
     "text": [
      "2019-07-19 01:03:02,136\tLoading embeddings from: ../preprocessed_data/glove/glove_w2v_300.txt\n",
      "2019-07-19 01:03:02,138\tloading projection weights from ../preprocessed_data/glove/glove_w2v_300.txt\n",
      "2019-07-19 01:03:02,140\t{'uri': '../preprocessed_data/glove/glove_w2v_300.txt', 'mode': 'rb', 'encoding': None, 'ignore_ext': False, 'buffering': -1, 'transport_params': None, 'errors': None, 'newline': None, 'opener': None, 'closefd': True}\n",
      "2019-07-19 01:03:07,729\tloaded (15000, 300) matrix from ../preprocessed_data/glove/glove_w2v_300.txt\n",
      "2019-07-19 01:03:08,695\t#vectors: 15000, #dimensions: 300\n"
     ]
    }
   ],
   "source": [
    "from word_embed_reader import GloveEmbedding\n",
    "gv_reader = GloveEmbedding('../preprocessed_data/glove/','glove_w2v_300.txt')"
   ]
  },
  {
   "cell_type": "code",
   "execution_count": 8,
   "metadata": {},
   "outputs": [
    {
     "data": {
      "text/plain": [
       "[0.049474858,\n",
       " 0.48517805,\n",
       " 0.23767084,\n",
       " -0.14581981,\n",
       " -0.109061465,\n",
       " 0.38969976,\n",
       " 0.35048884,\n",
       " 0.50957555,\n",
       " 0.116252795,\n",
       " -2.2164803,\n",
       " 0.17640635,\n",
       " -1.2593341,\n",
       " -0.22547498,\n",
       " 0.66239023,\n",
       " 0.34893072,\n",
       " -0.24227284,\n",
       " -0.33844092,\n",
       " -0.011624739,\n",
       " 0.044034675,\n",
       " 0.25400507,\n",
       " -0.16764994,\n",
       " 0.31661874,\n",
       " 0.7881865,\n",
       " 0.23527506,\n",
       " 0.10151268,\n",
       " 0.80145323,\n",
       " -0.67286307,\n",
       " 0.26220474,\n",
       " 0.19148603,\n",
       " -0.101668686,\n",
       " -0.8392558,\n",
       " 0.57451135,\n",
       " -0.6138978,\n",
       " 0.16369607,\n",
       " -1.030808,\n",
       " 0.11735541,\n",
       " -0.13608332,\n",
       " -0.55587316,\n",
       " -0.39364988,\n",
       " -0.17232311,\n",
       " -0.64966065,\n",
       " -0.6326507,\n",
       " 0.6512089,\n",
       " 0.7067038,\n",
       " -0.7384645,\n",
       " -0.6120673,\n",
       " -0.23735583,\n",
       " -0.49620974,\n",
       " -0.38945463,\n",
       " 0.37949246,\n",
       " -0.060676195,\n",
       " 0.038708642,\n",
       " 0.49551702,\n",
       " 0.15730074,\n",
       " 0.11020246,\n",
       " 0.37302205,\n",
       " 0.7611477,\n",
       " -0.15517145,\n",
       " 0.20476083,\n",
       " -0.36180753,\n",
       " -0.18647924,\n",
       " -0.0036708117,\n",
       " 0.7506269,\n",
       " 0.12653938,\n",
       " -0.5957463,\n",
       " -0.36032078,\n",
       " -0.51505244,\n",
       " 0.58762306,\n",
       " -0.58523405,\n",
       " 0.1297685,\n",
       " 0.4728613,\n",
       " 0.58452713,\n",
       " -0.47113305,\n",
       " -0.5094446,\n",
       " -0.099075824,\n",
       " -0.3532447,\n",
       " 0.58441836,\n",
       " 0.09182086,\n",
       " -0.736698,\n",
       " 0.14529473,\n",
       " 0.20576681,\n",
       " 0.23534028,\n",
       " -0.13982889,\n",
       " 0.57382375,\n",
       " 0.5011513,\n",
       " -1.0540215,\n",
       " -0.088410206,\n",
       " 0.43066067,\n",
       " -0.18230392,\n",
       " -0.52115905,\n",
       " -0.2566153,\n",
       " 0.21615575,\n",
       " -0.30742308,\n",
       " -0.33565253,\n",
       " -0.0192274,\n",
       " 0.54799277,\n",
       " -0.22470479,\n",
       " 0.060963966,\n",
       " -0.32529068,\n",
       " -0.20428717,\n",
       " -0.12674306,\n",
       " 0.014113236,\n",
       " 0.2220568,\n",
       " -0.16646302,\n",
       " -0.41167122,\n",
       " -0.6039914,\n",
       " -0.49760187,\n",
       " 0.27563226,\n",
       " -0.25826818,\n",
       " 0.14784406,\n",
       " 0.062339626,\n",
       " -0.6958596,\n",
       " -0.17460193,\n",
       " -0.33949745,\n",
       " 0.3236931,\n",
       " 0.1518964,\n",
       " 0.2885787,\n",
       " 0.6106638,\n",
       " 0.27208158,\n",
       " 0.17267011,\n",
       " -0.8747822,\n",
       " 0.21746555,\n",
       " 0.4258898,\n",
       " 0.6956014,\n",
       " 0.36398566,\n",
       " -0.30495232,\n",
       " 0.3210386,\n",
       " 0.025545092,\n",
       " 0.32703984,\n",
       " 0.3260209,\n",
       " 0.2850358,\n",
       " -0.37230524,\n",
       " 0.78778756,\n",
       " -0.0076960716,\n",
       " -0.10646923,\n",
       " 0.113093786,\n",
       " 0.2092208,\n",
       " 0.23878072,\n",
       " -0.010408714,\n",
       " 0.9366406,\n",
       " -0.13577533,\n",
       " 0.33642304,\n",
       " 0.68232256,\n",
       " -0.7103974,\n",
       " -0.49327922,\n",
       " 0.5134244,\n",
       " 0.03869532,\n",
       " 0.56175596,\n",
       " -0.09380157,\n",
       " -0.34414855,\n",
       " -0.1918175,\n",
       " -0.18521401,\n",
       " 0.8283106,\n",
       " -0.20616397,\n",
       " -0.028745547,\n",
       " 0.51784235,\n",
       " -0.0823478,\n",
       " -0.14574984,\n",
       " 0.33378202,\n",
       " -0.5709491,\n",
       " 0.40753633,\n",
       " -0.35634103,\n",
       " -0.0726888,\n",
       " -0.4728622,\n",
       " -0.54343414,\n",
       " 0.2241677,\n",
       " 0.2154601,\n",
       " -0.78613204,\n",
       " -0.053933576,\n",
       " 0.77611923,\n",
       " 0.36810553,\n",
       " 0.07906279,\n",
       " -0.66748285,\n",
       " 0.24157298,\n",
       " -0.5066527,\n",
       " 0.5887201,\n",
       " -0.04109013,\n",
       " 0.05653067,\n",
       " 0.057495013,\n",
       " -0.077990584,\n",
       " -0.28242305,\n",
       " -0.58163524,\n",
       " -0.62665296,\n",
       " -0.031649545,\n",
       " 0.2577009,\n",
       " 0.086885914,\n",
       " -0.25217742,\n",
       " 0.2429929,\n",
       " 0.5646008,\n",
       " 0.16045411,\n",
       " -0.21587135,\n",
       " 1.0069768,\n",
       " -1.3130856,\n",
       " 0.012340248,\n",
       " -0.4571373,\n",
       " 0.14526172,\n",
       " -0.40592074,\n",
       " 0.6551234,\n",
       " 0.30935162,\n",
       " 0.96723557,\n",
       " 0.07255606,\n",
       " -0.38237184,\n",
       " 0.8692782,\n",
       " 0.20385754,\n",
       " -0.11903928,\n",
       " 0.0348684,\n",
       " 0.76251256,\n",
       " 0.015936648,\n",
       " 0.39433256,\n",
       " 0.012359545,\n",
       " -0.45698434,\n",
       " -0.35994688,\n",
       " 0.12186985,\n",
       " 0.4319752,\n",
       " -0.435947,\n",
       " 0.89642686,\n",
       " 0.29875624,\n",
       " 0.17889872,\n",
       " 0.30889776,\n",
       " 0.3305411,\n",
       " 0.56556225,\n",
       " -0.09964864,\n",
       " -0.11076234,\n",
       " 0.028554272,\n",
       " 0.3435353,\n",
       " -0.28346643,\n",
       " 0.61070406,\n",
       " 0.71806824,\n",
       " 0.25520593,\n",
       " 0.7329962,\n",
       " 0.36839932,\n",
       " 0.8991723,\n",
       " -0.31888035,\n",
       " 0.391339,\n",
       " 0.0060325474,\n",
       " 0.22212481,\n",
       " 0.6905411,\n",
       " -0.17873448,\n",
       " -0.61419594,\n",
       " 0.15043455,\n",
       " -0.42959064,\n",
       " -0.42171118,\n",
       " 0.2883982,\n",
       " -0.29145065,\n",
       " -1.5792568,\n",
       " -0.29523805,\n",
       " 0.21089867,\n",
       " -0.100519925,\n",
       " -0.021758318,\n",
       " 0.0685917,\n",
       " 0.77065426,\n",
       " 0.19801266,\n",
       " -0.28790787,\n",
       " 0.46214584,\n",
       " 0.5518713,\n",
       " 0.6721677,\n",
       " -0.6497381,\n",
       " -0.66734385,\n",
       " -0.06115362,\n",
       " 0.099208355,\n",
       " 0.046424486,\n",
       " -0.79685163,\n",
       " -0.7250285,\n",
       " -0.886281,\n",
       " 0.47034314,\n",
       " 0.112492904,\n",
       " 0.1360758,\n",
       " 0.23845857,\n",
       " 0.5381738,\n",
       " -0.06959613,\n",
       " -0.46279088,\n",
       " 0.6375301,\n",
       " -0.12887168,\n",
       " -0.30265123,\n",
       " 0.14798336,\n",
       " 0.047818214,\n",
       " -2.5934694,\n",
       " 0.016306072,\n",
       " -0.11512347,\n",
       " 0.19115193,\n",
       " -0.45198476,\n",
       " -0.120018505,\n",
       " -0.12891299,\n",
       " 0.26909384,\n",
       " -0.22139767,\n",
       " 0.34163976,\n",
       " 0.91265655,\n",
       " -0.57837933,\n",
       " 0.24228889,\n",
       " -0.14004502,\n",
       " 0.65753365,\n",
       " -0.25268316,\n",
       " -0.19602439,\n",
       " -0.04737501,\n",
       " -0.066469125,\n",
       " 0.19254242,\n",
       " 0.07190457,\n",
       " -0.6206284,\n",
       " -0.15981244,\n",
       " -0.72234154]"
      ]
     },
     "execution_count": 8,
     "metadata": {},
     "output_type": "execute_result"
    }
   ],
   "source": [
    "gv_reader.get_emb_given_word('food')"
   ]
  },
  {
   "cell_type": "code",
   "execution_count": null,
   "metadata": {},
   "outputs": [],
   "source": [
    "-gv_vocab ../preprocessed_data/german/glove/fine_tune/vocab.pkl -gv_cooccur ../preprocessed_data/glove/fine_tune/cooccurrence.pkl"
   ]
  },
  {
   "cell_type": "markdown",
   "metadata": {},
   "source": [
    "## Train from scratch"
   ]
  },
  {
   "cell_type": "code",
   "execution_count": 1,
   "metadata": {},
   "outputs": [
    {
     "name": "stderr",
     "output_type": "stream",
     "text": [
      "Using TensorFlow backend.\n"
     ]
    }
   ],
   "source": [
    "#Glove is\n",
    "#convert glove to word2vec format\n",
    "from word_embedding import Glove\n",
    "gv = Glove()\n",
    "gv.convert_glove_2_w2v_type2('../preprocessed_data/german/glove/full_trained/vectors.txt','../preprocessed_data/german/glove/full_trained/glove_w2v_300_filtered.txt')"
   ]
  },
  {
   "cell_type": "markdown",
   "metadata": {},
   "source": [
    "## German Data"
   ]
  },
  {
   "cell_type": "markdown",
   "metadata": {},
   "source": [
    "Check dimension of pretrained glove trained on german wikipedia"
   ]
  },
  {
   "cell_type": "code",
   "execution_count": 3,
   "metadata": {},
   "outputs": [],
   "source": [
    "import check"
   ]
  },
  {
   "cell_type": "code",
   "execution_count": 4,
   "metadata": {},
   "outputs": [
    {
     "data": {
      "text/plain": [
       "300"
      ]
     },
     "execution_count": 4,
     "metadata": {},
     "output_type": "execute_result"
    }
   ],
   "source": [
    "check.check_dim('../preprocessed_data/german/glove/pretrained/vectors.txt')"
   ]
  },
  {
   "cell_type": "code",
   "execution_count": 1,
   "metadata": {
    "scrolled": true
   },
   "outputs": [
    {
     "name": "stdout",
     "output_type": "stream",
     "text": [
      "Using TensorFlow backend.\n",
      "2019-08-22 22:46:58,081 INFO Generate glove embedding...\n",
      "2019-08-22 22:46:58,090 INFO Vocab file loaded\n",
      "2019-08-22 22:46:58,102 INFO Check vocab order: Bio, gut\n",
      "2019-08-22 22:48:16,414 INFO Cooccurence to matrix of shape: (18000, 18000)\n",
      "2019-08-22 22:48:16,414 INFO get pre-trained glove embedding\n",
      "2019-08-22 22:50:23,751 INFO Start fine tuning...\n",
      "2019-08-22 22:50:35.885381: I tensorflow/stream_executor/cuda/cuda_gpu_executor.cc:964] successful NUMA node read from SysFS had negative value (-1), but there must be at least one NUMA node, so returning NUMA node zero\n",
      "2019-08-22 22:50:35.886003: I tensorflow/core/common_runtime/gpu/gpu_device.cc:1432] Found device 0 with properties: \n",
      "name: GeForce GTX TITAN X major: 5 minor: 2 memoryClockRate(GHz): 1.076\n",
      "pciBusID: 0000:01:00.0\n",
      "totalMemory: 11.92GiB freeMemory: 11.81GiB\n",
      "2019-08-22 22:50:35.886026: I tensorflow/core/common_runtime/gpu/gpu_device.cc:1511] Adding visible gpu devices: 0\n",
      "2019-08-22 22:50:36.150986: I tensorflow/core/common_runtime/gpu/gpu_device.cc:982] Device interconnect StreamExecutor with strength 1 edge matrix:\n",
      "2019-08-22 22:50:36.151040: I tensorflow/core/common_runtime/gpu/gpu_device.cc:988]      0 \n",
      "2019-08-22 22:50:36.151050: I tensorflow/core/common_runtime/gpu/gpu_device.cc:1001] 0:   N \n",
      "2019-08-22 22:50:36.151411: I tensorflow/core/common_runtime/gpu/gpu_device.cc:1115] Created TensorFlow device (/job:localhost/replica:0/task:0/device:GPU:0 with 11426 MB memory) -> physical GPU (device: 0, name: GeForce GTX TITAN X, pci bus id: 0000:01:00.0, compute capability: 5.2)\n",
      "Iteration 1000: loss: 4147.354980468752019-08-22 23:45:51,548 INFO Fine tuning complete\n"
     ]
    }
   ],
   "source": [
    "!python word_embedding.py -emb_name glove -lang de -gv_vocab ../preprocessed_data/german/glove/fine_tune/vocab.pkl -gv_cooccur ../preprocessed_data/german/glove/fine_tune/cooccurrence.pkl"
   ]
  },
  {
   "cell_type": "code",
   "execution_count": 2,
   "metadata": {},
   "outputs": [
    {
     "name": "stderr",
     "output_type": "stream",
     "text": [
      "Using TensorFlow backend.\n",
      "2019-08-22 23:50:27,026 INFO glove embedding loaded\n",
      "2019-08-22 23:50:27,036 INFO Vocab file loaded\n",
      "2019-08-22 23:50:27,047 INFO Check vocab order: Bio, gut\n"
     ]
    }
   ],
   "source": [
    "from word_embedding import Glove\n",
    "gv = Glove()\n",
    "gv.convert_glove_2_w2v('../preprocessed_data/german/glove/fine_tune/vocab.pkl', '../preprocessed_data/german/glove/fine_tune/fine_tuned_glove_300','../preprocessed_data/german/glove/fine_tune/glove_w2v_300.txt')"
   ]
  },
  {
   "cell_type": "code",
   "execution_count": null,
   "metadata": {},
   "outputs": [],
   "source": []
  }
 ],
 "metadata": {
  "kernelspec": {
   "display_name": "Python 3",
   "language": "python",
   "name": "python3"
  },
  "language_info": {
   "codemirror_mode": {
    "name": "ipython",
    "version": 3
   },
   "file_extension": ".py",
   "mimetype": "text/x-python",
   "name": "python",
   "nbconvert_exporter": "python",
   "pygments_lexer": "ipython3",
   "version": "3.5.2"
  }
 },
 "nbformat": 4,
 "nbformat_minor": 2
}
