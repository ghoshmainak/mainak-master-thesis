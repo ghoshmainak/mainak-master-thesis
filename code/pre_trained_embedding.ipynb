{
 "cells": [
  {
   "cell_type": "code",
   "execution_count": 2,
   "metadata": {},
   "outputs": [
    {
     "name": "stdout",
     "output_type": "stream",
     "text": [
      "1729193 total words, 39473 unique words\n",
      "keep the top 18000 words\n"
     ]
    }
   ],
   "source": [
    "from reader import create_vocab\n",
    "vocab = create_vocab(200, 18000)"
   ]
  },
  {
   "cell_type": "code",
   "execution_count": 2,
   "metadata": {},
   "outputs": [
    {
     "data": {
      "text/plain": [
       "('64bit', '')"
      ]
     },
     "execution_count": 2,
     "metadata": {},
     "output_type": "execute_result"
    }
   ],
   "source": [
    "import platform \n",
    "platform.architecture()"
   ]
  },
  {
   "cell_type": "markdown",
   "metadata": {},
   "source": [
    "## w2v fine tuning"
   ]
  },
  {
   "cell_type": "code",
   "execution_count": 6,
   "metadata": {},
   "outputs": [
    {
     "name": "stderr",
     "output_type": "stream",
     "text": [
      "2019-08-08 05:14:56,462 INFO loading projection weights from ../preprocessed_data/w2v/fine_tuned/GoogleNews-vectors-negative300.bin\n",
      "2019-08-08 05:15:39,311 INFO loaded (1000000, 300) matrix from ../preprocessed_data/w2v/fine_tuned/GoogleNews-vectors-negative300.bin\n"
     ]
    }
   ],
   "source": [
    "import gensim\n",
    "model = gensim.models.KeyedVectors.load_word2vec_format('../preprocessed_data/w2v/fine_tuned/GoogleNews-vectors-negative300.bin', binary=True, limit=1000000)"
   ]
  },
  {
   "cell_type": "code",
   "execution_count": 7,
   "metadata": {},
   "outputs": [
    {
     "name": "stdout",
     "output_type": "stream",
     "text": [
      "16302\n",
      "hit:0.9055157473754374\n"
     ]
    },
    {
     "name": "stderr",
     "output_type": "stream",
     "text": [
      "/usr/local/lib/python3.5/dist-packages/ipykernel_launcher.py:3: DeprecationWarning: Call to deprecated `wv` (Attribute will be removed in 4.0.0, use self instead).\n",
      "  This is separate from the ipykernel package so we can avoid doing imports until\n"
     ]
    }
   ],
   "source": [
    "c=0\n",
    "for v in vocab:\n",
    "    if v in model.wv.vocab:\n",
    "        c+=1\n",
    "print(c)\n",
    "print('hit:{}'.format(c/18003))"
   ]
  },
  {
   "cell_type": "code",
   "execution_count": 8,
   "metadata": {},
   "outputs": [
    {
     "name": "stderr",
     "output_type": "stream",
     "text": [
      "2019-08-08 05:16:02,115 INFO saving Word2VecKeyedVectors object under ../preprocessed_data/w2v/fine_tuned/w2v_emb_1000k, separately None\n",
      "2019-08-08 05:16:02,119 INFO not storing attribute vectors_norm\n",
      "2019-08-08 05:16:02,120 INFO storing np array 'vectors' to ../preprocessed_data/w2v/fine_tuned/w2v_emb_1000k.vectors.npy\n",
      "2019-08-08 05:16:12,346 INFO saved ../preprocessed_data/w2v/fine_tuned/w2v_emb_1000k\n"
     ]
    }
   ],
   "source": [
    "model.save('../preprocessed_data/w2v/fine_tuned/w2v_emb_1000k')"
   ]
  },
  {
   "cell_type": "code",
   "execution_count": 1,
   "metadata": {},
   "outputs": [
    {
     "name": "stderr",
     "output_type": "stream",
     "text": [
      "2019-08-09 22:27:29,667 INFO Loading pre-train embeddings from: ../preprocessed_data/w2v/fine_tuned/w2v_emb_1000k\n",
      "2019-08-09 22:27:29,668 INFO loading Word2VecKeyedVectors object from ../preprocessed_data/w2v/fine_tuned/w2v_emb_1000k\n",
      "2019-08-09 22:27:32,301 INFO loading vectors from ../preprocessed_data/w2v/fine_tuned/w2v_emb_1000k.vectors.npy with mmap=None\n",
      "2019-08-09 22:27:32,744 INFO setting ignored attribute vectors_norm to None\n",
      "2019-08-09 22:27:32,748 INFO loaded ../preprocessed_data/w2v/fine_tuned/w2v_emb_1000k\n",
      "2019-08-09 22:27:32,749 INFO Loading trained embeddings from: ../preprocessed_data/w2v/full_trained/w2v_embedding_300\n",
      "2019-08-09 22:27:32,750 INFO loading Word2VecKeyedVectors object from ../preprocessed_data/w2v/full_trained/w2v_embedding_300\n",
      "2019-08-09 22:27:32,943 INFO loading wv recursively from ../preprocessed_data/w2v/full_trained/w2v_embedding_300.wv.* with mmap=None\n",
      "2019-08-09 22:27:32,944 INFO setting ignored attribute vectors_norm to None\n",
      "2019-08-09 22:27:32,945 INFO loading trainables recursively from ../preprocessed_data/w2v/full_trained/w2v_embedding_300.trainables.* with mmap=None\n",
      "2019-08-09 22:27:32,945 INFO loading vocabulary recursively from ../preprocessed_data/w2v/full_trained/w2v_embedding_300.vocabulary.* with mmap=None\n",
      "2019-08-09 22:27:32,946 INFO setting ignored attribute cum_table to None\n",
      "2019-08-09 22:27:32,947 INFO loaded ../preprocessed_data/w2v/full_trained/w2v_embedding_300\n",
      "2019-08-09 22:27:33,570 INFO hit: 0.945600972496581\n",
      "2019-08-09 22:27:34,130 INFO CCA fit started\n",
      "2019-08-09 22:35:45,062 INFO CCA transformation complete\n",
      "2019-08-09 22:35:45,446 INFO #vectors: 12446, #dimensions: 300\n"
     ]
    }
   ],
   "source": [
    "from word_embed_reader import FineTuneEmbed_cca\n",
    "ft_emb = FineTuneEmbed_cca('../preprocessed_data/w2v/fine_tuned','w2v_emb_1000k','../preprocessed_data/w2v/full_trained', 'w2v_embedding_300')"
   ]
  },
  {
   "cell_type": "code",
   "execution_count": 1,
   "metadata": {
    "scrolled": true
   },
   "outputs": [
    {
     "name": "stderr",
     "output_type": "stream",
     "text": [
      "2019-08-11 12:16:16,879 INFO Loading pre-train embeddings from: ../preprocessed_data/w2v/fine_tuned/w2v_emb_1000k\n",
      "2019-08-11 12:16:16,880 INFO loading Word2VecKeyedVectors object from ../preprocessed_data/w2v/fine_tuned/w2v_emb_1000k\n",
      "2019-08-11 12:16:19,477 INFO loading vectors from ../preprocessed_data/w2v/fine_tuned/w2v_emb_1000k.vectors.npy with mmap=None\n",
      "2019-08-11 12:16:19,960 INFO setting ignored attribute vectors_norm to None\n",
      "2019-08-11 12:16:19,964 INFO loaded ../preprocessed_data/w2v/fine_tuned/w2v_emb_1000k\n",
      "2019-08-11 12:16:19,965 INFO Loading trained embeddings from: ../preprocessed_data/w2v/full_trained/w2v_embedding_300\n",
      "2019-08-11 12:16:19,966 INFO loading Word2VecKeyedVectors object from ../preprocessed_data/w2v/full_trained/w2v_embedding_300\n",
      "2019-08-11 12:16:20,186 INFO loading wv recursively from ../preprocessed_data/w2v/full_trained/w2v_embedding_300.wv.* with mmap=None\n",
      "2019-08-11 12:16:20,187 INFO setting ignored attribute vectors_norm to None\n",
      "2019-08-11 12:16:20,188 INFO loading trainables recursively from ../preprocessed_data/w2v/full_trained/w2v_embedding_300.trainables.* with mmap=None\n",
      "2019-08-11 12:16:20,188 INFO loading vocabulary recursively from ../preprocessed_data/w2v/full_trained/w2v_embedding_300.vocabulary.* with mmap=None\n",
      "2019-08-11 12:16:20,189 INFO setting ignored attribute cum_table to None\n",
      "2019-08-11 12:16:20,190 INFO loaded ../preprocessed_data/w2v/full_trained/w2v_embedding_300\n",
      "2019-08-11 12:16:20,850 INFO hit: 0.945600972496581\n",
      "2019-08-11 12:16:21,420 INFO KCCA fit started\n"
     ]
    },
    {
     "name": "stdout",
     "output_type": "stream",
     "text": [
      "Training CCA, gaussian kernel, regularization = 0.0100, 300 components\n"
     ]
    },
    {
     "name": "stderr",
     "output_type": "stream",
     "text": [
      "2019-08-11 13:05:30,527 INFO KCCA transformation complete\n",
      "2019-08-11 13:05:30,887 INFO #vectors: 12446, #dimensions: 300\n"
     ]
    }
   ],
   "source": [
    "\n",
    "from word_embed_reader import FineTuneEmbed_kcca\n",
    "ft_emb = FineTuneEmbed_kcca('../preprocessed_data/w2v/fine_tuned','w2v_emb_1000k','../preprocessed_data/w2v/full_trained', 'w2v_embedding_300')"
   ]
  },
  {
   "cell_type": "code",
   "execution_count": null,
   "metadata": {},
   "outputs": [],
   "source": [
    "from word_embed_reader import FineTuneEmbed_ortho_procrustes\n",
    "ft_emb = FineTuneEmbed_ortho_procrustes('../preprocessed_data/w2v/fine_tuned','w2v_emb_1000k','../preprocessed_data/w2v/full_trained', 'w2v_embedding_300')"
   ]
  },
  {
   "cell_type": "markdown",
   "metadata": {},
   "source": [
    "## Fast-text fine tuning"
   ]
  },
  {
   "cell_type": "code",
   "execution_count": 2,
   "metadata": {},
   "outputs": [
    {
     "name": "stderr",
     "output_type": "stream",
     "text": [
      "2019-08-11 14:45:59,419 INFO loading projection weights from ../preprocessed_data/fasttext/fine_tuned/crawl-300d-2M-subword.bin\n"
     ]
    },
    {
     "ename": "UnicodeDecodeError",
     "evalue": "'utf-8' codec can't decode byte 0xba in position 0: invalid start byte",
     "output_type": "error",
     "traceback": [
      "\u001b[0;31m---------------------------------------------------------------------------\u001b[0m",
      "\u001b[0;31mUnicodeDecodeError\u001b[0m                        Traceback (most recent call last)",
      "\u001b[0;32m<ipython-input-2-48b044a0ca25>\u001b[0m in \u001b[0;36m<module>\u001b[0;34m\u001b[0m\n\u001b[1;32m      1\u001b[0m \u001b[0;32mimport\u001b[0m \u001b[0mgensim\u001b[0m\u001b[0;34m\u001b[0m\u001b[0m\n\u001b[0;32m----> 2\u001b[0;31m \u001b[0mmodel\u001b[0m \u001b[0;34m=\u001b[0m \u001b[0mgensim\u001b[0m\u001b[0;34m.\u001b[0m\u001b[0mmodels\u001b[0m\u001b[0;34m.\u001b[0m\u001b[0mKeyedVectors\u001b[0m\u001b[0;34m.\u001b[0m\u001b[0mload_word2vec_format\u001b[0m\u001b[0;34m(\u001b[0m\u001b[0;34m'../preprocessed_data/fasttext/fine_tuned/crawl-300d-2M-subword.bin'\u001b[0m\u001b[0;34m,\u001b[0m \u001b[0mbinary\u001b[0m\u001b[0;34m=\u001b[0m\u001b[0;32mTrue\u001b[0m\u001b[0;34m,\u001b[0m \u001b[0mlimit\u001b[0m\u001b[0;34m=\u001b[0m\u001b[0;36m1000000\u001b[0m\u001b[0;34m)\u001b[0m\u001b[0;34m\u001b[0m\u001b[0m\n\u001b[0m",
      "\u001b[0;32m/usr/local/lib/python3.5/dist-packages/gensim/models/keyedvectors.py\u001b[0m in \u001b[0;36mload_word2vec_format\u001b[0;34m(cls, fname, fvocab, binary, encoding, unicode_errors, limit, datatype)\u001b[0m\n\u001b[1;32m   1496\u001b[0m         return _load_word2vec_format(\n\u001b[1;32m   1497\u001b[0m             \u001b[0mcls\u001b[0m\u001b[0;34m,\u001b[0m \u001b[0mfname\u001b[0m\u001b[0;34m,\u001b[0m \u001b[0mfvocab\u001b[0m\u001b[0;34m=\u001b[0m\u001b[0mfvocab\u001b[0m\u001b[0;34m,\u001b[0m \u001b[0mbinary\u001b[0m\u001b[0;34m=\u001b[0m\u001b[0mbinary\u001b[0m\u001b[0;34m,\u001b[0m \u001b[0mencoding\u001b[0m\u001b[0;34m=\u001b[0m\u001b[0mencoding\u001b[0m\u001b[0;34m,\u001b[0m \u001b[0municode_errors\u001b[0m\u001b[0;34m=\u001b[0m\u001b[0municode_errors\u001b[0m\u001b[0;34m,\u001b[0m\u001b[0;34m\u001b[0m\u001b[0m\n\u001b[0;32m-> 1498\u001b[0;31m             limit=limit, datatype=datatype)\n\u001b[0m\u001b[1;32m   1499\u001b[0m \u001b[0;34m\u001b[0m\u001b[0m\n\u001b[1;32m   1500\u001b[0m     \u001b[0;32mdef\u001b[0m \u001b[0mget_keras_embedding\u001b[0m\u001b[0;34m(\u001b[0m\u001b[0mself\u001b[0m\u001b[0;34m,\u001b[0m \u001b[0mtrain_embeddings\u001b[0m\u001b[0;34m=\u001b[0m\u001b[0;32mFalse\u001b[0m\u001b[0;34m)\u001b[0m\u001b[0;34m:\u001b[0m\u001b[0;34m\u001b[0m\u001b[0m\n",
      "\u001b[0;32m/usr/local/lib/python3.5/dist-packages/gensim/models/utils_any2vec.py\u001b[0m in \u001b[0;36m_load_word2vec_format\u001b[0;34m(cls, fname, fvocab, binary, encoding, unicode_errors, limit, datatype)\u001b[0m\n\u001b[1;32m    341\u001b[0m     \u001b[0mlogger\u001b[0m\u001b[0;34m.\u001b[0m\u001b[0minfo\u001b[0m\u001b[0;34m(\u001b[0m\u001b[0;34m\"loading projection weights from %s\"\u001b[0m\u001b[0;34m,\u001b[0m \u001b[0mfname\u001b[0m\u001b[0;34m)\u001b[0m\u001b[0;34m\u001b[0m\u001b[0m\n\u001b[1;32m    342\u001b[0m     \u001b[0;32mwith\u001b[0m \u001b[0mutils\u001b[0m\u001b[0;34m.\u001b[0m\u001b[0mopen\u001b[0m\u001b[0;34m(\u001b[0m\u001b[0mfname\u001b[0m\u001b[0;34m,\u001b[0m \u001b[0;34m'rb'\u001b[0m\u001b[0;34m)\u001b[0m \u001b[0;32mas\u001b[0m \u001b[0mfin\u001b[0m\u001b[0;34m:\u001b[0m\u001b[0;34m\u001b[0m\u001b[0m\n\u001b[0;32m--> 343\u001b[0;31m         \u001b[0mheader\u001b[0m \u001b[0;34m=\u001b[0m \u001b[0mutils\u001b[0m\u001b[0;34m.\u001b[0m\u001b[0mto_unicode\u001b[0m\u001b[0;34m(\u001b[0m\u001b[0mfin\u001b[0m\u001b[0;34m.\u001b[0m\u001b[0mreadline\u001b[0m\u001b[0;34m(\u001b[0m\u001b[0;34m)\u001b[0m\u001b[0;34m,\u001b[0m \u001b[0mencoding\u001b[0m\u001b[0;34m=\u001b[0m\u001b[0mencoding\u001b[0m\u001b[0;34m)\u001b[0m\u001b[0;34m\u001b[0m\u001b[0m\n\u001b[0m\u001b[1;32m    344\u001b[0m         \u001b[0mvocab_size\u001b[0m\u001b[0;34m,\u001b[0m \u001b[0mvector_size\u001b[0m \u001b[0;34m=\u001b[0m \u001b[0;34m(\u001b[0m\u001b[0mint\u001b[0m\u001b[0;34m(\u001b[0m\u001b[0mx\u001b[0m\u001b[0;34m)\u001b[0m \u001b[0;32mfor\u001b[0m \u001b[0mx\u001b[0m \u001b[0;32min\u001b[0m \u001b[0mheader\u001b[0m\u001b[0;34m.\u001b[0m\u001b[0msplit\u001b[0m\u001b[0;34m(\u001b[0m\u001b[0;34m)\u001b[0m\u001b[0;34m)\u001b[0m  \u001b[0;31m# throws for invalid file format\u001b[0m\u001b[0;34m\u001b[0m\u001b[0m\n\u001b[1;32m    345\u001b[0m         \u001b[0;32mif\u001b[0m \u001b[0mlimit\u001b[0m\u001b[0;34m:\u001b[0m\u001b[0;34m\u001b[0m\u001b[0m\n",
      "\u001b[0;32m/usr/local/lib/python3.5/dist-packages/gensim/utils.py\u001b[0m in \u001b[0;36many2unicode\u001b[0;34m(text, encoding, errors)\u001b[0m\n\u001b[1;32m    357\u001b[0m     \u001b[0;32mif\u001b[0m \u001b[0misinstance\u001b[0m\u001b[0;34m(\u001b[0m\u001b[0mtext\u001b[0m\u001b[0;34m,\u001b[0m \u001b[0municode\u001b[0m\u001b[0;34m)\u001b[0m\u001b[0;34m:\u001b[0m\u001b[0;34m\u001b[0m\u001b[0m\n\u001b[1;32m    358\u001b[0m         \u001b[0;32mreturn\u001b[0m \u001b[0mtext\u001b[0m\u001b[0;34m\u001b[0m\u001b[0m\n\u001b[0;32m--> 359\u001b[0;31m     \u001b[0;32mreturn\u001b[0m \u001b[0municode\u001b[0m\u001b[0;34m(\u001b[0m\u001b[0mtext\u001b[0m\u001b[0;34m,\u001b[0m \u001b[0mencoding\u001b[0m\u001b[0;34m,\u001b[0m \u001b[0merrors\u001b[0m\u001b[0;34m=\u001b[0m\u001b[0merrors\u001b[0m\u001b[0;34m)\u001b[0m\u001b[0;34m\u001b[0m\u001b[0m\n\u001b[0m\u001b[1;32m    360\u001b[0m \u001b[0;34m\u001b[0m\u001b[0m\n\u001b[1;32m    361\u001b[0m \u001b[0;34m\u001b[0m\u001b[0m\n",
      "\u001b[0;31mUnicodeDecodeError\u001b[0m: 'utf-8' codec can't decode byte 0xba in position 0: invalid start byte"
     ]
    }
   ],
   "source": [
    "import gensim\n",
    "model = gensim.models.KeyedVectors.load_word2vec_format('../preprocessed_data/fasttext/fine_tuned/crawl-300d-2M-subword.bin', binary=True, limit=1000000)"
   ]
  },
  {
   "cell_type": "code",
   "execution_count": 2,
   "metadata": {},
   "outputs": [
    {
     "name": "stderr",
     "output_type": "stream",
     "text": [
      "2019-08-11 15:35:39,419 INFO Loading pre-train embeddings from: ../preprocessed_data/fasttext/fine_tuned/fasttext_pre_trained\n",
      "2019-08-11 15:35:39,420 INFO loading Word2VecKeyedVectors object from ../preprocessed_data/fasttext/fine_tuned/fasttext_pre_trained\n",
      "2019-08-11 15:35:42,686 INFO loading vectors from ../preprocessed_data/fasttext/fine_tuned/fasttext_pre_trained.vectors.npy with mmap=None\n",
      "2019-08-11 15:35:43,259 INFO setting ignored attribute vectors_norm to None\n",
      "2019-08-11 15:35:43,263 INFO loaded ../preprocessed_data/fasttext/fine_tuned/fasttext_pre_trained\n",
      "2019-08-11 15:35:43,264 INFO Loading trained embeddings from: ../preprocessed_data/fasttext/full_trained/w2v_embedding_skipgram_300\n",
      "2019-08-11 15:35:43,265 INFO loading Word2VecKeyedVectors object from ../preprocessed_data/fasttext/full_trained/w2v_embedding_skipgram_300\n",
      "2019-08-11 15:35:44,048 INFO loading wv recursively from ../preprocessed_data/fasttext/full_trained/w2v_embedding_skipgram_300.wv.* with mmap=None\n",
      "2019-08-11 15:35:44,050 INFO loading vectors_ngrams from ../preprocessed_data/fasttext/full_trained/w2v_embedding_skipgram_300.wv.vectors_ngrams.npy with mmap=None\n",
      "2019-08-11 15:35:44,121 INFO setting ignored attribute vectors_norm to None\n",
      "2019-08-11 15:35:44,122 INFO setting ignored attribute vectors_vocab_norm to None\n",
      "2019-08-11 15:35:44,123 INFO setting ignored attribute vectors_ngrams_norm to None\n",
      "2019-08-11 15:35:44,124 INFO setting ignored attribute buckets_word to None\n",
      "2019-08-11 15:35:44,125 INFO loading vocabulary recursively from ../preprocessed_data/fasttext/full_trained/w2v_embedding_skipgram_300.vocabulary.* with mmap=None\n",
      "2019-08-11 15:35:44,126 INFO loading trainables recursively from ../preprocessed_data/fasttext/full_trained/w2v_embedding_skipgram_300.trainables.* with mmap=None\n",
      "2019-08-11 15:35:44,127 INFO loading vectors_ngrams_lockf from ../preprocessed_data/fasttext/full_trained/w2v_embedding_skipgram_300.trainables.vectors_ngrams_lockf.npy with mmap=None\n",
      "2019-08-11 15:35:44,201 INFO loaded ../preprocessed_data/fasttext/full_trained/w2v_embedding_skipgram_300\n",
      "2019-08-11 15:35:45,639 INFO hit: 0.9358552631578947\n",
      "2019-08-11 15:35:47,391 INFO disparity: 1.0\n",
      "2019-08-11 15:35:48,327 INFO #vectors: 19915, #dimensions: 300\n"
     ]
    }
   ],
   "source": [
    "from word_embed_reader import FineTuneEmbed_ortho_procrustes\n",
    "ft_emb = FineTuneEmbed_ortho_procrustes('../preprocessed_data/fasttext/fine_tuned','fasttext_pre_trained','../preprocessed_data/fasttext/full_trained', 'w2v_embedding_skipgram_300')"
   ]
  },
  {
   "cell_type": "code",
   "execution_count": 4,
   "metadata": {},
   "outputs": [
    {
     "name": "stderr",
     "output_type": "stream",
     "text": [
      "2019-08-11 19:02:05,419 INFO Loading pre-train embeddings from: ../preprocessed_data/fasttext/fine_tuned/fasttext_pre_trained\n",
      "2019-08-11 19:02:05,421 INFO loading Word2VecKeyedVectors object from ../preprocessed_data/fasttext/fine_tuned/fasttext_pre_trained\n",
      "2019-08-11 19:02:07,971 INFO loading vectors from ../preprocessed_data/fasttext/fine_tuned/fasttext_pre_trained.vectors.npy with mmap=None\n",
      "2019-08-11 19:02:08,464 INFO setting ignored attribute vectors_norm to None\n",
      "2019-08-11 19:02:08,470 INFO loaded ../preprocessed_data/fasttext/fine_tuned/fasttext_pre_trained\n",
      "2019-08-11 19:02:08,475 INFO Loading trained embeddings from: ../preprocessed_data/fasttext/full_trained/w2v_embedding_skipgram_300\n",
      "2019-08-11 19:02:08,476 INFO loading Word2VecKeyedVectors object from ../preprocessed_data/fasttext/full_trained/w2v_embedding_skipgram_300\n",
      "2019-08-11 19:02:09,093 INFO loading wv recursively from ../preprocessed_data/fasttext/full_trained/w2v_embedding_skipgram_300.wv.* with mmap=None\n",
      "2019-08-11 19:02:09,095 INFO loading vectors_ngrams from ../preprocessed_data/fasttext/full_trained/w2v_embedding_skipgram_300.wv.vectors_ngrams.npy with mmap=None\n",
      "2019-08-11 19:02:09,151 INFO setting ignored attribute vectors_norm to None\n",
      "2019-08-11 19:02:09,152 INFO setting ignored attribute vectors_vocab_norm to None\n",
      "2019-08-11 19:02:09,153 INFO setting ignored attribute vectors_ngrams_norm to None\n",
      "2019-08-11 19:02:09,154 INFO setting ignored attribute buckets_word to None\n",
      "2019-08-11 19:02:09,155 INFO loading vocabulary recursively from ../preprocessed_data/fasttext/full_trained/w2v_embedding_skipgram_300.vocabulary.* with mmap=None\n",
      "2019-08-11 19:02:09,156 INFO loading trainables recursively from ../preprocessed_data/fasttext/full_trained/w2v_embedding_skipgram_300.trainables.* with mmap=None\n",
      "2019-08-11 19:02:09,156 INFO loading vectors_ngrams_lockf from ../preprocessed_data/fasttext/full_trained/w2v_embedding_skipgram_300.trainables.vectors_ngrams_lockf.npy with mmap=None\n",
      "2019-08-11 19:02:09,213 INFO loaded ../preprocessed_data/fasttext/full_trained/w2v_embedding_skipgram_300\n",
      "2019-08-11 19:02:10,296 INFO hit: 0.9358552631578947\n",
      "2019-08-11 19:02:11,206 INFO CCA fit started\n",
      "2019-08-11 19:16:04,121 INFO CCA transformation complete\n",
      "2019-08-11 19:16:04,708 INFO #vectors: 19915, #dimensions: 300\n"
     ]
    }
   ],
   "source": [
    "from word_embed_reader import FineTuneEmbed_cca\n",
    "ft_emb = FineTuneEmbed_cca('../preprocessed_data/fasttext/fine_tuned','fasttext_pre_trained','../preprocessed_data/fasttext/full_trained', 'w2v_embedding_skipgram_300')"
   ]
  },
  {
   "cell_type": "code",
   "execution_count": 2,
   "metadata": {},
   "outputs": [
    {
     "name": "stderr",
     "output_type": "stream",
     "text": [
      "2019-08-15 21:59:43,046 INFO Loading pre-train embeddings from: ../preprocessed_data/fasttext/fine_tuned/fasttext_pre_trained\n",
      "2019-08-15 21:59:43,049 INFO loading Word2VecKeyedVectors object from ../preprocessed_data/fasttext/fine_tuned/fasttext_pre_trained\n",
      "2019-08-15 21:59:48,249 INFO loading vectors from ../preprocessed_data/fasttext/fine_tuned/fasttext_pre_trained.vectors.npy with mmap=None\n",
      "2019-08-15 22:00:46,745 INFO setting ignored attribute vectors_norm to None\n",
      "2019-08-15 22:00:46,752 INFO loaded ../preprocessed_data/fasttext/fine_tuned/fasttext_pre_trained\n",
      "2019-08-15 22:00:46,757 INFO Loading trained embeddings from: ../preprocessed_data/fasttext/full_trained/w2v_embedding_skipgram_300\n",
      "2019-08-15 22:00:46,758 INFO loading Word2VecKeyedVectors object from ../preprocessed_data/fasttext/full_trained/w2v_embedding_skipgram_300\n",
      "2019-08-15 22:00:55,784 INFO loading wv recursively from ../preprocessed_data/fasttext/full_trained/w2v_embedding_skipgram_300.wv.* with mmap=None\n",
      "2019-08-15 22:00:55,786 INFO loading vectors_ngrams from ../preprocessed_data/fasttext/full_trained/w2v_embedding_skipgram_300.wv.vectors_ngrams.npy with mmap=None\n",
      "2019-08-15 22:01:01,425 INFO setting ignored attribute vectors_norm to None\n",
      "2019-08-15 22:01:01,426 INFO setting ignored attribute vectors_vocab_norm to None\n",
      "2019-08-15 22:01:01,427 INFO setting ignored attribute vectors_ngrams_norm to None\n",
      "2019-08-15 22:01:01,428 INFO setting ignored attribute buckets_word to None\n",
      "2019-08-15 22:01:01,429 INFO loading vocabulary recursively from ../preprocessed_data/fasttext/full_trained/w2v_embedding_skipgram_300.vocabulary.* with mmap=None\n",
      "2019-08-15 22:01:01,431 INFO loading trainables recursively from ../preprocessed_data/fasttext/full_trained/w2v_embedding_skipgram_300.trainables.* with mmap=None\n",
      "2019-08-15 22:01:01,432 INFO loading vectors_ngrams_lockf from ../preprocessed_data/fasttext/full_trained/w2v_embedding_skipgram_300.trainables.vectors_ngrams_lockf.npy with mmap=None\n",
      "2019-08-15 22:01:09,066 INFO loaded ../preprocessed_data/fasttext/full_trained/w2v_embedding_skipgram_300\n",
      "2019-08-15 22:01:10,216 INFO hit: 0.9358552631578947\n",
      "2019-08-15 22:01:11,132 INFO KCCA fit started\n"
     ]
    },
    {
     "name": "stdout",
     "output_type": "stream",
     "text": [
      "Training CCA, gaussian kernel, regularization = 0.0100, 300 components\n"
     ]
    },
    {
     "ename": "MemoryError",
     "evalue": "",
     "output_type": "error",
     "traceback": [
      "\u001b[0;31m---------------------------------------------------------------------------\u001b[0m",
      "\u001b[0;31mMemoryError\u001b[0m                               Traceback (most recent call last)",
      "\u001b[0;32m<ipython-input-2-b8a45b5c83b6>\u001b[0m in \u001b[0;36m<module>\u001b[0;34m\u001b[0m\n\u001b[1;32m      1\u001b[0m \u001b[0;32mfrom\u001b[0m \u001b[0mword_embed_reader\u001b[0m \u001b[0;32mimport\u001b[0m \u001b[0mFineTuneEmbed_kcca\u001b[0m\u001b[0;34m\u001b[0m\u001b[0m\n\u001b[0;32m----> 2\u001b[0;31m \u001b[0mft_emb\u001b[0m \u001b[0;34m=\u001b[0m \u001b[0mFineTuneEmbed_kcca\u001b[0m\u001b[0;34m(\u001b[0m\u001b[0;34m'../preprocessed_data/fasttext/fine_tuned'\u001b[0m\u001b[0;34m,\u001b[0m\u001b[0;34m'fasttext_pre_trained'\u001b[0m\u001b[0;34m,\u001b[0m\u001b[0;34m'../preprocessed_data/fasttext/full_trained'\u001b[0m\u001b[0;34m,\u001b[0m \u001b[0;34m'w2v_embedding_skipgram_300'\u001b[0m\u001b[0;34m)\u001b[0m\u001b[0;34m\u001b[0m\u001b[0m\n\u001b[0m",
      "\u001b[0;32m/sharedfolder/master-thesis/code/word_embed_reader.py\u001b[0m in \u001b[0;36m__init__\u001b[0;34m(self, pre_train_data_path, pre_train_emb_name, full_train_data_path, full_train_emb_name)\u001b[0m\n\u001b[1;32m    322\u001b[0m             \u001b[0mcca\u001b[0m \u001b[0;34m=\u001b[0m \u001b[0mrccaMod\u001b[0m\u001b[0;34m.\u001b[0m\u001b[0mCCA\u001b[0m\u001b[0;34m(\u001b[0m\u001b[0mreg\u001b[0m\u001b[0;34m=\u001b[0m\u001b[0;36m0.01\u001b[0m\u001b[0;34m,\u001b[0m \u001b[0mnumCC\u001b[0m\u001b[0;34m=\u001b[0m\u001b[0mself\u001b[0m\u001b[0;34m.\u001b[0m\u001b[0memb_dim\u001b[0m\u001b[0;34m,\u001b[0m \u001b[0mkernelcca\u001b[0m\u001b[0;34m=\u001b[0m\u001b[0;32mTrue\u001b[0m\u001b[0;34m,\u001b[0m \u001b[0mktype\u001b[0m\u001b[0;34m=\u001b[0m\u001b[0;34m\"gaussian\"\u001b[0m\u001b[0;34m)\u001b[0m\u001b[0;34m\u001b[0m\u001b[0m\n\u001b[1;32m    323\u001b[0m             \u001b[0mlogger\u001b[0m\u001b[0;34m.\u001b[0m\u001b[0minfo\u001b[0m\u001b[0;34m(\u001b[0m\u001b[0;34m\"KCCA fit started\"\u001b[0m\u001b[0;34m)\u001b[0m\u001b[0;34m\u001b[0m\u001b[0m\n\u001b[0;32m--> 324\u001b[0;31m             \u001b[0mcancomps\u001b[0m \u001b[0;34m=\u001b[0m \u001b[0mcca\u001b[0m\u001b[0;34m.\u001b[0m\u001b[0mtrain\u001b[0m\u001b[0;34m(\u001b[0m\u001b[0;34m[\u001b[0m\u001b[0mcommon_pre_train_embedding\u001b[0m\u001b[0;34m,\u001b[0m \u001b[0mcommon_full_train_embedding\u001b[0m\u001b[0;34m]\u001b[0m\u001b[0;34m)\u001b[0m\u001b[0;34m.\u001b[0m\u001b[0mcomps\u001b[0m\u001b[0;34m\u001b[0m\u001b[0m\n\u001b[0m\u001b[1;32m    325\u001b[0m             \u001b[0mcommon_pre_train_embedding\u001b[0m \u001b[0;34m=\u001b[0m \u001b[0mcancomps\u001b[0m\u001b[0;34m[\u001b[0m\u001b[0;36m0\u001b[0m\u001b[0;34m]\u001b[0m\u001b[0;34m\u001b[0m\u001b[0m\n\u001b[1;32m    326\u001b[0m             \u001b[0mcommon_full_train_embedding\u001b[0m \u001b[0;34m=\u001b[0m \u001b[0mcancomps\u001b[0m\u001b[0;34m[\u001b[0m\u001b[0;36m1\u001b[0m\u001b[0;34m]\u001b[0m\u001b[0;34m\u001b[0m\u001b[0m\n",
      "\u001b[0;32m/sharedfolder/master-thesis/code/rccaMod.py\u001b[0m in \u001b[0;36mtrain\u001b[0;34m(self, data)\u001b[0m\n\u001b[1;32m    175\u001b[0m \u001b[0;34m\u001b[0m\u001b[0m\n\u001b[1;32m    176\u001b[0m     \u001b[0;32mdef\u001b[0m \u001b[0mtrain\u001b[0m\u001b[0;34m(\u001b[0m\u001b[0mself\u001b[0m\u001b[0;34m,\u001b[0m \u001b[0mdata\u001b[0m\u001b[0;34m)\u001b[0m\u001b[0;34m:\u001b[0m\u001b[0;34m\u001b[0m\u001b[0m\n\u001b[0;32m--> 177\u001b[0;31m         \u001b[0;32mreturn\u001b[0m \u001b[0msuper\u001b[0m\u001b[0;34m(\u001b[0m\u001b[0mCCA\u001b[0m\u001b[0;34m,\u001b[0m \u001b[0mself\u001b[0m\u001b[0;34m)\u001b[0m\u001b[0;34m.\u001b[0m\u001b[0mtrain\u001b[0m\u001b[0;34m(\u001b[0m\u001b[0mdata\u001b[0m\u001b[0;34m)\u001b[0m\u001b[0;34m\u001b[0m\u001b[0m\n\u001b[0m\u001b[1;32m    178\u001b[0m \u001b[0;34m\u001b[0m\u001b[0m\n\u001b[1;32m    179\u001b[0m \u001b[0;32mdef\u001b[0m \u001b[0mpredict\u001b[0m\u001b[0;34m(\u001b[0m\u001b[0mvdata\u001b[0m\u001b[0;34m,\u001b[0m \u001b[0mws\u001b[0m\u001b[0;34m,\u001b[0m \u001b[0mcutoff\u001b[0m \u001b[0;34m=\u001b[0m \u001b[0;36m1e-15\u001b[0m\u001b[0;34m)\u001b[0m\u001b[0;34m:\u001b[0m\u001b[0;34m\u001b[0m\u001b[0m\n",
      "\u001b[0;32m/sharedfolder/master-thesis/code/rccaMod.py\u001b[0m in \u001b[0;36mtrain\u001b[0;34m(self, data)\u001b[0m\n\u001b[1;32m     31\u001b[0m             \u001b[0;32melse\u001b[0m\u001b[0;34m:\u001b[0m\u001b[0;34m\u001b[0m\u001b[0m\n\u001b[1;32m     32\u001b[0m                 \u001b[0mprint\u001b[0m\u001b[0;34m(\u001b[0m\u001b[0;34m\"Training CCA, regularization = %0.4f, %d components\"\u001b[0m \u001b[0;34m%\u001b[0m \u001b[0;34m(\u001b[0m\u001b[0mself\u001b[0m\u001b[0;34m.\u001b[0m\u001b[0mreg\u001b[0m\u001b[0;34m,\u001b[0m \u001b[0mself\u001b[0m\u001b[0;34m.\u001b[0m\u001b[0mnumCC\u001b[0m\u001b[0;34m)\u001b[0m\u001b[0;34m)\u001b[0m\u001b[0;34m\u001b[0m\u001b[0m\n\u001b[0;32m---> 33\u001b[0;31m         \u001b[0mcomps\u001b[0m \u001b[0;34m=\u001b[0m \u001b[0mkcca\u001b[0m\u001b[0;34m(\u001b[0m\u001b[0mdata\u001b[0m\u001b[0;34m,\u001b[0m \u001b[0mself\u001b[0m\u001b[0;34m.\u001b[0m\u001b[0mreg\u001b[0m\u001b[0;34m,\u001b[0m \u001b[0mself\u001b[0m\u001b[0;34m.\u001b[0m\u001b[0mnumCC\u001b[0m\u001b[0;34m,\u001b[0m \u001b[0mkernelcca\u001b[0m \u001b[0;34m=\u001b[0m \u001b[0mself\u001b[0m\u001b[0;34m.\u001b[0m\u001b[0mkernelcca\u001b[0m\u001b[0;34m,\u001b[0m \u001b[0mktype\u001b[0m \u001b[0;34m=\u001b[0m \u001b[0mself\u001b[0m\u001b[0;34m.\u001b[0m\u001b[0mktype\u001b[0m\u001b[0;34m,\u001b[0m \u001b[0mgausigma\u001b[0m \u001b[0;34m=\u001b[0m \u001b[0mself\u001b[0m\u001b[0;34m.\u001b[0m\u001b[0mgausigma\u001b[0m\u001b[0;34m,\u001b[0m \u001b[0mdegree\u001b[0m \u001b[0;34m=\u001b[0m \u001b[0mself\u001b[0m\u001b[0;34m.\u001b[0m\u001b[0mdegree\u001b[0m\u001b[0;34m)\u001b[0m\u001b[0;34m\u001b[0m\u001b[0m\n\u001b[0m\u001b[1;32m     34\u001b[0m         \u001b[0mself\u001b[0m\u001b[0;34m.\u001b[0m\u001b[0mcancorrs\u001b[0m\u001b[0;34m,\u001b[0m \u001b[0mself\u001b[0m\u001b[0;34m.\u001b[0m\u001b[0mws\u001b[0m\u001b[0;34m,\u001b[0m \u001b[0mself\u001b[0m\u001b[0;34m.\u001b[0m\u001b[0mcomps\u001b[0m \u001b[0;34m=\u001b[0m \u001b[0mrecon\u001b[0m\u001b[0;34m(\u001b[0m\u001b[0mdata\u001b[0m\u001b[0;34m,\u001b[0m \u001b[0mcomps\u001b[0m\u001b[0;34m,\u001b[0m \u001b[0mkernelcca\u001b[0m \u001b[0;34m=\u001b[0m \u001b[0mself\u001b[0m\u001b[0;34m.\u001b[0m\u001b[0mkernelcca\u001b[0m\u001b[0;34m)\u001b[0m\u001b[0;34m\u001b[0m\u001b[0m\n\u001b[1;32m     35\u001b[0m         \u001b[0;32mif\u001b[0m \u001b[0mlen\u001b[0m\u001b[0;34m(\u001b[0m\u001b[0mdata\u001b[0m\u001b[0;34m)\u001b[0m \u001b[0;34m==\u001b[0m \u001b[0;36m2\u001b[0m\u001b[0;34m:\u001b[0m\u001b[0;34m\u001b[0m\u001b[0m\n",
      "\u001b[0;32m/sharedfolder/master-thesis/code/rccaMod.py\u001b[0m in \u001b[0;36mkcca\u001b[0;34m(data, reg, numCC, kernelcca, ktype, gausigma, degree)\u001b[0m\n\u001b[1;32m    210\u001b[0m     \u001b[0;31m# Get the kernel auto- and cross-covariance matrices\u001b[0m\u001b[0;34m\u001b[0m\u001b[0;34m\u001b[0m\u001b[0m\n\u001b[1;32m    211\u001b[0m     \u001b[0;32mif\u001b[0m \u001b[0mkernelcca\u001b[0m\u001b[0;34m:\u001b[0m\u001b[0;34m\u001b[0m\u001b[0m\n\u001b[0;32m--> 212\u001b[0;31m         \u001b[0mcrosscovs\u001b[0m \u001b[0;34m=\u001b[0m \u001b[0;34m[\u001b[0m\u001b[0mnp\u001b[0m\u001b[0;34m.\u001b[0m\u001b[0mdot\u001b[0m\u001b[0;34m(\u001b[0m\u001b[0mki\u001b[0m\u001b[0;34m,\u001b[0m \u001b[0mkj\u001b[0m\u001b[0;34m.\u001b[0m\u001b[0mT\u001b[0m\u001b[0;34m)\u001b[0m \u001b[0;32mfor\u001b[0m \u001b[0mki\u001b[0m \u001b[0;32min\u001b[0m \u001b[0mkernel\u001b[0m \u001b[0;32mfor\u001b[0m \u001b[0mkj\u001b[0m \u001b[0;32min\u001b[0m \u001b[0mkernel\u001b[0m\u001b[0;34m]\u001b[0m\u001b[0;34m\u001b[0m\u001b[0m\n\u001b[0m\u001b[1;32m    213\u001b[0m     \u001b[0;32melse\u001b[0m\u001b[0;34m:\u001b[0m\u001b[0;34m\u001b[0m\u001b[0m\n\u001b[1;32m    214\u001b[0m         \u001b[0mcrosscovs\u001b[0m \u001b[0;34m=\u001b[0m \u001b[0;34m[\u001b[0m\u001b[0mnp\u001b[0m\u001b[0;34m.\u001b[0m\u001b[0mdot\u001b[0m\u001b[0;34m(\u001b[0m\u001b[0mki\u001b[0m\u001b[0;34m,\u001b[0m \u001b[0mkj\u001b[0m\u001b[0;34m.\u001b[0m\u001b[0mT\u001b[0m\u001b[0;34m)\u001b[0m\u001b[0;34m.\u001b[0m\u001b[0mT\u001b[0m \u001b[0;32mfor\u001b[0m \u001b[0mki\u001b[0m \u001b[0;32min\u001b[0m \u001b[0mkernel\u001b[0m \u001b[0;32mfor\u001b[0m \u001b[0mkj\u001b[0m \u001b[0;32min\u001b[0m \u001b[0mkernel\u001b[0m\u001b[0;34m]\u001b[0m\u001b[0;34m\u001b[0m\u001b[0m\n",
      "\u001b[0;32m/sharedfolder/master-thesis/code/rccaMod.py\u001b[0m in \u001b[0;36m<listcomp>\u001b[0;34m(.0)\u001b[0m\n\u001b[1;32m    210\u001b[0m     \u001b[0;31m# Get the kernel auto- and cross-covariance matrices\u001b[0m\u001b[0;34m\u001b[0m\u001b[0;34m\u001b[0m\u001b[0m\n\u001b[1;32m    211\u001b[0m     \u001b[0;32mif\u001b[0m \u001b[0mkernelcca\u001b[0m\u001b[0;34m:\u001b[0m\u001b[0;34m\u001b[0m\u001b[0m\n\u001b[0;32m--> 212\u001b[0;31m         \u001b[0mcrosscovs\u001b[0m \u001b[0;34m=\u001b[0m \u001b[0;34m[\u001b[0m\u001b[0mnp\u001b[0m\u001b[0;34m.\u001b[0m\u001b[0mdot\u001b[0m\u001b[0;34m(\u001b[0m\u001b[0mki\u001b[0m\u001b[0;34m,\u001b[0m \u001b[0mkj\u001b[0m\u001b[0;34m.\u001b[0m\u001b[0mT\u001b[0m\u001b[0;34m)\u001b[0m \u001b[0;32mfor\u001b[0m \u001b[0mki\u001b[0m \u001b[0;32min\u001b[0m \u001b[0mkernel\u001b[0m \u001b[0;32mfor\u001b[0m \u001b[0mkj\u001b[0m \u001b[0;32min\u001b[0m \u001b[0mkernel\u001b[0m\u001b[0;34m]\u001b[0m\u001b[0;34m\u001b[0m\u001b[0m\n\u001b[0m\u001b[1;32m    213\u001b[0m     \u001b[0;32melse\u001b[0m\u001b[0;34m:\u001b[0m\u001b[0;34m\u001b[0m\u001b[0m\n\u001b[1;32m    214\u001b[0m         \u001b[0mcrosscovs\u001b[0m \u001b[0;34m=\u001b[0m \u001b[0;34m[\u001b[0m\u001b[0mnp\u001b[0m\u001b[0;34m.\u001b[0m\u001b[0mdot\u001b[0m\u001b[0;34m(\u001b[0m\u001b[0mki\u001b[0m\u001b[0;34m,\u001b[0m \u001b[0mkj\u001b[0m\u001b[0;34m.\u001b[0m\u001b[0mT\u001b[0m\u001b[0;34m)\u001b[0m\u001b[0;34m.\u001b[0m\u001b[0mT\u001b[0m \u001b[0;32mfor\u001b[0m \u001b[0mki\u001b[0m \u001b[0;32min\u001b[0m \u001b[0mkernel\u001b[0m \u001b[0;32mfor\u001b[0m \u001b[0mkj\u001b[0m \u001b[0;32min\u001b[0m \u001b[0mkernel\u001b[0m\u001b[0;34m]\u001b[0m\u001b[0;34m\u001b[0m\u001b[0m\n",
      "\u001b[0;31mMemoryError\u001b[0m: "
     ]
    }
   ],
   "source": [
    "from word_embed_reader import FineTuneEmbed_kcca\n",
    "ft_emb = FineTuneEmbed_kcca('../preprocessed_data/fasttext/fine_tuned','fasttext_pre_trained','../preprocessed_data/fasttext/full_trained', 'w2v_embedding_skipgram_300')"
   ]
  },
  {
   "cell_type": "code",
   "execution_count": 3,
   "metadata": {},
   "outputs": [
    {
     "ename": "AttributeError",
     "evalue": "'FineTuneEmbed_ortho_procrustes' object has no attribute 'most_similar'",
     "output_type": "error",
     "traceback": [
      "\u001b[0;31m---------------------------------------------------------------------------\u001b[0m",
      "\u001b[0;31mAttributeError\u001b[0m                            Traceback (most recent call last)",
      "\u001b[0;32m<ipython-input-3-2ac373c2e264>\u001b[0m in \u001b[0;36m<module>\u001b[0;34m\u001b[0m\n\u001b[0;32m----> 1\u001b[0;31m \u001b[0mft_emb\u001b[0m\u001b[0;34m.\u001b[0m\u001b[0mmost_similar\u001b[0m\u001b[0;34m(\u001b[0m\u001b[0;34m'teacher'\u001b[0m\u001b[0;34m)\u001b[0m\u001b[0;34m\u001b[0m\u001b[0m\n\u001b[0m",
      "\u001b[0;31mAttributeError\u001b[0m: 'FineTuneEmbed_ortho_procrustes' object has no attribute 'most_similar'"
     ]
    }
   ],
   "source": [
    "ft_emb.most_similar('teacher')"
   ]
  },
  {
   "cell_type": "markdown",
   "metadata": {},
   "source": [
    "### Glove Fine tuning"
   ]
  },
  {
   "cell_type": "code",
   "execution_count": 8,
   "metadata": {},
   "outputs": [
    {
     "name": "stdout",
     "output_type": "stream",
     "text": [
      "hit:0.9961175818080976\n"
     ]
    },
    {
     "name": "stderr",
     "output_type": "stream",
     "text": [
      "/usr/local/lib/python3.5/dist-packages/ipykernel_launcher.py:3: DeprecationWarning: Call to deprecated `wv` (Attribute will be removed in 4.0.0, use self instead).\n",
      "  This is separate from the ipykernel package so we can avoid doing imports until\n"
     ]
    }
   ],
   "source": [
    "c=0\n",
    "for v in vocab:\n",
    "    if v in model.wv.vocab:\n",
    "        c+=1\n",
    "print('hit:{}'.format(c/len(vocab)))"
   ]
  },
  {
   "cell_type": "code",
   "execution_count": 9,
   "metadata": {},
   "outputs": [],
   "source": [
    "model.save('../preprocessed_data/fasttext/fine_tuned/fasttext_pre_trained')"
   ]
  },
  {
   "cell_type": "code",
   "execution_count": 11,
   "metadata": {},
   "outputs": [],
   "source": [
    "m = gensim.models.KeyedVectors.load('../preprocessed_data/fasttext/fine_tuned/fasttext_pre_trained')"
   ]
  },
  {
   "cell_type": "code",
   "execution_count": 13,
   "metadata": {},
   "outputs": [
    {
     "name": "stderr",
     "output_type": "stream",
     "text": [
      "/usr/local/lib/python3.5/dist-packages/ipykernel_launcher.py:1: DeprecationWarning: Call to deprecated `wv` (Attribute will be removed in 4.0.0, use self instead).\n",
      "  \"\"\"Entry point for launching an IPython kernel.\n"
     ]
    },
    {
     "data": {
      "text/plain": [
       "999994"
      ]
     },
     "execution_count": 13,
     "metadata": {},
     "output_type": "execute_result"
    }
   ],
   "source": [
    "len(m.wv.vocab)"
   ]
  },
  {
   "cell_type": "code",
   "execution_count": null,
   "metadata": {},
   "outputs": [],
   "source": []
  }
 ],
 "metadata": {
  "kernelspec": {
   "display_name": "Python 3",
   "language": "python",
   "name": "python3"
  },
  "language_info": {
   "codemirror_mode": {
    "name": "ipython",
    "version": 3
   },
   "file_extension": ".py",
   "mimetype": "text/x-python",
   "name": "python",
   "nbconvert_exporter": "python",
   "pygments_lexer": "ipython3",
   "version": "3.5.2"
  }
 },
 "nbformat": 4,
 "nbformat_minor": 2
}
