{
 "cells": [
  {
   "cell_type": "code",
   "execution_count": 1,
   "metadata": {},
   "outputs": [
    {
     "name": "stderr",
     "output_type": "stream",
     "text": [
      "Using TensorFlow backend.\n"
     ]
    }
   ],
   "source": [
    "import util as ut"
   ]
  },
  {
   "cell_type": "markdown",
   "metadata": {},
   "source": [
    "### Create crosslingual embedding file, concat MUSE output embedding files into one "
   ]
  },
  {
   "cell_type": "code",
   "execution_count": 4,
   "metadata": {},
   "outputs": [],
   "source": [
    "ut.concat__embeddings(['/sharedfolder/MUSE/data/default_supervised_de2en/w2v-MUSE-en.txt',\n",
    "                       '/sharedfolder/MUSE/data/default_supervised_de2en/w2v-MUSE-de.txt'],\n",
    "                     '../MUSE_embedding/supervised/de_2_en/w2v_multi_lingual_embed.txt')"
   ]
  },
  {
   "cell_type": "markdown",
   "metadata": {},
   "source": [
    "### Create bilingual vocab"
   ]
  },
  {
   "cell_type": "code",
   "execution_count": 7,
   "metadata": {},
   "outputs": [],
   "source": [
    "ut.conateFileShutil(['../preprocessed_data/whole_comments_filtered.txt','../preprocessed_data/german/whole_comments_filtered.txt'],'../preprocessed_data/bilingual/whole_comments_filtered.txt')"
   ]
  },
  {
   "cell_type": "markdown",
   "metadata": {},
   "source": [
    "### Convert fine-tuned embedding to MUSE format"
   ]
  },
  {
   "cell_type": "code",
   "execution_count": 10,
   "metadata": {},
   "outputs": [],
   "source": [
    "import pickle\n",
    "import codecs\n",
    "def convert_to_MUSE(file_name, outfile):\n",
    "    print('Loading embeddings from: ' + file_name)\n",
    "    fin = open(file_name, 'rb')\n",
    "    info = pickle.load(fin)\n",
    "    fin.close()\n",
    "    embeddings = info['embeddings']\n",
    "    emb_dim = info['emb_dim']\n",
    "    number_words = len(embeddings)\n",
    "    fout = codecs.open(outfile,'w', encoding='utf-8')\n",
    "    fout.write('{} {}\\n'.format(number_words, emb_dim))\n",
    "    for word in embeddings:\n",
    "        line = word+' '+' '.join(map(str,embeddings[word]))+'\\n'\n",
    "        fout.write(line)\n",
    "    fout.close()"
   ]
  },
  {
   "cell_type": "code",
   "execution_count": 14,
   "metadata": {},
   "outputs": [
    {
     "name": "stdout",
     "output_type": "stream",
     "text": [
      "Loading embeddings from: /sharedfolder/master-thesis/preprocessed_data/german/w2v/fine_tuned/hybrid_embed_ortho_procrsutes\n"
     ]
    }
   ],
   "source": [
    "convert_to_MUSE('/sharedfolder/master-thesis/preprocessed_data/german/w2v/fine_tuned/hybrid_embed_ortho_procrsutes','/sharedfolder/MUSE/data/w2v_de.vec')"
   ]
  },
  {
   "cell_type": "code",
   "execution_count": null,
   "metadata": {},
   "outputs": [],
   "source": []
  }
 ],
 "metadata": {
  "kernelspec": {
   "display_name": "Python 3",
   "language": "python",
   "name": "python3"
  },
  "language_info": {
   "codemirror_mode": {
    "name": "ipython",
    "version": 3
   },
   "file_extension": ".py",
   "mimetype": "text/x-python",
   "name": "python",
   "nbconvert_exporter": "python",
   "pygments_lexer": "ipython3",
   "version": "3.5.2"
  }
 },
 "nbformat": 4,
 "nbformat_minor": 2
}
